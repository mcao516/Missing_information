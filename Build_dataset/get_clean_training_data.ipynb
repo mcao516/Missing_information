{
 "cells": [
  {
   "cell_type": "code",
   "execution_count": null,
   "metadata": {},
   "outputs": [],
   "source": [
    "import json"
   ]
  },
  {
   "cell_type": "markdown",
   "metadata": {},
   "source": [
    "#### Read Dataset & Entities"
   ]
  },
  {
   "cell_type": "code",
   "execution_count": 2,
   "metadata": {},
   "outputs": [],
   "source": [
    "def read_lines(file_path):\n",
    "    files = []\n",
    "    with open(file_path, 'r', encoding='utf-8') as f:\n",
    "        for line in f:\n",
    "            files.append(line.strip())\n",
    "    return files"
   ]
  },
  {
   "cell_type": "code",
   "execution_count": 3,
   "metadata": {},
   "outputs": [],
   "source": [
    "test_source_path = '/home/ml/users/cadencao/XSum/fairseq_files/train.source'\n",
    "test_target_path = '/home/ml/users/cadencao/XSum/fairseq_files/train.target'\n",
    "\n",
    "xsum_source = read_lines(test_source_path)\n",
    "xsum_target = read_lines(test_target_path)"
   ]
  },
  {
   "cell_type": "code",
   "execution_count": 4,
   "metadata": {},
   "outputs": [],
   "source": [
    "xsum_ents = json.load(open('xsum_train_ents.json', 'r'))"
   ]
  },
  {
   "cell_type": "code",
   "execution_count": 5,
   "metadata": {},
   "outputs": [
    {
     "name": "stdout",
     "output_type": "stream",
     "text": [
      "203575\n"
     ]
    }
   ],
   "source": [
    "assert len(xsum_source) == len(xsum_target) == len(xsum_ents)\n",
    "print(len(xsum_target))"
   ]
  },
  {
   "cell_type": "markdown",
   "metadata": {},
   "source": [
    "#### Build Clean Dataset"
   ]
  },
  {
   "cell_type": "code",
   "execution_count": 6,
   "metadata": {},
   "outputs": [],
   "source": [
    "from tqdm import tqdm"
   ]
  },
  {
   "cell_type": "code",
   "execution_count": 7,
   "metadata": {},
   "outputs": [
    {
     "name": "stderr",
     "output_type": "stream",
     "text": [
      "100%|██████████| 203575/203575 [00:02<00:00, 98285.62it/s]\n"
     ]
    }
   ],
   "source": [
    "train_src_clean, train_tgt_clean = [], []\n",
    "labels = []\n",
    "\n",
    "for i in tqdm(range(len(xsum_source))):\n",
    "    tgt_ents = [xsum_target[i][e['start']: e['end']].lower() for e in xsum_ents[i]['ents']]\n",
    "    \n",
    "    entiled = True\n",
    "    for te in tgt_ents:\n",
    "        if te not in xsum_source[i].lower():\n",
    "            entiled = False\n",
    "            labels.append(0.1)\n",
    "            break\n",
    "    \n",
    "    if entiled:\n",
    "        labels.append(0.9)\n",
    "        train_src_clean.append(xsum_source[i])\n",
    "        train_tgt_clean.append(xsum_target[i])"
   ]
  },
  {
   "cell_type": "code",
   "execution_count": 8,
   "metadata": {},
   "outputs": [
    {
     "data": {
      "text/plain": [
       "54019"
      ]
     },
     "execution_count": 8,
     "metadata": {},
     "output_type": "execute_result"
    }
   ],
   "source": [
    "len(train_src_clean)"
   ]
  },
  {
   "cell_type": "code",
   "execution_count": 9,
   "metadata": {},
   "outputs": [
    {
     "data": {
      "text/plain": [
       "'Fears that a nearby dam might collapse are reportedly causing panic and confusion in the Syrian city of Raqqa, a stronghold of the so-called Islamic State (IS) group.'"
      ]
     },
     "execution_count": 9,
     "metadata": {},
     "output_type": "execute_result"
    }
   ],
   "source": [
    "train_tgt_clean[0]"
   ]
  },
  {
   "cell_type": "code",
   "execution_count": 10,
   "metadata": {},
   "outputs": [],
   "source": [
    "assert len(train_src_clean) == len(train_tgt_clean)"
   ]
  },
  {
   "cell_type": "code",
   "execution_count": 11,
   "metadata": {},
   "outputs": [
    {
     "data": {
      "text/plain": [
       "203575"
      ]
     },
     "execution_count": 11,
     "metadata": {},
     "output_type": "execute_result"
    }
   ],
   "source": [
    "len(labels)"
   ]
  },
  {
   "cell_type": "code",
   "execution_count": 12,
   "metadata": {},
   "outputs": [],
   "source": [
    "import numpy as np"
   ]
  },
  {
   "cell_type": "code",
   "execution_count": 13,
   "metadata": {},
   "outputs": [],
   "source": [
    "labels = np.array(labels)\n",
    "np.save('train_weights.npy', labels)    # .npy extension is added if not given"
   ]
  },
  {
   "cell_type": "code",
   "execution_count": 15,
   "metadata": {},
   "outputs": [
    {
     "data": {
      "text/plain": [
       "array([0.1, 0.9, 0.1, 0.1, 0.1, 0.9, 0.1, 0.1, 0.1, 0.1, 0.1, 0.1])"
      ]
     },
     "execution_count": 15,
     "metadata": {},
     "output_type": "execute_result"
    }
   ],
   "source": [
    "labels[:12]"
   ]
  },
  {
   "cell_type": "code",
   "execution_count": 14,
   "metadata": {},
   "outputs": [],
   "source": [
    "# directory = '/home/ml/users/cadencao/XSum/clean_files/'\n",
    "\n",
    "# with open(directory + 'train.source', 'w', encoding='utf-8') as sf:\n",
    "#     with open(directory + 'train.target', 'w', encoding='utf-8') as tf:\n",
    "#         for s, t in zip(train_src_clean, train_tgt_clean):\n",
    "#             sf.write(s + '\\n')\n",
    "#             tf.write(t + '\\n')"
   ]
  }
 ],
 "metadata": {
  "kernelspec": {
   "display_name": "Python 3",
   "language": "python",
   "name": "python3"
  },
  "language_info": {
   "codemirror_mode": {
    "name": "ipython",
    "version": 3
   },
   "file_extension": ".py",
   "mimetype": "text/x-python",
   "name": "python",
   "nbconvert_exporter": "python",
   "pygments_lexer": "ipython3",
   "version": "3.7.9"
  }
 },
 "nbformat": 4,
 "nbformat_minor": 4
}
