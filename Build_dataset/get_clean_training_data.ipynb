{
 "cells": [
  {
   "cell_type": "code",
   "execution_count": 1,
   "metadata": {},
   "outputs": [],
   "source": [
    "import json"
   ]
  },
  {
   "cell_type": "markdown",
   "metadata": {},
   "source": [
    "#### Read Dataset & Entities"
   ]
  },
  {
   "cell_type": "code",
   "execution_count": 2,
   "metadata": {},
   "outputs": [],
   "source": [
    "def read_lines(file_path):\n",
    "    files = []\n",
    "    with open(file_path, 'r', encoding='utf-8') as f:\n",
    "        for line in f:\n",
    "            files.append(line.strip())\n",
    "    return files"
   ]
  },
  {
   "cell_type": "code",
   "execution_count": 3,
   "metadata": {},
   "outputs": [],
   "source": [
    "test_source_path = '/home/ml/cadencao/XSum/fairseq_files/train.source'\n",
    "test_target_path = '/home/ml/cadencao/XSum/fairseq_files/train.target'\n",
    "\n",
    "xsum_source = read_lines(test_source_path)\n",
    "xsum_target = read_lines(test_target_path)"
   ]
  },
  {
   "cell_type": "code",
   "execution_count": 4,
   "metadata": {},
   "outputs": [],
   "source": [
    "xsum_ents = json.load(open('xsum_train_ents.json', 'r'))"
   ]
  },
  {
   "cell_type": "code",
   "execution_count": 5,
   "metadata": {},
   "outputs": [],
   "source": [
    "assert len(xsum_source) == len(xsum_target) == len(xsum_ents)"
   ]
  },
  {
   "cell_type": "markdown",
   "metadata": {},
   "source": [
    "#### Build Clean Dataset"
   ]
  },
  {
   "cell_type": "code",
   "execution_count": 6,
   "metadata": {},
   "outputs": [],
   "source": [
    "from tqdm import tqdm"
   ]
  },
  {
   "cell_type": "code",
   "execution_count": 7,
   "metadata": {},
   "outputs": [
    {
     "name": "stderr",
     "output_type": "stream",
     "text": [
      "100%|██████████| 203575/203575 [00:03<00:00, 60962.91it/s]\n"
     ]
    }
   ],
   "source": [
    "train_src_clean, train_tgt_clean = [], []\n",
    "\n",
    "for i in tqdm(range(len(xsum_source))):\n",
    "#     src_ents = [xsum_source[i][e['start']:e['end']].lower() for e in xsum_ents[i]['src ents']]\n",
    "    tgt_ents = [xsum_target[i][e['start']: e['end']].lower() for e in xsum_ents[i]['ents']]\n",
    "    \n",
    "    entiled = True\n",
    "    for te in tgt_ents:\n",
    "        if te not in xsum_source[i].lower():\n",
    "            entiled = False\n",
    "    \n",
    "    if entiled:\n",
    "        train_src_clean.append(xsum_source[i])\n",
    "        train_tgt_clean.append(xsum_target[i])"
   ]
  },
  {
   "cell_type": "code",
   "execution_count": 8,
   "metadata": {},
   "outputs": [
    {
     "data": {
      "text/plain": [
       "54019"
      ]
     },
     "execution_count": 8,
     "metadata": {},
     "output_type": "execute_result"
    }
   ],
   "source": [
    "len(train_src_clean)"
   ]
  },
  {
   "cell_type": "code",
   "execution_count": 9,
   "metadata": {},
   "outputs": [
    {
     "data": {
      "text/plain": [
       "'Fears that a nearby dam might collapse are reportedly causing panic and confusion in the Syrian city of Raqqa, a stronghold of the so-called Islamic State (IS) group.'"
      ]
     },
     "execution_count": 9,
     "metadata": {},
     "output_type": "execute_result"
    }
   ],
   "source": [
    "train_tgt_clean[0]"
   ]
  },
  {
   "cell_type": "code",
   "execution_count": 10,
   "metadata": {},
   "outputs": [
    {
     "data": {
      "text/plain": [
       "\"These are external links and will open in a new window. IS media channels say US-led airstrikes weakened the Tabqa dam, but US-backed fighters denied hitting the facility. Some reports say civilians have begun to flee, while others say they are being reassured they can stay. US-backed Syrian rebels are trying to capture Raqqa from IS. On Wednesday, the Pentagon said members of the Syrian Democratic Forces (SDF) alliance had been airlifted to positions behind IS lines close to the Tabqa dam, which is about 40km (25 miles) upstream of the city on the Euphrates river. However, the BBC is not able to independently confirm the condition of the IS-held dam - which provides power to the region - nor the orders received by Raqqa's civilians. Earlier the anti-IS activist group, Raqqa is Being Slaughtered Silently, said people had started to flee the city - but that militants had been using loudspeakers to tell them that the dam was safe and that they should not leave. That comes despite IS channels saying the facility was at imminent risk of collapse amid rising water levels. A technical source at the dam told the AFP news agency there had been a power failure - but said damage to the dam would only pose a danger over time, with water levels not rising significantly so far. And another source told the BBC the power had been partially restored. Aside from being strategically important and providing electricity to the region, the dam is believed to be used by IS foreign fighters to plot attacks outside Syria, according to the Pentagon. The United Nations recently warned that damage to it could lead to massive-scale flooding. There were similar concerns last year for a dam outside Mosul, an IS stronghold in northern Iraq. If the Mosul dam burst, floodwaters could kill 1.47 million Iraqis living along the River Tigris, the US embassy said. However, the dam has so far remained in operation. US warplanes are supporting the Iraqi army's mission to retake Mosul from the Islamic State (IS). Meanwhile the Kurdish-led Syrian Democratic Forces, supported by the US, are said to be closing in on Raqqa as well as the Tabqa dam. The UK-based Syrian Observatory for Human Rights said coalition airstrikes had killed 89 civilians in the countryside west of Raqqa in the past week, including 35 in the Badya school, in the village of al-Mansoura.\""
      ]
     },
     "execution_count": 10,
     "metadata": {},
     "output_type": "execute_result"
    }
   ],
   "source": [
    "train_src_clean[0]"
   ]
  },
  {
   "cell_type": "code",
   "execution_count": 11,
   "metadata": {},
   "outputs": [],
   "source": [
    "assert len(train_src_clean) == len(train_tgt_clean)"
   ]
  },
  {
   "cell_type": "code",
   "execution_count": 12,
   "metadata": {},
   "outputs": [],
   "source": [
    "directory = '/home/ml/cadencao/XSum/clean_files/'\n",
    "\n",
    "with open(directory + 'train.source', 'w', encoding='utf-8') as sf:\n",
    "    with open(directory + 'train.target', 'w', encoding='utf-8') as tf:\n",
    "        for s, t in zip(train_src_clean, train_tgt_clean):\n",
    "            sf.write(s + '\\n')\n",
    "            tf.write(t + '\\n')"
   ]
  }
 ],
 "metadata": {
  "kernelspec": {
   "display_name": "Python 3",
   "language": "python",
   "name": "python3"
  },
  "language_info": {
   "codemirror_mode": {
    "name": "ipython",
    "version": 3
   },
   "file_extension": ".py",
   "mimetype": "text/x-python",
   "name": "python",
   "nbconvert_exporter": "python",
   "pygments_lexer": "ipython3",
   "version": "3.7.7"
  }
 },
 "nbformat": 4,
 "nbformat_minor": 4
}
