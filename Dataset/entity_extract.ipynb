{
 "cells": [
  {
   "cell_type": "code",
   "execution_count": 1,
   "metadata": {},
   "outputs": [],
   "source": [
    "import json\n",
    "import spacy\n",
    "\n",
    "nlp = spacy.load('en_core_web_sm')"
   ]
  },
  {
   "cell_type": "markdown",
   "metadata": {},
   "source": [
    "#### Read JSON Data"
   ]
  },
  {
   "cell_type": "code",
   "execution_count": 2,
   "metadata": {},
   "outputs": [],
   "source": [
    "hallucination_data = json.load(open('hallucination_data.json'))\n",
    "factuality_data = json.load(open('factuality_data.json'))"
   ]
  },
  {
   "cell_type": "code",
   "execution_count": 3,
   "metadata": {},
   "outputs": [
    {
     "name": "stdout",
     "output_type": "stream",
     "text": [
      "11184\n",
      "5597\n"
     ]
    }
   ],
   "source": [
    "print(len(hallucination_data))\n",
    "print(len(factuality_data))"
   ]
  },
  {
   "cell_type": "markdown",
   "metadata": {},
   "source": [
    "#### Extract Entity"
   ]
  },
  {
   "cell_type": "code",
   "execution_count": 4,
   "metadata": {},
   "outputs": [],
   "source": [
    "from tqdm import tqdm"
   ]
  },
  {
   "cell_type": "code",
   "execution_count": 5,
   "metadata": {},
   "outputs": [],
   "source": [
    "def process_ents(sentence):\n",
    "    ents = []\n",
    "    for ent in nlp(sentence).to_json()['ents']:\n",
    "        if ent['label'] != 'PERSON':\n",
    "            ents.append(ent)\n",
    "        else:\n",
    "            name_parts = sentence[ent['start']: ent['end']].split()\n",
    "            init_start = ent['start']\n",
    "            for p in name_parts:\n",
    "                ents.append({'start': init_start, 'end': init_start + len(p), 'label': 'PERSON'})\n",
    "                init_start = init_start + len(p) + 1\n",
    "    \n",
    "    for e in ents:\n",
    "        e['type'] = e['label']\n",
    "        e['label'] = -1\n",
    "    return ents"
   ]
  },
  {
   "cell_type": "code",
   "execution_count": 6,
   "metadata": {},
   "outputs": [
    {
     "data": {
      "text/plain": [
       "[{'start': 0, 'end': 4, 'label': -1, 'type': 'PERSON'},\n",
       " {'start': 5, 'end': 12, 'label': -1, 'type': 'PERSON'},\n",
       " {'start': 25, 'end': 28, 'label': -1, 'type': 'CARDINAL'},\n",
       " {'start': 63, 'end': 75, 'label': -1, 'type': 'ORG'},\n",
       " {'start': 102, 'end': 107, 'label': -1, 'type': 'CARDINAL'}]"
      ]
     },
     "execution_count": 6,
     "metadata": {},
     "output_type": "execute_result"
    }
   ],
   "source": [
    "process_ents('Rory McIlroy will take a one-shot lead into the final round of the Wgc-Hsbc champions after carding a Three-Under')"
   ]
  },
  {
   "cell_type": "markdown",
   "metadata": {},
   "source": [
    "#### Build Hallucination & Factuality Dictionary"
   ]
  },
  {
   "cell_type": "code",
   "execution_count": 7,
   "metadata": {},
   "outputs": [],
   "source": [
    "hallucination_dict = {}\n",
    "for d in hallucination_data:\n",
    "    if d['bbcid'] not in hallucination_dict:\n",
    "        hallucination_dict[d['bbcid']] = {}\n",
    "    if d['system'] not in hallucination_dict[d['bbcid']]:\n",
    "        hallucination_dict[d['bbcid']][d['system']] = []\n",
    "    \n",
    "    hallucination_dict[d['bbcid']][d['system']].append(d)"
   ]
  },
  {
   "cell_type": "code",
   "execution_count": 27,
   "metadata": {},
   "outputs": [
    {
     "data": {
      "text/plain": [
       "[{'bbcid': '11154244',\n",
       "  'system': 'BERTS2S',\n",
       "  'summary': 'one in five parents in england eat vegetables at home, a survey suggests.',\n",
       "  'hallucination_type': 'extrinsic',\n",
       "  'hallucinated_span': 'one in five parents',\n",
       "  'worker_id': 'wid_0',\n",
       "  'summary_upper': 'One in five parents in England eat vegetables at home , a survey suggests .',\n",
       "  'hallucinated_span_upper': 'One in five parents'},\n",
       " {'bbcid': '11154244',\n",
       "  'system': 'BERTS2S',\n",
       "  'summary': 'one in five parents in england eat vegetables at home, a survey suggests.',\n",
       "  'hallucination_type': 'extrinsic',\n",
       "  'hallucinated_span': 'one in five parents',\n",
       "  'worker_id': 'wid_1',\n",
       "  'summary_upper': 'One in five parents in England eat vegetables at home , a survey suggests .',\n",
       "  'hallucinated_span_upper': 'One in five parents'},\n",
       " {'bbcid': '11154244',\n",
       "  'system': 'BERTS2S',\n",
       "  'summary': 'one in five parents in england eat vegetables at home, a survey suggests.',\n",
       "  'hallucination_type': 'extrinsic',\n",
       "  'hallucinated_span': 'one in five parents',\n",
       "  'worker_id': 'wid_2',\n",
       "  'summary_upper': 'One in five parents in England eat vegetables at home , a survey suggests .',\n",
       "  'hallucinated_span_upper': 'One in five parents'}]"
      ]
     },
     "execution_count": 27,
     "metadata": {},
     "output_type": "execute_result"
    }
   ],
   "source": [
    "hallucination_dict['11154244']['BERTS2S']"
   ]
  },
  {
   "cell_type": "code",
   "execution_count": 9,
   "metadata": {},
   "outputs": [],
   "source": [
    "factuality_dict = {}\n",
    "for d in factuality_data:\n",
    "    if d['bbcid'] not in factuality_dict:\n",
    "        factuality_dict[d['bbcid']] = {}\n",
    "    if d['system'] not in factuality_dict[d['bbcid']]:\n",
    "        factuality_dict[d['bbcid']][d['system']] = []\n",
    "    \n",
    "    factuality_dict[d['bbcid']][d['system']].append(d)"
   ]
  },
  {
   "cell_type": "code",
   "execution_count": 28,
   "metadata": {},
   "outputs": [
    {
     "data": {
      "text/plain": [
       "[{'bbcid': '11154244',\n",
       "  'system': 'BERTS2S',\n",
       "  'summary': 'one in five parents in england eat vegetables at home, a survey suggests.',\n",
       "  'is_factual': 'no',\n",
       "  'worker_id': 'wid_0',\n",
       "  'summary_upper': 'One in five parents in England eat vegetables at home , a survey suggests .'},\n",
       " {'bbcid': '11154244',\n",
       "  'system': 'BERTS2S',\n",
       "  'summary': 'one in five parents in england eat vegetables at home, a survey suggests.',\n",
       "  'is_factual': 'no',\n",
       "  'worker_id': 'wid_1',\n",
       "  'summary_upper': 'One in five parents in England eat vegetables at home , a survey suggests .'},\n",
       " {'bbcid': '11154244',\n",
       "  'system': 'BERTS2S',\n",
       "  'summary': 'one in five parents in england eat vegetables at home, a survey suggests.',\n",
       "  'is_factual': 'no',\n",
       "  'worker_id': 'wid_2',\n",
       "  'summary_upper': 'One in five parents in England eat vegetables at home , a survey suggests .'}]"
      ]
     },
     "execution_count": 28,
     "metadata": {},
     "output_type": "execute_result"
    }
   ],
   "source": [
    "factuality_dict['11154244']['BERTS2S']"
   ]
  },
  {
   "cell_type": "code",
   "execution_count": 11,
   "metadata": {},
   "outputs": [],
   "source": [
    "def if_factual(bbcid, system):\n",
    "    votes = []\n",
    "    for d in factuality_dict[bbcid][system]:\n",
    "        votes.append(d['is_factual'])\n",
    "    \n",
    "    if votes.count('no') <= 1:\n",
    "        return True\n",
    "    elif votes.count('no') > 1:\n",
    "        return False\n",
    "    else:\n",
    "        raise Exception('Unexpected situation.')"
   ]
  },
  {
   "cell_type": "code",
   "execution_count": 12,
   "metadata": {},
   "outputs": [
    {
     "data": {
      "text/plain": [
       "False"
      ]
     },
     "execution_count": 12,
     "metadata": {},
     "output_type": "execute_result"
    }
   ],
   "source": [
    "if_factual('21267591', 'BERTS2S')"
   ]
  },
  {
   "cell_type": "markdown",
   "metadata": {},
   "source": [
    "#### Label Entity"
   ]
  },
  {
   "cell_type": "code",
   "execution_count": 13,
   "metadata": {},
   "outputs": [],
   "source": [
    "# FACTUALITY - IN SPAN - LABEL\n",
    "# True       - True      true-hallucination\n",
    "# True       - False     non-hallucination\n",
    "# False      - True      false-hallucination (PROBLEM)\n",
    "# False      - False     non-hallucination\n",
    "\n",
    "# When there are multiple hallucinations in a False summary, it's possible that some hallucinations are true and others are false.\n",
    "# To make things easier, we will first label all hallucinations in a false summary as false-hallucination."
   ]
  },
  {
   "cell_type": "code",
   "execution_count": 14,
   "metadata": {},
   "outputs": [],
   "source": [
    "entity_data = {}\n",
    "\n",
    "for h in hallucination_data:\n",
    "    if h['bbcid'] not in entity_data:\n",
    "        entity_data[h['bbcid']] = {}\n",
    "    if h['system'] not in entity_data[h['bbcid']]:\n",
    "        entity_data[h['bbcid']][h['system']] = {\n",
    "            'summary': h['summary'],\n",
    "            'summary_upper': h['summary_upper'],\n",
    "            'ents': process_ents(h['summary_upper'])\n",
    "        }\n",
    "        \n",
    "        for e in entity_data[h['bbcid']][h['system']]['ents']:\n",
    "            e['ent'] = h['summary_upper'][e['start']: e['end']]"
   ]
  },
  {
   "cell_type": "code",
   "execution_count": 15,
   "metadata": {},
   "outputs": [
    {
     "data": {
      "text/plain": [
       "{'summary': 'veteran classical music conductor christopher hogwood has died at the age of 83.',\n",
       " 'summary_upper': 'Veteran classical music conductor Christopher Hogwood has died at the age of 83 .',\n",
       " 'ents': [{'start': 34,\n",
       "   'end': 45,\n",
       "   'label': -1,\n",
       "   'type': 'PERSON',\n",
       "   'ent': 'Christopher'},\n",
       "  {'start': 46, 'end': 53, 'label': -1, 'type': 'PERSON', 'ent': 'Hogwood'},\n",
       "  {'start': 66,\n",
       "   'end': 79,\n",
       "   'label': -1,\n",
       "   'type': 'DATE',\n",
       "   'ent': 'the age of 83'}]}"
      ]
     },
     "execution_count": 15,
     "metadata": {},
     "output_type": "execute_result"
    }
   ],
   "source": [
    "entity_data['29347895']['BERTS2S']"
   ]
  },
  {
   "cell_type": "code",
   "execution_count": 16,
   "metadata": {},
   "outputs": [
    {
     "name": "stdout",
     "output_type": "stream",
     "text": [
      "500\n"
     ]
    }
   ],
   "source": [
    "print(len(entity_data.keys()))"
   ]
  },
  {
   "cell_type": "code",
   "execution_count": 17,
   "metadata": {},
   "outputs": [],
   "source": [
    "def read_document(bbcid):\n",
    "    folder = '/home/ml/cadencao/XSum/xsum-preprocessed/document/'\n",
    "    file_path = folder + '{}.document'.format(bbcid)\n",
    "    \n",
    "    document = None\n",
    "    with open(file_path, 'r') as f:\n",
    "        document = f.read()\n",
    "    return document"
   ]
  },
  {
   "cell_type": "code",
   "execution_count": 18,
   "metadata": {},
   "outputs": [
    {
     "data": {
      "text/plain": [
       "'Share this with\\nEmail\\nFacebook\\nMessenger\\nMessenger\\nTwitter\\nPinterest\\nWhatsApp\\nLinkedin\\nCopy this link\\nResearchers found that four out of five children in England who ate school lunches had tried food at school that they had not tried at home .\\nHalf of parents questioned said their children had asked for foods they had eaten at school to be cooked at home .\\nThe survey , of about 1,000 parents , found the most popular vegetables were carrots , sweetcorn and peas .\\nAubergine , chickpeas and spinach were among the least popular .\\nOf the parents questioned , 628 had children who ate school lunches .\\n( % denotes proportion of parents who said their child would eat each vegetable )\\nEngland \\'s School Food Trust commissioned the research after a survey by the Mumsnet website suggested some parents gave their children packed lunches because they thought they were too fussy to eat anything else .\\nTrust chairman , Rob Rees , said : \" Every parent knows it \\'s a nightmare watching their child push food around the plate .\\n\" School meals can be a great way to help parents encourage their children to try new foods and to increase the variety of foods in their diet . \"\\nMumsnet co-founder , Carrie Longton , said : \" Getting children to eat healthily is every parent \\'s dream , but meal times at home can often be a battle ground and emotionally charged .\\n\" From Mumsnetters \\' experience it seems that once at school there \\'s a desire to fit in with everyone else and even some positive peer pressure to boast about the variety of what foods you can eat .\\n\" School meals have also moved on quite a bit from when Mumsnetters were at school , with healthier options and more variety . \"\\nSchool meals in England now have to comply with strict nutritional guidelines .\\nAbout four in 10 primary school children in England now eat school lunches , slightly more than in secondary schools .\\nMore children in Scotland eat school lunches - about 46 % .\\nThe survey was conducted online between 26 February and 5th March among a panel of parents who had at least one child in school aged 4 - 17 years old .\\n'"
      ]
     },
     "execution_count": 18,
     "metadata": {},
     "output_type": "execute_result"
    }
   ],
   "source": [
    "read_document(11154244)"
   ]
  },
  {
   "cell_type": "code",
   "execution_count": 19,
   "metadata": {},
   "outputs": [],
   "source": [
    "for bbcid in entity_data.keys():\n",
    "    for system in entity_data[bbcid].keys():\n",
    "        if system == 'Gold':\n",
    "            continue\n",
    "        \n",
    "        summary = entity_data[bbcid][system]['summary_upper']\n",
    "        \n",
    "        spans, spans_uppder = [], []\n",
    "        for hd in hallucination_dict[bbcid][system]:\n",
    "            if hd['hallucination_type'] == 'extrinsic':\n",
    "                spans.append(hd['hallucinated_span'])\n",
    "                spans_uppder.append(hd['hallucinated_span_upper'])\n",
    "        assert len(spans) == len(spans_uppder)\n",
    "        \n",
    "        for e in entity_data[bbcid][system]['ents']:\n",
    "            entity = summary[e['start']: e['end']]\n",
    "            \n",
    "            in_span_count = []\n",
    "            for s, su in zip(spans, spans_uppder):\n",
    "                if entity.lower() in s or entity in su:\n",
    "                    in_span_count.append(True)\n",
    "            if len(in_span_count) >= 2:\n",
    "                in_span = True\n",
    "            else:\n",
    "                in_span = False\n",
    "\n",
    "            # FACTUALITY - IN SPAN - LABEL\n",
    "            # True       - True      true-hallucination\n",
    "            # True       - False     non-hallucination\n",
    "            # False      - True      false-hallucination (PROBLEM)\n",
    "            # False      - False     non-hallucination\n",
    "            \n",
    "            try:\n",
    "                if if_factual(bbcid, system) and in_span:\n",
    "                    e['label'] = 1 # true-hallucination\n",
    "                elif if_factual(bbcid, system) and not in_span:\n",
    "                    e['label'] = 0 # non-hallucination\n",
    "                elif not if_factual(bbcid, system) and in_span:\n",
    "                    e['label'] = 2 # false-hallucination\n",
    "                elif not if_factual(bbcid, system) and not in_span:\n",
    "                    e['label'] = 0 # non-hallucination\n",
    "                else:\n",
    "                    print('ERROR!')\n",
    "            except:\n",
    "                break"
   ]
  },
  {
   "cell_type": "code",
   "execution_count": 20,
   "metadata": {},
   "outputs": [
    {
     "data": {
      "text/plain": [
       "{'summary': 'shale gas drilling in lancashire has been suspended after a magnitude-7. 5 earthquake struck.',\n",
       " 'summary_upper': 'Shale gas drilling in Lancashire has been suspended after a Magnitude-7 . 5 earthquake struck .',\n",
       " 'ents': [{'start': 22,\n",
       "   'end': 32,\n",
       "   'label': 0,\n",
       "   'type': 'ORG',\n",
       "   'ent': 'Lancashire'},\n",
       "  {'start': 74, 'end': 75, 'label': 2, 'type': 'CARDINAL', 'ent': '5'}]}"
      ]
     },
     "execution_count": 20,
     "metadata": {},
     "output_type": "execute_result"
    }
   ],
   "source": [
    "entity_data['13599161']['BERTS2S']"
   ]
  },
  {
   "cell_type": "code",
   "execution_count": 21,
   "metadata": {},
   "outputs": [
    {
     "data": {
      "text/plain": [
       "500"
      ]
     },
     "execution_count": 21,
     "metadata": {},
     "output_type": "execute_result"
    }
   ],
   "source": [
    "len(entity_data)"
   ]
  },
  {
   "cell_type": "markdown",
   "metadata": {},
   "source": [
    "#### Save Data"
   ]
  },
  {
   "cell_type": "code",
   "execution_count": 22,
   "metadata": {},
   "outputs": [],
   "source": [
    "import json"
   ]
  },
  {
   "cell_type": "code",
   "execution_count": 23,
   "metadata": {},
   "outputs": [],
   "source": [
    "json.dump(entity_data, open('entity_data.json', 'w'))"
   ]
  },
  {
   "cell_type": "code",
   "execution_count": 24,
   "metadata": {},
   "outputs": [
    {
     "data": {
      "text/plain": [
       "{'summary': \"the director of glasgow school of art ( gsa ) has said the fire which damaged glasgow school of art's ( gsa ) mackintosh\",\n",
       " 'summary_upper': \"The director of Glasgow school of art ( GSA ) has said the fire which damaged Glasgow school of art 's ( GSA ) Mackintosh\",\n",
       " 'ents': [{'start': 16,\n",
       "   'end': 23,\n",
       "   'label': -1,\n",
       "   'type': 'GPE',\n",
       "   'ent': 'Glasgow'},\n",
       "  {'start': 40, 'end': 43, 'label': -1, 'type': 'ORG', 'ent': 'GSA'},\n",
       "  {'start': 78, 'end': 85, 'label': -1, 'type': 'GPE', 'ent': 'Glasgow'}]}"
      ]
     },
     "execution_count": 24,
     "metadata": {},
     "output_type": "execute_result"
    }
   ],
   "source": [
    "entity_data['37839562']['TranS2S']"
   ]
  },
  {
   "cell_type": "code",
   "execution_count": null,
   "metadata": {},
   "outputs": [],
   "source": []
  }
 ],
 "metadata": {
  "kernelspec": {
   "display_name": "Python 3",
   "language": "python",
   "name": "python3"
  },
  "language_info": {
   "codemirror_mode": {
    "name": "ipython",
    "version": 3
   },
   "file_extension": ".py",
   "mimetype": "text/x-python",
   "name": "python",
   "nbconvert_exporter": "python",
   "pygments_lexer": "ipython3",
   "version": "3.7.7"
  }
 },
 "nbformat": 4,
 "nbformat_minor": 4
}
