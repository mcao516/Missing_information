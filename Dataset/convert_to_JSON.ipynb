{
 "cells": [
  {
   "cell_type": "code",
   "execution_count": 1,
   "metadata": {},
   "outputs": [],
   "source": [
    "import csv"
   ]
  },
  {
   "cell_type": "markdown",
   "metadata": {},
   "source": [
    "#### Read Data"
   ]
  },
  {
   "cell_type": "code",
   "execution_count": 2,
   "metadata": {},
   "outputs": [],
   "source": [
    "import copy"
   ]
  },
  {
   "cell_type": "code",
   "execution_count": 3,
   "metadata": {},
   "outputs": [],
   "source": [
    "def process(sentence):\n",
    "    new_sentence = sentence\n",
    "    if \"\\\\'\\\\'\" in new_sentence:\n",
    "        new_sentence = new_sentence.replace(\"\\\\'\\\\'\", '\" ')\n",
    "    if \"\\\\'\" in new_sentence:\n",
    "        new_sentence = new_sentence.replace(\"\\\\'\", \"'\")\n",
    "    \n",
    "    if '\"\"' in new_sentence:\n",
    "        new_sentence = new_sentence.replace('\"\"', '\"')\n",
    "    if '``' in new_sentence:\n",
    "        new_sentence = new_sentence.replace('``', '\"')\n",
    "        \n",
    "    return new_sentence"
   ]
  },
  {
   "cell_type": "code",
   "execution_count": 4,
   "metadata": {},
   "outputs": [
    {
     "name": "stdout",
     "output_type": "stream",
     "text": [
      "['bbcid', 'system', 'summary', 'hallucination_type', 'hallucinated_span', 'worker_id']\n"
     ]
    }
   ],
   "source": [
    "hallucination_data = []\n",
    "with open('xsum_hallucination_annotations/hallucination_annotations_xsum_summaries_processed.csv', newline='') as csvfile:\n",
    "    spamreader = csv.reader(csvfile)\n",
    "    for i, row in enumerate(spamreader):\n",
    "        if i > 0:\n",
    "            hallucination_data.append(\n",
    "                {\n",
    "                    'bbcid': row[0],\n",
    "                    'system': row[1],\n",
    "                    'summary': row[2],\n",
    "                    'hallucination_type': row[3],\n",
    "                    'hallucinated_span': row[4],\n",
    "                    'worker_id': row[5]\n",
    "                })\n",
    "        else:\n",
    "            print(row)"
   ]
  },
  {
   "cell_type": "code",
   "execution_count": 5,
   "metadata": {},
   "outputs": [
    {
     "name": "stdout",
     "output_type": "stream",
     "text": [
      "11184\n",
      "500\n"
     ]
    }
   ],
   "source": [
    "print(len(hallucination_data))\n",
    "print(len(set([i['bbcid'] for i in hallucination_data])))"
   ]
  },
  {
   "cell_type": "code",
   "execution_count": 6,
   "metadata": {},
   "outputs": [
    {
     "name": "stdout",
     "output_type": "stream",
     "text": [
      "['bbcid', 'system', 'summary', 'is_factual', 'worker_id']\n"
     ]
    }
   ],
   "source": [
    "factuality_data = []\n",
    "with open('xsum_hallucination_annotations/factuality_annotations_xsum_summaries_processed.csv', newline='') as csvfile:\n",
    "    spamreader = csv.reader(csvfile)\n",
    "    for i, row in enumerate(spamreader):\n",
    "        if i > 0:\n",
    "            factuality_data.append(\n",
    "                {\n",
    "                    'bbcid': row[0],\n",
    "                    'system': row[1],\n",
    "                    'summary': row[2],\n",
    "                    'is_factual': row[3],\n",
    "                    'worker_id': row[4]\n",
    "                })\n",
    "        else:\n",
    "            print(row)"
   ]
  },
  {
   "cell_type": "code",
   "execution_count": 7,
   "metadata": {},
   "outputs": [
    {
     "name": "stdout",
     "output_type": "stream",
     "text": [
      "5597\n",
      "498\n"
     ]
    }
   ],
   "source": [
    "print(len(factuality_data))\n",
    "print(len(set([i['bbcid'] for i in factuality_data])))"
   ]
  },
  {
   "cell_type": "markdown",
   "metadata": {},
   "source": [
    "#### Expolre"
   ]
  },
  {
   "cell_type": "code",
   "execution_count": 8,
   "metadata": {},
   "outputs": [
    {
     "data": {
      "text/plain": [
       "{'bbcid': '37895159',\n",
       " 'system': 'BERTS2S',\n",
       " 'summary': 'bournemouth manager eddie howe says his side are  struggling \" after losing 2-0 to hull on saturday.\"',\n",
       " 'hallucination_type': 'extrinsic',\n",
       " 'hallucinated_span': 'side are  struggling \" after losing 2-0\"',\n",
       " 'worker_id': 'wid_0'}"
      ]
     },
     "execution_count": 8,
     "metadata": {},
     "output_type": "execute_result"
    }
   ],
   "source": [
    "hallucination_data[17]"
   ]
  },
  {
   "cell_type": "code",
   "execution_count": 9,
   "metadata": {},
   "outputs": [
    {
     "data": {
      "text/plain": [
       "{'bbcid': '29911712',\n",
       " 'system': 'BERTS2S',\n",
       " 'summary': 'more than 50 pupils at a bristol academy have been sent home from school because of a lack of uniform.',\n",
       " 'is_factual': 'no',\n",
       " 'worker_id': 'wid_1'}"
      ]
     },
     "execution_count": 9,
     "metadata": {},
     "output_type": "execute_result"
    }
   ],
   "source": [
    "factuality_data[1]"
   ]
  },
  {
   "cell_type": "code",
   "execution_count": 10,
   "metadata": {},
   "outputs": [],
   "source": [
    "# with open('hallucination_span.txt', 'w', encoding='utf-8') as f:\n",
    "#     for d in hallucination_data:\n",
    "#         f.write(d['hallucinated_span'] + '\\n')"
   ]
  },
  {
   "cell_type": "code",
   "execution_count": 11,
   "metadata": {},
   "outputs": [],
   "source": [
    "# with open('factuality_summary.txt', 'w', encoding='utf-8') as f:\n",
    "#     for d in factuality_data:\n",
    "#         f.write(d['summary'] + '\\n')"
   ]
  },
  {
   "cell_type": "markdown",
   "metadata": {},
   "source": [
    "#### Get Upper Case"
   ]
  },
  {
   "cell_type": "code",
   "execution_count": 12,
   "metadata": {},
   "outputs": [],
   "source": [
    "upper_summaries, upper_spans = [], []\n",
    "\n",
    "with open('hallucination_summary_upper.txt', 'r') as f1:\n",
    "    for upper_summary in f1: \n",
    "        upper_summaries.append(upper_summary.strip())\n",
    "\n",
    "with open('hallucination_span_upper.txt', 'r') as f2:\n",
    "    for upper_span in f2:\n",
    "        upper_spans.append(upper_span.strip())"
   ]
  },
  {
   "cell_type": "code",
   "execution_count": 13,
   "metadata": {},
   "outputs": [
    {
     "name": "stdout",
     "output_type": "stream",
     "text": [
      "11184\n",
      "11184\n"
     ]
    }
   ],
   "source": [
    "print(len(upper_summaries))\n",
    "print(len(upper_spans))"
   ]
  },
  {
   "cell_type": "code",
   "execution_count": 14,
   "metadata": {},
   "outputs": [],
   "source": [
    "for i, h in enumerate(hallucination_data):\n",
    "    h['summary_upper'] = upper_summaries[i]\n",
    "    h['hallucinated_span_upper'] = upper_spans[i]"
   ]
  },
  {
   "cell_type": "code",
   "execution_count": 23,
   "metadata": {},
   "outputs": [
    {
     "data": {
      "text/plain": [
       "{'bbcid': '29347895',\n",
       " 'system': 'BERTS2S',\n",
       " 'summary': 'veteran classical music conductor christopher hogwood has died at the age of 83.',\n",
       " 'hallucination_type': 'extrinsic',\n",
       " 'hallucinated_span': 'age of 83',\n",
       " 'worker_id': 'wid_1',\n",
       " 'summary_upper': 'Veteran classical music conductor Christopher Hogwood has died at the age of 83 .',\n",
       " 'hallucinated_span_upper': 'Age of 83'}"
      ]
     },
     "execution_count": 23,
     "metadata": {},
     "output_type": "execute_result"
    }
   ],
   "source": [
    "hallucination_data[10]"
   ]
  },
  {
   "cell_type": "code",
   "execution_count": 16,
   "metadata": {},
   "outputs": [],
   "source": [
    "upper_factuality = []\n",
    "\n",
    "with open('factuality_summary_upper.txt', 'r') as f:\n",
    "    for summary in f:\n",
    "        summary = summary.strip()\n",
    "        upper_factuality.append(summary)"
   ]
  },
  {
   "cell_type": "code",
   "execution_count": 17,
   "metadata": {},
   "outputs": [
    {
     "name": "stdout",
     "output_type": "stream",
     "text": [
      "5597\n"
     ]
    }
   ],
   "source": [
    "print(len(upper_factuality))"
   ]
  },
  {
   "cell_type": "code",
   "execution_count": 18,
   "metadata": {},
   "outputs": [],
   "source": [
    "for i, h in enumerate(factuality_data):\n",
    "    h['summary_upper'] = upper_factuality[i]"
   ]
  },
  {
   "cell_type": "code",
   "execution_count": 19,
   "metadata": {},
   "outputs": [
    {
     "data": {
      "text/plain": [
       "{'bbcid': '29911712',\n",
       " 'system': 'BERTS2S',\n",
       " 'summary': 'more than 50 pupils at a bristol academy have been sent home from school because of a lack of uniform.',\n",
       " 'is_factual': 'no',\n",
       " 'worker_id': 'wid_0',\n",
       " 'summary_upper': 'More than 50 pupils at a Bristol Academy have been sent home from school because of a lack of uniform .'}"
      ]
     },
     "execution_count": 19,
     "metadata": {},
     "output_type": "execute_result"
    }
   ],
   "source": [
    "factuality_data[0]"
   ]
  },
  {
   "cell_type": "markdown",
   "metadata": {},
   "source": [
    "#### Save as JSON"
   ]
  },
  {
   "cell_type": "code",
   "execution_count": 20,
   "metadata": {},
   "outputs": [],
   "source": [
    "import json"
   ]
  },
  {
   "cell_type": "code",
   "execution_count": 21,
   "metadata": {},
   "outputs": [],
   "source": [
    "json.dump(hallucination_data, open('hallucination_data.json', 'w'))"
   ]
  },
  {
   "cell_type": "code",
   "execution_count": 22,
   "metadata": {},
   "outputs": [],
   "source": [
    "json.dump(factuality_data, open('factuality_data.json', 'w'))"
   ]
  }
 ],
 "metadata": {
  "kernelspec": {
   "display_name": "Python 3",
   "language": "python",
   "name": "python3"
  },
  "language_info": {
   "codemirror_mode": {
    "name": "ipython",
    "version": 3
   },
   "file_extension": ".py",
   "mimetype": "text/x-python",
   "name": "python",
   "nbconvert_exporter": "python",
   "pygments_lexer": "ipython3",
   "version": "3.7.7"
  }
 },
 "nbformat": 4,
 "nbformat_minor": 4
}
