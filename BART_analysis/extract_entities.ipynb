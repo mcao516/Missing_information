{
 "cells": [
  {
   "cell_type": "code",
   "execution_count": 1,
   "metadata": {},
   "outputs": [],
   "source": [
    "import spacy\n",
    "import nltk\n",
    "\n",
    "from nltk.tokenize import word_tokenize\n",
    "from nltk.tag import pos_tag\n",
    "\n",
    "nlp = spacy.load('en')"
   ]
  },
  {
   "cell_type": "markdown",
   "metadata": {},
   "source": [
    "#### Read Dataset"
   ]
  },
  {
   "cell_type": "code",
   "execution_count": 2,
   "metadata": {},
   "outputs": [],
   "source": [
    "def read_lines(file_path):\n",
    "    files = []\n",
    "    with open(file_path, 'r', encoding='utf-8') as f:\n",
    "        for line in f:\n",
    "            files.append(line.strip())\n",
    "    return files"
   ]
  },
  {
   "cell_type": "code",
   "execution_count": 3,
   "metadata": {},
   "outputs": [],
   "source": [
    "DATA_SET='test'"
   ]
  },
  {
   "cell_type": "code",
   "execution_count": 4,
   "metadata": {},
   "outputs": [],
   "source": [
    "test_source_path = '/home/ml/cadencao/cnn-dailymail/cnn_dm/{}.source'.format(DATA_SET)\n",
    "test_target_path = '/home/ml/cadencao/cnn-dailymail/cnn_dm/{}.target'.format(DATA_SET)"
   ]
  },
  {
   "cell_type": "code",
   "execution_count": 5,
   "metadata": {},
   "outputs": [
    {
     "name": "stdout",
     "output_type": "stream",
     "text": [
      "11490\n"
     ]
    }
   ],
   "source": [
    "xsum_source = read_lines(test_source_path)\n",
    "xsum_target = read_lines(test_target_path)\n",
    "\n",
    "assert len(xsum_source) == len(xsum_target)\n",
    "print(len(xsum_source))"
   ]
  },
  {
   "cell_type": "markdown",
   "metadata": {},
   "source": [
    "#### Extract Entity & Save Json"
   ]
  },
  {
   "cell_type": "code",
   "execution_count": 6,
   "metadata": {},
   "outputs": [],
   "source": [
    "from tqdm import tqdm"
   ]
  },
  {
   "cell_type": "code",
   "execution_count": 7,
   "metadata": {},
   "outputs": [
    {
     "name": "stderr",
     "output_type": "stream",
     "text": [
      "11490it [01:58, 96.85it/s]\n"
     ]
    }
   ],
   "source": [
    "xsum_test = []\n",
    "for i, (s, t) in tqdm(enumerate(zip(xsum_source, xsum_target))):\n",
    "    temp_dict = {'id': i}\n",
    "#     source, target = nlp(s), nlp(t)\n",
    "    target = nlp(t)\n",
    "\n",
    "#     temp_dict['src ents'] = source.to_json()['ents']\n",
    "    temp_dict['ents'] = target.to_json()['ents']\n",
    "    \n",
    "    xsum_test.append(temp_dict)"
   ]
  },
  {
   "cell_type": "code",
   "execution_count": 8,
   "metadata": {},
   "outputs": [
    {
     "data": {
      "text/plain": [
       "{'id': 0,\n",
       " 'ents': [{'start': 0, 'end': 9, 'label': 'ORG'},\n",
       "  {'start': 121, 'end': 125, 'label': 'GPE'},\n",
       "  {'start': 130, 'end': 141, 'label': 'ORG'},\n",
       "  {'start': 204, 'end': 218, 'label': 'PERSON'},\n",
       "  {'start': 236, 'end': 245, 'label': 'ORG'}]}"
      ]
     },
     "execution_count": 8,
     "metadata": {},
     "output_type": "execute_result"
    }
   ],
   "source": [
    "xsum_test[0]"
   ]
  },
  {
   "cell_type": "code",
   "execution_count": 9,
   "metadata": {},
   "outputs": [],
   "source": [
    "import json\n",
    "\n",
    "with open('cnndm_{}_ents.json'.format(DATA_SET), 'w') as fout:\n",
    "    json.dump(xsum_test , fout)"
   ]
  },
  {
   "cell_type": "code",
   "execution_count": 10,
   "metadata": {},
   "outputs": [
    {
     "name": "stdout",
     "output_type": "stream",
     "text": [
      "11490\n"
     ]
    }
   ],
   "source": [
    "print(len(xsum_test))"
   ]
  },
  {
   "cell_type": "code",
   "execution_count": null,
   "metadata": {},
   "outputs": [],
   "source": []
  }
 ],
 "metadata": {
  "kernelspec": {
   "display_name": "Python 3",
   "language": "python",
   "name": "python3"
  },
  "language_info": {
   "codemirror_mode": {
    "name": "ipython",
    "version": 3
   },
   "file_extension": ".py",
   "mimetype": "text/x-python",
   "name": "python",
   "nbconvert_exporter": "python",
   "pygments_lexer": "ipython3",
   "version": "3.7.7"
  }
 },
 "nbformat": 4,
 "nbformat_minor": 4
}
