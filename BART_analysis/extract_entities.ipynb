{
 "cells": [
  {
   "cell_type": "code",
   "execution_count": 1,
   "metadata": {},
   "outputs": [],
   "source": [
    "import spacy\n",
    "import nltk\n",
    "\n",
    "from nltk.tokenize import word_tokenize\n",
    "from nltk.tag import pos_tag\n",
    "\n",
    "nlp = spacy.load('en')"
   ]
  },
  {
   "cell_type": "markdown",
   "metadata": {},
   "source": [
    "#### Read Dataset"
   ]
  },
  {
   "cell_type": "code",
   "execution_count": 2,
   "metadata": {},
   "outputs": [],
   "source": [
    "def read_lines(file_path):\n",
    "    files = []\n",
    "    with open(file_path, 'r', encoding='utf-8') as f:\n",
    "        for line in f:\n",
    "            files.append(line.strip())\n",
    "    return files"
   ]
  },
  {
   "cell_type": "code",
   "execution_count": 3,
   "metadata": {},
   "outputs": [],
   "source": [
    "test_source_path = '/home/ml/cadencao/XSum/fairseq_files/val.source'\n",
    "test_target_path = '/home/ml/cadencao/XSum/fairseq_files/val.target'\n",
    "# xsum_test_prediction = 'preds/cedar_xsum_test_sep13.hypo'"
   ]
  },
  {
   "cell_type": "code",
   "execution_count": 4,
   "metadata": {},
   "outputs": [],
   "source": [
    "xsum_source = read_lines(test_source_path)\n",
    "xsum_target = read_lines(test_target_path)\n",
    "# xsum_preds = read_lines(xsum_test_prediction)\n",
    "\n",
    "# assert len(xsum_source) == len(xsum_target) == len(xsum_preds)\n",
    "# print(len(xsum_source))"
   ]
  },
  {
   "cell_type": "markdown",
   "metadata": {},
   "source": [
    "#### Extract Entity & Save Json"
   ]
  },
  {
   "cell_type": "code",
   "execution_count": 6,
   "metadata": {},
   "outputs": [],
   "source": [
    "from tqdm import tqdm"
   ]
  },
  {
   "cell_type": "code",
   "execution_count": 7,
   "metadata": {},
   "outputs": [
    {
     "name": "stderr",
     "output_type": "stream",
     "text": [
      "11307it [09:38, 19.56it/s]\n"
     ]
    }
   ],
   "source": [
    "xsum_test = []\n",
    "for i, (s, t) in tqdm(enumerate(zip(xsum_source, xsum_target))):\n",
    "    temp_dict = {'id': i}\n",
    "    source, target = nlp(s), nlp(t)\n",
    "    \n",
    "    temp_dict['src ents'] = source.to_json()['ents']\n",
    "    temp_dict['ents'] = target.to_json()['ents']\n",
    "    \n",
    "    xsum_test.append(temp_dict)"
   ]
  },
  {
   "cell_type": "code",
   "execution_count": 8,
   "metadata": {},
   "outputs": [
    {
     "data": {
      "text/plain": [
       "{'id': 0,\n",
       " 'src ents': [{'start': 2, 'end': 8, 'label': 'NORP'},\n",
       "  {'start': 51, 'end': 71, 'label': 'DATE'},\n",
       "  {'start': 102, 'end': 105, 'label': 'CARDINAL'},\n",
       "  {'start': 136, 'end': 146, 'label': 'CARDINAL'},\n",
       "  {'start': 167, 'end': 172, 'label': 'PERSON'},\n",
       "  {'start': 175, 'end': 178, 'label': 'MONEY'},\n",
       "  {'start': 211, 'end': 223, 'label': 'DATE'},\n",
       "  {'start': 325, 'end': 334, 'label': 'CARDINAL'},\n",
       "  {'start': 427, 'end': 437, 'label': 'ORG'},\n",
       "  {'start': 458, 'end': 466, 'label': 'NORP'},\n",
       "  {'start': 477, 'end': 483, 'label': 'ORG'},\n",
       "  {'start': 493, 'end': 518, 'label': 'PERSON'},\n",
       "  {'start': 552, 'end': 566, 'label': 'ORG'},\n",
       "  {'start': 591, 'end': 603, 'label': 'CARDINAL'},\n",
       "  {'start': 901, 'end': 919, 'label': 'PERSON'},\n",
       "  {'start': 1150, 'end': 1164, 'label': 'PERSON'},\n",
       "  {'start': 1222, 'end': 1224, 'label': 'CARDINAL'},\n",
       "  {'start': 1235, 'end': 1247, 'label': 'CARDINAL'},\n",
       "  {'start': 1330, 'end': 1336, 'label': 'GPE'},\n",
       "  {'start': 1358, 'end': 1370, 'label': 'PERSON'},\n",
       "  {'start': 1458, 'end': 1471, 'label': 'PERSON'},\n",
       "  {'start': 1484, 'end': 1486, 'label': 'CARDINAL'},\n",
       "  {'start': 1634, 'end': 1642, 'label': 'CARDINAL'},\n",
       "  {'start': 1680, 'end': 1687, 'label': 'GPE'},\n",
       "  {'start': 1701, 'end': 1706, 'label': 'GPE'}],\n",
       " 'ents': [{'start': 0, 'end': 5, 'label': 'CARDINAL'},\n",
       "  {'start': 13, 'end': 23, 'label': 'ORG'},\n",
       "  {'start': 97, 'end': 100, 'label': 'CARDINAL'}]}"
      ]
     },
     "execution_count": 8,
     "metadata": {},
     "output_type": "execute_result"
    }
   ],
   "source": [
    "xsum_test[0]"
   ]
  },
  {
   "cell_type": "code",
   "execution_count": 9,
   "metadata": {},
   "outputs": [],
   "source": [
    "import json\n",
    "\n",
    "with open('xsum_train.json', 'w') as fout:\n",
    "    json.dump(xsum_test , fout)"
   ]
  },
  {
   "cell_type": "code",
   "execution_count": 10,
   "metadata": {},
   "outputs": [
    {
     "name": "stdout",
     "output_type": "stream",
     "text": [
      "11307\n"
     ]
    }
   ],
   "source": [
    "print(len(xsum_test))"
   ]
  }
 ],
 "metadata": {
  "kernelspec": {
   "display_name": "Python 3",
   "language": "python",
   "name": "python3"
  },
  "language_info": {
   "codemirror_mode": {
    "name": "ipython",
    "version": 3
   },
   "file_extension": ".py",
   "mimetype": "text/x-python",
   "name": "python",
   "nbconvert_exporter": "python",
   "pygments_lexer": "ipython3",
   "version": "3.7.7"
  }
 },
 "nbformat": 4,
 "nbformat_minor": 4
}
