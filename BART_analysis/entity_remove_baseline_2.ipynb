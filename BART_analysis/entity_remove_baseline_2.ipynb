{
 "cells": [
  {
   "cell_type": "code",
   "execution_count": 1,
   "metadata": {},
   "outputs": [],
   "source": [
    "import json"
   ]
  },
  {
   "cell_type": "markdown",
   "metadata": {},
   "source": [
    "#### Read Data"
   ]
  },
  {
   "cell_type": "code",
   "execution_count": 3,
   "metadata": {},
   "outputs": [],
   "source": [
    "def read_lines(file_path):\n",
    "    files = []\n",
    "    with open(file_path, 'r', encoding='utf-8') as f:\n",
    "        for line in f:\n",
    "            files.append(line.strip())\n",
    "    return files"
   ]
  },
  {
   "cell_type": "code",
   "execution_count": 4,
   "metadata": {},
   "outputs": [],
   "source": [
    "test_source_path = '/home/ml/cadencao/XSum/fairseq_files/train.source'\n",
    "test_target_path = '/home/ml/cadencao/XSum/fairseq_files/train.target'\n",
    "\n",
    "xsum_source = read_lines(test_source_path)\n",
    "xsum_target = read_lines(test_target_path)"
   ]
  },
  {
   "cell_type": "code",
   "execution_count": 5,
   "metadata": {},
   "outputs": [],
   "source": [
    "xsum_ents = json.load(open('xsum_train_ents.json', 'r'))"
   ]
  },
  {
   "cell_type": "code",
   "execution_count": 6,
   "metadata": {},
   "outputs": [],
   "source": [
    "assert len(xsum_source) == len(xsum_target) == len(xsum_ents)"
   ]
  },
  {
   "cell_type": "markdown",
   "metadata": {},
   "source": [
    "#### Baseline"
   ]
  },
  {
   "cell_type": "code",
   "execution_count": 7,
   "metadata": {},
   "outputs": [],
   "source": [
    "from tqdm import tqdm"
   ]
  },
  {
   "cell_type": "code",
   "execution_count": 15,
   "metadata": {},
   "outputs": [
    {
     "name": "stderr",
     "output_type": "stream",
     "text": [
      "100%|██████████| 203575/203575 [00:01<00:00, 133961.68it/s]\n"
     ]
    }
   ],
   "source": [
    "train_src_clean, train_tgt_clean = [], []\n",
    "processed_text = []\n",
    "\n",
    "for i in tqdm(range(len(xsum_source))):\n",
    "#     src_ents = [xsum_source[i][e['start']:e['end']] for e in xsum_ents[i]['src ents']]\n",
    "#     tgt_ents = [xsum_target[i][e['start']:e['end']] for e in xsum_ents[i]['ents']]\n",
    "\n",
    "    new_dict = {'ents': []}\n",
    "    for ent in xsum_ents[i]['ents']:\n",
    "        if ent['label'] != 'PERSON':\n",
    "            new_dict['ents'].append(ent)\n",
    "        else:\n",
    "            name_parts = xsum_target[i][ent['start']: ent['end']].split()\n",
    "            init_start = ent['start']\n",
    "            for p in name_parts:\n",
    "                new_dict['ents'].append({'start': init_start, 'end': init_start + len(p), 'label': 'PERSON'})\n",
    "                init_start = init_start + len(p) + 1\n",
    "    \n",
    "    tgt_ents = [xsum_target[i][e['start']:e['end']] for e in new_dict['ents']]\n",
    "\n",
    "    p = xsum_target[i]\n",
    "    for te in tgt_ents:\n",
    "        if te not in xsum_source[i]:\n",
    "            p = p.replace(te, \"\")\n",
    "\n",
    "    p = p.strip().replace('  ', ' ')\n",
    "    processed_text.append(p)"
   ]
  },
  {
   "cell_type": "code",
   "execution_count": 16,
   "metadata": {},
   "outputs": [],
   "source": [
    "with open('xsum_test_ent_remove.target', 'w') as file:\n",
    "    for l in processed_text:\n",
    "        file.write(l + '\\n')"
   ]
  }
 ],
 "metadata": {
  "kernelspec": {
   "display_name": "Python 3",
   "language": "python",
   "name": "python3"
  },
  "language_info": {
   "codemirror_mode": {
    "name": "ipython",
    "version": 3
   },
   "file_extension": ".py",
   "mimetype": "text/x-python",
   "name": "python",
   "nbconvert_exporter": "python",
   "pygments_lexer": "ipython3",
   "version": "3.7.7"
  }
 },
 "nbformat": 4,
 "nbformat_minor": 4
}
