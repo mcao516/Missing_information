{
 "cells": [
  {
   "cell_type": "code",
   "execution_count": 1,
   "metadata": {},
   "outputs": [],
   "source": [
    "import math\n",
    "import torch\n",
    "import torch.nn as nn\n",
    "\n",
    "from fairseq.models.bart import BARTModel\n",
    "from utils import read_lines\n",
    "\n",
    "from transformers import BartTokenizer"
   ]
  },
  {
   "cell_type": "code",
   "execution_count": 2,
   "metadata": {},
   "outputs": [],
   "source": [
    "finetuned_bart = BARTModel.from_pretrained('/home/ml/users/cadencao/fairseq/checkpoints/xsum_cmlm_bos',\n",
    "                                           checkpoint_file='checkpoint_best.pt',\n",
    "                                           data_name_or_path='/home/ml/users/cadencao/XSum/fairseq_files/xsum-bin')"
   ]
  },
  {
   "cell_type": "code",
   "execution_count": 3,
   "metadata": {},
   "outputs": [],
   "source": [
    "# bart = BARTModel.from_pretrained('/home/ml/users/cadencao/Downloads/BART_models/bart.large',\n",
    "#                                  checkpoint_file='model.pt',\n",
    "#                                  data_name_or_path='/home/ml/users/cadencao/Downloads/BART_models/bart.large')\n",
    "\n",
    "finetuned_bart = BARTModel.from_pretrained('/home/ml/users/cadencao/fairseq/checkpoints/xsum_cmlm_no_pretrain',\n",
    "                                           checkpoint_file='checkpoint_best.pt',\n",
    "                                           data_name_or_path='/home/ml/users/cadencao/XSum/fairseq_files/xsum-bin')\n",
    "\n",
    "# bart = BARTModel.from_pretrained('/home/ml/users/cadencao/Downloads/BART_models/checkpoints_xsum_clean',\n",
    "#                                  checkpoint_file='checkpoint_best.pt',\n",
    "#                                  data_name_or_path='/home/ml/users/cadencao/XSum/fairseq_files/xsum-bin')"
   ]
  },
  {
   "cell_type": "markdown",
   "metadata": {},
   "source": [
    "#### Read XSum"
   ]
  },
  {
   "cell_type": "code",
   "execution_count": 4,
   "metadata": {},
   "outputs": [
    {
     "name": "stdout",
     "output_type": "stream",
     "text": [
      "11301\n"
     ]
    }
   ],
   "source": [
    "document_path = '/home/ml/users/cadencao/XSum/fairseq_files/test.source'\n",
    "target_path = '/home/ml/users/cadencao/XSum/fairseq_files/test.target'\n",
    "xsum_source = read_lines(document_path)\n",
    "xsum_target = read_lines(target_path)\n",
    "print(len(xsum_source))\n",
    "assert len(xsum_source) == len(xsum_target)"
   ]
  },
  {
   "cell_type": "markdown",
   "metadata": {},
   "source": [
    "#### Generate Summary"
   ]
  },
  {
   "cell_type": "code",
   "execution_count": 5,
   "metadata": {},
   "outputs": [],
   "source": [
    "from fairseq.data.data_utils import collate_tokens"
   ]
  },
  {
   "cell_type": "code",
   "execution_count": 6,
   "metadata": {},
   "outputs": [],
   "source": [
    "class ConditionalSequenceGenerator:\n",
    "    \"\"\"Conditional sequence generator for calculating prior and posterior probability.\"\"\"\n",
    "    def __init__(self, bart):\n",
    "        self.bart = bart\n",
    "        self.tokenizer = BartTokenizer.from_pretrained(\"facebook/bart-large\")\n",
    "        \n",
    "        self.encode_func = bart.encode\n",
    "        self.decode_func = bart.decode\n",
    "        self.max_positions = bart.max_positions\n",
    "        self.encode_line = bart.task.source_dictionary.encode_line\n",
    "        \n",
    "        self._initialize()\n",
    "    \n",
    "    def _initialize(self):\n",
    "        \"\"\"Set BART model to evaluation mode.\"\"\"\n",
    "        self.bart.cuda()\n",
    "        self.bart.eval()\n",
    "        self.bart.half()\n",
    "        \n",
    "    def tokenize(self, input_str, append_bos=False, append_eos=True, left_pad=True):\n",
    "        \"\"\"BPE-encode a sentence (or multiple sentences).\n",
    "\n",
    "        Args:\n",
    "            input_str (str or List[str]): input sentence to be tokenized.\n",
    "            append_bos (bool): self-explained.\n",
    "            append_eos (bool): self-explained.\n",
    "\n",
    "        Return:\n",
    "            input_ids (torch.Tensor): [batch_size, length]\n",
    "            src_lengths (torch.Tensor): [batch_size]\n",
    "        \"\"\"\n",
    "        if type(input_str) == type(''):\n",
    "            input_str = [input_str]\n",
    "\n",
    "        input_ids = []\n",
    "        for ins in input_str:\n",
    "            tokens = self.bart.bpe.encode(ins)  # <mask>: 1279 27932 29\n",
    "            calibration = sum([append_bos, append_eos])\n",
    "            if len(tokens.split(\" \")) > min(self.max_positions) - calibration:\n",
    "                tokens = \" \".join(tokens.split(\" \")[: min(self.max_positions) - calibration])\n",
    "\n",
    "            tokens = \"<s> \" + tokens if append_bos else tokens\n",
    "            tokens = tokens + \" </s>\" if append_eos else tokens\n",
    "            ids = self.encode_line(tokens, append_eos=False).long()\n",
    "            input_ids.append(ids)\n",
    "\n",
    "        input_ids = collate_tokens(input_ids, pad_idx=1, left_pad=left_pad).cuda()\n",
    "        input_lengths = torch.sum(input_ids != 1, dim=1).cuda()\n",
    "\n",
    "        return input_ids, input_lengths\n",
    "    \n",
    "    def tokenize_with_mask(self, input_str):\n",
    "        \"\"\"Tokenize sentence with a special <mask> token in it.\n",
    "\n",
    "        Args:\n",
    "            input_str (str or List[str]): input sentence to be tokenized.\n",
    "\n",
    "        Return:\n",
    "            input_ids (torch.Tensor): [batch_size, length]\n",
    "            src_lengths (torch.Tensor): [batch_size]\n",
    "        \"\"\"\n",
    "        input_ids = self.tokenizer(input_str, return_tensors='pt', padding=True)['input_ids'].cuda()\n",
    "        input_lengths = torch.sum(input_ids != 1, dim=1).cuda()\n",
    "        return input_ids, input_lengths\n",
    "    \n",
    "    def generate(self, src_input, tgt_input=None):\n",
    "        \"\"\"Conditional generation.\"\"\"\n",
    "        input_ids, lengths = self.tokenize(src_input, append_bos=False) \n",
    "        \n",
    "        target_ids = None\n",
    "        if tgt_input is not None:\n",
    "            assert len(src_input) == len(tgt_input), \"source & target length should match.\"\n",
    "            target_ids, _ = self.tokenize(tgt_input, append_bos=False, left_pad=False)\n",
    "        \n",
    "        with torch.no_grad():\n",
    "            encoder_output = self.encode_sequence(input_ids, lengths)\n",
    "            decoder_output = self.decode_sequence(encoder_output, \n",
    "                                                  target_ids=target_ids,\n",
    "                                                  prefix_tokens=[2])\n",
    "        return decoder_output\n",
    "    \n",
    "    def mask_filling(self, src_input, tgt_input=None):\n",
    "        \"\"\"\n",
    "        Filling the mask in sentence(s).\n",
    "        \"\"\"\n",
    "        input_ids, lengths = self.tokenize_with_mask(src_input)\n",
    "        \n",
    "        target_ids = None\n",
    "        if tgt_input is not None:\n",
    "            assert len(src_input) == len(tgt_input), \"source & target length should match.\"\n",
    "            target_ids, _ = self.tokenize(tgt_input, left_pad=False)\n",
    "\n",
    "        with torch.no_grad():\n",
    "            encoder_output = self.encode_sequence(input_ids, lengths)\n",
    "            decoder_output = self.decode_sequence(encoder_output, \n",
    "                                                  target_ids=target_ids,\n",
    "                                                  prefix_tokens=[2, 0])\n",
    "        return decoder_output\n",
    "    \n",
    "    def encode_sequence(self, input_ids, lengths):\n",
    "        return self.bart.model.encoder(input_ids, src_lengths=lengths)\n",
    "        \n",
    "    def decode_sequence(\n",
    "        self,\n",
    "        encoder_out,\n",
    "        target_ids=None,\n",
    "        min_decode_step=3,\n",
    "        max_decode_step=100,\n",
    "        pad_id=1,\n",
    "        eos_id=2,\n",
    "        prefix_tokens=[2, 0],\n",
    "    ):\n",
    "        batch_size = encoder_out['encoder_padding_mask'][0].shape[0]\n",
    "        init_input = torch.tensor([prefix_tokens] * batch_size, dtype=torch.long).cuda()\n",
    "        token_probs, tokens = None, [[] for i in range(batch_size)]\n",
    "        end_mask = torch.tensor([False] * batch_size).cuda()\n",
    "\n",
    "        softmax = nn.Softmax(dim=1)\n",
    "        for step in range(max_decode_step):\n",
    "            decoder_outputs = self.bart.model.decoder(init_input, encoder_out, features_only=False)\n",
    "            logits = decoder_outputs[0][:, -1, :]  # logits: [batch_size, vocab]\n",
    "            attn = decoder_outputs[1]['attn'][0]  # [batch_size, prev_token_len, src_token_len]\n",
    "\n",
    "            if step + 1 < min_decode_step:\n",
    "                logits[:, eos_id] = -math.inf  # mask <EOS> token when within minimal step\n",
    "            logits[:, pad_id], logits[:, 0] = -math.inf, -math.inf  # never select <PAD> & <BOS> token\n",
    "            probs = softmax(logits)  # probs: [batch_size, vocab]\n",
    "\n",
    "            # select tokens\n",
    "            if target_ids is not None:\n",
    "                selected_token = target_ids[:, step]\n",
    "            else:\n",
    "                value, indices = torch.topk(probs, 5, dim=1)\n",
    "                selected_token = indices[:, 0]\n",
    "\n",
    "            selected_token = selected_token.masked_fill(end_mask, pad_id)\n",
    "            init_input = torch.cat([init_input, selected_token.unsqueeze(1)], dim=-1)\n",
    "            \n",
    "            probs = torch.gather(probs, 1, selected_token.unsqueeze(1)).detach()\n",
    "            probs = probs.masked_fill(end_mask.unsqueeze(1), 1.0)\n",
    "            \n",
    "            # str & probability\n",
    "            token_probs = probs if token_probs is None else torch.cat([token_probs, probs], dim=-1)\n",
    "            for t, s in zip(tokens, selected_token):\n",
    "                t.append(self.decode_func(s.unsqueeze(0)) if s.item() != pad_id else '<pad>')\n",
    "            \n",
    "            # stop generation when all finished\n",
    "            end_mask = torch.logical_or(end_mask, selected_token == eos_id) \n",
    "            if end_mask.sum().item() == batch_size:\n",
    "                break\n",
    "\n",
    "        return init_input, tokens, token_probs\n",
    "    \n",
    "#     def tokenize_with_mask(self, input_str, append_bos=False, append_eos=True, left_pad=True):\n",
    "#         \"\"\"Tokenize sentence with a special <mask> token in it.\n",
    "\n",
    "#         Args:\n",
    "#             input_str (str or List[str]): input sentence to be tokenized.\n",
    "#             append_bos (bool): self-explained.\n",
    "#             append_eos (bool): self-explained.\n",
    "\n",
    "#         Return:\n",
    "#             input_ids (torch.Tensor): [batch_size, length]\n",
    "#             src_lengths (torch.Tensor): [batch_size]\n",
    "#         \"\"\"\n",
    "#         if type(input_str) == type(''):\n",
    "#             input_str = [input_str]\n",
    "\n",
    "#         input_ids = []\n",
    "#         for ins in input_str:\n",
    "#             if ' <mask> ' not in ins:\n",
    "#                 if '<mask> ' in ins:\n",
    "#                     ins = ins.replace('<mask> ', ' <mask> ')\n",
    "#                 elif ' <mask>' in ins:\n",
    "#                     ins = ins.replace(' <mask>', ' <mask> ')\n",
    "#                 elif '<mask>' in ins:\n",
    "#                     ins = ins.replace('<mask>', ' <mask> ')\n",
    "\n",
    "#             tokens = self.bart.bpe.encode(ins)  # <mask>: 1279 27932 29\n",
    "#             assert '1279 27932 29' in tokens\n",
    "#             calibration = sum([append_bos, append_eos])\n",
    "#             if len(tokens.split(\" \")) > min(self.max_positions) - calibration:\n",
    "#                 tokens = \" \".join(tokens.split(\" \")[: min(self.max_positions) - calibration])\n",
    "\n",
    "#             tokens = \"<s> \" + tokens if append_bos else tokens\n",
    "#             tokens = tokens + \" </s>\" if append_eos else tokens\n",
    "#             ids = self.encode_line(tokens.replace('1279 27932 29', '<mask>'), \n",
    "#                                    append_eos=False).long()\n",
    "#             input_ids.append(ids)\n",
    "\n",
    "#         input_ids = collate_tokens(input_ids, pad_idx=1, left_pad=left_pad).cuda()\n",
    "#         input_lengths = torch.sum(input_ids != 1, dim=1).cuda()\n",
    "\n",
    "#         return input_ids, input_lengths"
   ]
  },
  {
   "cell_type": "code",
   "execution_count": 7,
   "metadata": {},
   "outputs": [],
   "source": [
    "def get_probability(position, tokens, probs, entity):\n",
    "    \"\"\"Calculate the probability of a span.\n",
    "\n",
    "    Args:\n",
    "        position: (start, end)\n",
    "        tokens: ['The', ' Archbishop', ' of', ...]\n",
    "        probs: [0.50, 0.49, 0.88, ...]\n",
    "        entity: Rodgers\n",
    "    \"\"\"\n",
    "    assert len(tokens) == len(probs), \"Tokens and token probabilities does not match.\"\n",
    "    \n",
    "    end_pointer, end_pos = 0, []\n",
    "    for t in tokens:\n",
    "        end_pointer += len(t)\n",
    "        end_pos.append(end_pointer)\n",
    "    \n",
    "    assert position[1] in end_pos, \"- {}\\n- {}\\n- {}\\n- {}\\n- {}\\n\".format(position, tokens, probs, entity, end_pos)\n",
    "    last_index = end_pos.index(position[1])\n",
    "    indexes = [last_index]\n",
    "    total_length = len(tokens[last_index])\n",
    "    \n",
    "    while total_length < (position[1] - position[0]):\n",
    "        last_index -= 1\n",
    "        assert last_index >= 0\n",
    "        indexes.append(last_index)\n",
    "        total_length += len(tokens[last_index])\n",
    "    \n",
    "    indexes.reverse()\n",
    "    \n",
    "    generated = ''.join([tokens[i] for i in indexes])\n",
    "    assert entity in generated, 'entity: {}; span: {}'.format(entity, generated)\n",
    "    \n",
    "    prob = 1.0\n",
    "    for i in indexes:\n",
    "        prob *= probs[i]\n",
    "    return prob"
   ]
  },
  {
   "cell_type": "code",
   "execution_count": 8,
   "metadata": {},
   "outputs": [],
   "source": [
    "def get_cmlm_probability(generator, src_input, tgt_input, position, entity):\n",
    "    outputs = generator.generate(src_input, tgt_input=tgt_input)\n",
    "    init_input, tokens, token_probs = outputs\n",
    "    \n",
    "    probs = []\n",
    "    for p, tok, tokp, e in zip(position, tokens, token_probs, entity):\n",
    "        probs.append(get_probability(p, tok, tokp, e).item())\n",
    "    \n",
    "    return probs"
   ]
  },
  {
   "cell_type": "code",
   "execution_count": 9,
   "metadata": {},
   "outputs": [],
   "source": [
    "def get_prior_probability(generator, src_input, tgt_input, position, entity):\n",
    "    assert len(src_input) == len(tgt_input), \"source & target length should match.\"\n",
    "    decoder_output = generator.mask_filling(src_input, tgt_input)\n",
    "    init_input, tokens, token_probs = decoder_output\n",
    "    \n",
    "    probs = []\n",
    "    for p, tok, tokp, e in zip(position, tokens, token_probs, entity):\n",
    "        probs.append(get_probability(p, tok, tokp, e).item())\n",
    "    return probs"
   ]
  },
  {
   "cell_type": "markdown",
   "metadata": {},
   "source": [
    "#### Get Conditional Probability"
   ]
  },
  {
   "cell_type": "code",
   "execution_count": 10,
   "metadata": {},
   "outputs": [],
   "source": [
    "import spacy\n",
    "\n",
    "nlp = spacy.load('en_core_web_sm')"
   ]
  },
  {
   "cell_type": "code",
   "execution_count": 11,
   "metadata": {},
   "outputs": [],
   "source": [
    "INDEX = 9444"
   ]
  },
  {
   "cell_type": "code",
   "execution_count": 12,
   "metadata": {},
   "outputs": [],
   "source": [
    "source = xsum_source[INDEX]\n",
    "target = \"Twin-to-twin transfusion syndrome (TTTS) is being tracked by a hospital in Cardiff in a bid to save the lives of babies born with the condition.\""
   ]
  },
  {
   "cell_type": "code",
   "execution_count": 13,
   "metadata": {},
   "outputs": [],
   "source": [
    "def prepare_inputs(source, target, ent_parts=None):\n",
    "    if ent_parts is None:\n",
    "        ent_parts = nlp(target).to_json()['ents']\n",
    "    \n",
    "    prior_inputs, prior_targets = [], []\n",
    "    posterior_inputs, posterior_targets = [], []\n",
    "    prior_position, posterior_position, entity = [], [], []\n",
    "\n",
    "    for e in ent_parts:\n",
    "        entity.append(target[e['start']: e['end']])\n",
    "\n",
    "        # prior model\n",
    "        prior_position.append((e['start'], e['end']))\n",
    "        prior_inputs.append(target[0: e['start']] + '<mask>' + target[e['end']:])\n",
    "        prior_targets.append(target)\n",
    "\n",
    "        # posterior model\n",
    "        posterior_position.append((e['start'] + 4, e['end'] + 4))\n",
    "\n",
    "        masked_hypothesis = target[0: e['start']] + '###' + target[e['end']:]\n",
    "        masked_hypothesis = '<s> ' + masked_hypothesis + ' <\\s> ' + source\n",
    "        posterior_inputs.append(masked_hypothesis)\n",
    "        posterior_targets.append('<s> ' + target)\n",
    "    \n",
    "    prior_args = (prior_inputs, prior_targets, prior_position, entity)\n",
    "    posterior_args = (posterior_inputs, posterior_targets, posterior_position, entity)\n",
    "    return prior_args, posterior_args"
   ]
  },
  {
   "cell_type": "code",
   "execution_count": 14,
   "metadata": {},
   "outputs": [],
   "source": [
    "pro, pos = prepare_inputs(source, target)"
   ]
  },
  {
   "cell_type": "code",
   "execution_count": 15,
   "metadata": {},
   "outputs": [
    {
     "data": {
      "text/plain": [
       "[0.00289154052734375, 0.001171112060546875]"
      ]
     },
     "execution_count": 15,
     "metadata": {},
     "output_type": "execute_result"
    }
   ],
   "source": [
    "get_prior_probability(ConditionalSequenceGenerator(bart),\n",
    "                      pro[0], pro[1], pro[2], pro[3])"
   ]
  },
  {
   "cell_type": "code",
   "execution_count": 16,
   "metadata": {},
   "outputs": [
    {
     "data": {
      "text/plain": [
       "[0.0, 0.017974853515625]"
      ]
     },
     "execution_count": 16,
     "metadata": {},
     "output_type": "execute_result"
    }
   ],
   "source": [
    "get_cmlm_probability(ConditionalSequenceGenerator(finetuned_bart),\n",
    "                      pos[0], pos[1], pos[2], pos[3])"
   ]
  },
  {
   "cell_type": "markdown",
   "metadata": {},
   "source": [
    "#### Read Annotated Data"
   ]
  },
  {
   "cell_type": "code",
   "execution_count": 17,
   "metadata": {},
   "outputs": [],
   "source": [
    "import json\n",
    "\n",
    "from tqdm import tqdm"
   ]
  },
  {
   "cell_type": "code",
   "execution_count": 18,
   "metadata": {},
   "outputs": [
    {
     "name": "stdout",
     "output_type": "stream",
     "text": [
      "107\n"
     ]
    }
   ],
   "source": [
    "data = json.load(open('annotated.json', 'r'))\n",
    "print(len(data))"
   ]
  },
  {
   "cell_type": "code",
   "execution_count": 19,
   "metadata": {},
   "outputs": [
    {
     "data": {
      "text/plain": [
       "{'id': 5747,\n",
       " 'pred': 'Six teenagers have died from carbon monoxide poisoning after a party at a remote hut in northern Germany, police say.',\n",
       " 'ents': [{'start': 0, 'end': 3, 'label': 0, 'type': 'CARDINAL', 'ent': 'Six'},\n",
       "  {'start': 97, 'end': 104, 'label': 0, 'type': 'GPE', 'ent': 'Germany'}],\n",
       " 'hallucinations': []}"
      ]
     },
     "execution_count": 19,
     "metadata": {},
     "output_type": "execute_result"
    }
   ],
   "source": [
    "data[55]"
   ]
  },
  {
   "cell_type": "code",
   "execution_count": 20,
   "metadata": {},
   "outputs": [
    {
     "name": "stderr",
     "output_type": "stream",
     "text": [
      "100%|██████████| 107/107 [04:49<00:00,  2.71s/it]\n"
     ]
    }
   ],
   "source": [
    "prior_model = ConditionalSequenceGenerator(bart)\n",
    "posterior_model = ConditionalSequenceGenerator(finetuned_bart)\n",
    "\n",
    "for INDEX in tqdm(range(len(data))):\n",
    "    source = xsum_source[data[INDEX]['id']]\n",
    "    target = data[INDEX]['pred']\n",
    "    \n",
    "    pro, pos = prepare_inputs(source, target, data[INDEX]['ents'])\n",
    "    prior_probs = get_prior_probability(prior_model, pro[0], pro[1], pro[2], pro[3])\n",
    "    posterior_probs = get_cmlm_probability(posterior_model, pos[0], pos[1], pos[2], pos[3])\n",
    "    \n",
    "    assert len(prior_probs) == len(posterior_probs) == len(data[INDEX]['ents']), \"{};\\n {};\\n {}\".format(prior_probs, posterior_probs, data[INDEX]['ents'])\n",
    "    for i in range(len(prior_probs)):\n",
    "        data[INDEX]['ents'][i]['prior'] = prior_probs[i]\n",
    "        data[INDEX]['ents'][i]['posterior'] = posterior_probs[i]"
   ]
  },
  {
   "cell_type": "code",
   "execution_count": 21,
   "metadata": {},
   "outputs": [],
   "source": [
    "# import json"
   ]
  },
  {
   "cell_type": "code",
   "execution_count": 22,
   "metadata": {},
   "outputs": [],
   "source": [
    "# with open('prior_posterior.json', 'w') as fout:\n",
    "#     json.dump(prior_posterior , fout)"
   ]
  },
  {
   "cell_type": "markdown",
   "metadata": {},
   "source": [
    "#### Draw Diagram"
   ]
  },
  {
   "cell_type": "code",
   "execution_count": 23,
   "metadata": {},
   "outputs": [],
   "source": [
    "# prior_posterior = json.load(open('prior_posterior.json', 'r'))\n",
    "# print(len(prior_posterior))"
   ]
  },
  {
   "cell_type": "code",
   "execution_count": 24,
   "metadata": {},
   "outputs": [],
   "source": [
    "%matplotlib inline\n",
    "\n",
    "import matplotlib.pyplot as plt"
   ]
  },
  {
   "cell_type": "code",
   "execution_count": 25,
   "metadata": {},
   "outputs": [],
   "source": [
    "prior_posterior = []\n",
    "for d in data:\n",
    "    for e in d['ents']:\n",
    "        e['id'] = d['id']\n",
    "        prior_posterior.append(e)"
   ]
  },
  {
   "cell_type": "code",
   "execution_count": 26,
   "metadata": {},
   "outputs": [
    {
     "data": {
      "image/png": "[encoded data removed]",
      "text/plain": [
       "<Figure size 1440x720 with 1 Axes>"
      ]
     },
     "metadata": {
      "needs_background": "light"
     },
     "output_type": "display_data"
    }
   ],
   "source": [
    "fig, ax = plt.subplots(figsize=(20.0, 10.0))\n",
    "colors = ['tab:blue', 'tab:orange', 'tab:green']\n",
    "\n",
    "no_hallucinated = [(p['prior'], p['posterior']) for p in prior_posterior if p['label'] == 0]\n",
    "hallucinated_true = [(p['prior'], p['posterior']) for p in prior_posterior if p['label'] == 1]\n",
    "hallucinated_false = [(p['prior'], p['posterior']) for p in prior_posterior if p['label'] == 2]\n",
    "hallucinated_intrinsic = [(p['prior'], p['posterior']) for p in prior_posterior if p['label'] == 3]\n",
    "\n",
    "ax.scatter([i[0] for i in no_hallucinated], \n",
    "           [i[1] for i in no_hallucinated], c='tab:blue', s=[i[1]*100 + 40 for i in no_hallucinated], label='Non-hallucination', alpha=0.7)\n",
    "\n",
    "ax.scatter([i[0] for i in hallucinated_true], \n",
    "           [i[1] for i in hallucinated_true], c='tab:green', s=[i[1]*100 + 40 for i in hallucinated_true], label='Hallucination True', alpha=0.65)\n",
    "\n",
    "ax.scatter([i[0] for i in hallucinated_false], \n",
    "           [i[1] for i in hallucinated_false], c='tab:orange', s=[i[1]*100 + 40 for i in hallucinated_false], label='Hallucination False', alpha=0.6)\n",
    "\n",
    "ax.scatter([i[0] for i in hallucinated_intrinsic], \n",
    "           [i[1] for i in hallucinated_intrinsic], c='tab:red', s=[i[1]*100 + 40 for i in hallucinated_intrinsic], label='Intrinsic Hallucination', alpha=0.6)\n",
    "\n",
    "ax.scatter([1.0], [1.0], c='tab:gray', s=10)\n",
    "\n",
    "ax.set_xlabel('Prior Probability')\n",
    "ax.set_ylabel('Posterior Probability')\n",
    "ax.legend()\n",
    "ax.grid(True)\n",
    "\n",
    "plt.savefig('foo.png')\n",
    "plt.show()"
   ]
  },
  {
   "cell_type": "code",
   "execution_count": 27,
   "metadata": {},
   "outputs": [
    {
     "name": "stdout",
     "output_type": "stream",
     "text": [
      "{'start': 109, 'end': 127, 'label': 0, 'type': 'ORG', 'ent': 'the European Union', 'prior': 6.127357482910156e-05, 'posterior': 0.001575469970703125, 'id': 8805}\n",
      "{'start': 35, 'end': 39, 'label': 0, 'type': 'ORG', 'ent': 'TTTS', 'prior': 0.00289154052734375, 'posterior': 0.0, 'id': 9444}\n",
      "{'start': 104, 'end': 109, 'label': 0, 'type': 'ORDINAL', 'ent': 'first', 'prior': 0.91552734375, 'posterior': 0.16650390625, 'id': 7079}\n",
      "{'start': 0, 'end': 19, 'label': 0, 'type': 'ORG', 'ent': 'The Catholic Church', 'prior': 0.00818634033203125, 'posterior': 0.006877899169921875, 'id': 2427}\n",
      "{'start': 137, 'end': 143, 'label': 0, 'type': 'PERSON', 'ent': 'Martin', 'prior': 4.76837158203125e-07, 'posterior': 0.0008625984191894531, 'id': 2427}\n",
      "{'start': 100, 'end': 104, 'label': 0, 'type': 'MONEY', 'ent': '9.40', 'prior': 3.546476364135742e-05, 'posterior': 1.3649463653564453e-05, 'id': 5860}\n",
      "{'start': 0, 'end': 6, 'label': 0, 'type': 'GPE', 'ent': 'Sydney', 'prior': 0.0010499954223632812, 'posterior': 0.0206146240234375, 'id': 10579}\n",
      "{'start': 117, 'end': 126, 'label': 0, 'type': 'DATE', 'ent': 'last year', 'prior': 0.0, 'posterior': 0.014068603515625, 'id': 10579}\n",
      "{'start': 3, 'end': 7, 'label': 0, 'type': 'PERSON', 'ent': 'Abid', 'prior': 0.00021398067474365234, 'posterior': 2.980232238769531e-07, 'id': 5455}\n",
      "{'start': 8, 'end': 14, 'label': 0, 'type': 'PERSON', 'ent': 'Naseer', 'prior': 0.00010353326797485352, 'posterior': 4.589557647705078e-06, 'id': 5455}\n",
      "{'start': 32, 'end': 49, 'label': 0, 'type': 'GPE', 'ent': 'the United States', 'prior': 0.003475189208984375, 'posterior': 0.0014657974243164062, 'id': 5455}\n",
      "{'start': 69, 'end': 77, 'label': 0, 'type': 'ORG', 'ent': 'al-Qaeda', 'prior': 0.00514984130859375, 'posterior': 5.221366882324219e-05, 'id': 5455}\n",
      "{'start': 136, 'end': 146, 'label': 0, 'type': 'GPE', 'ent': 'Manchester', 'prior': 0.04345703125, 'posterior': 0.025787353515625, 'id': 5455}\n",
      "{'start': 35, 'end': 44, 'label': 0, 'type': 'ORG', 'ent': 'BlackRock', 'prior': 0.0036945343017578125, 'posterior': 6.258487701416016e-06, 'id': 2407}\n",
      "{'start': 46, 'end': 54, 'label': 0, 'type': 'PERSON', 'ent': 'Verheydt', 'prior': 6.556510925292969e-07, 'posterior': 0.0, 'id': 416}\n",
      "{'start': 71, 'end': 81, 'label': 0, 'type': 'ORG', 'ent': 'Maastricht', 'prior': 0.0017528533935546875, 'posterior': 0.0, 'id': 416}\n",
      "{'start': 0, 'end': 5, 'label': 0, 'type': 'ORG', 'ent': 'Leigh', 'prior': 0.018646240234375, 'posterior': 0.04364013671875, 'id': 6824}\n",
      "{'start': 44, 'end': 51, 'label': 0, 'type': 'GPE', 'ent': 'Salford', 'prior': 0.01340484619140625, 'posterior': 0.00225067138671875, 'id': 6824}\n",
      "{'start': 52, 'end': 62, 'label': 0, 'type': 'ORG', 'ent': 'Red Devils', 'prior': 0.3232421875, 'posterior': 0.0002168416976928711, 'id': 6824}\n",
      "{'start': 78, 'end': 83, 'label': 0, 'type': 'PERSON', 'ent': 'Chase', 'prior': 0.0001373291015625, 'posterior': 0.00014400482177734375, 'id': 6824}\n",
      "{'start': 57, 'end': 62, 'label': 0, 'type': 'GPE', 'ent': 'Spain', 'prior': 0.013153076171875, 'posterior': 0.00838470458984375, 'id': 1513}\n",
      "{'start': 80, 'end': 82, 'label': 0, 'type': 'PERSON', 'ent': 'de', 'prior': 0.73876953125, 'posterior': 0.00060272216796875, 'id': 1513}\n",
      "{'start': 83, 'end': 86, 'label': 0, 'type': 'PERSON', 'ent': 'Gea', 'prior': 0.99755859375, 'posterior': 0.0006160736083984375, 'id': 1513}\n",
      "{'start': 113, 'end': 124, 'label': 0, 'type': 'ORG', 'ent': 'Real Madrid', 'prior': 0.439453125, 'posterior': 0.0521240234375, 'id': 1513}\n",
      "{'start': 222, 'end': 227, 'label': 0, 'type': 'GPE', 'ent': 'Spain', 'prior': 0.135498046875, 'posterior': 0.021575927734375, 'id': 1513}\n",
      "{'start': 37, 'end': 50, 'label': 0, 'type': 'EVENT', 'ent': 'Bloody Sunday', 'prior': 0.0005350112915039062, 'posterior': 0.0, 'id': 1819}\n",
      "{'start': 104, 'end': 115, 'label': 0, 'type': 'GPE', 'ent': 'Londonderry', 'prior': 0.0013942718505859375, 'posterior': 0.00235748291015625, 'id': 1819}\n",
      "{'start': 0, 'end': 12, 'label': 0, 'type': 'GPE', 'ent': 'South Africa', 'prior': 0.04949951171875, 'posterior': 0.0509033203125, 'id': 560}\n",
      "{'start': 66, 'end': 73, 'label': 0, 'type': 'GPE', 'ent': 'England', 'prior': 0.128662109375, 'posterior': 0.0206756591796875, 'id': 560}\n",
      "{'start': 114, 'end': 121, 'label': 0, 'type': 'DATE', 'ent': 'one-day', 'prior': 0.0777587890625, 'posterior': 0.00817108154296875, 'id': 560}\n",
      "{'start': 2, 'end': 9, 'label': 0, 'type': 'NORP', 'ent': 'British', 'prior': 0.02191162109375, 'posterior': 0.0200653076171875, 'id': 4174}\n",
      "{'start': 36, 'end': 44, 'label': 0, 'type': 'GPE', 'ent': 'Malaysia', 'prior': 0.0229034423828125, 'posterior': 0.028961181640625, 'id': 4174}\n",
      "{'start': 134, 'end': 146, 'label': 0, 'type': 'GPE', 'ent': 'Kuala Lumpur', 'prior': 1.7285346984863281e-06, 'posterior': 0.0, 'id': 4174}\n",
      "{'start': 42, 'end': 47, 'label': 0, 'type': 'PERSON', 'ent': 'Chase', 'prior': 0.0, 'posterior': 9.167194366455078e-05, 'id': 2194}\n",
      "{'start': 55, 'end': 59, 'label': 0, 'type': 'CARDINAL', 'ent': 'five', 'prior': 0.005039215087890625, 'posterior': 0.0031414031982421875, 'id': 922}\n",
      "{'start': 101, 'end': 107, 'label': 0, 'type': 'ORG', 'ent': 'Ofqual', 'prior': 0.0, 'posterior': 0.00015246868133544922, 'id': 922}\n",
      "{'start': 68, 'end': 71, 'label': 0, 'type': 'DATE', 'ent': 'May', 'prior': 0.00428009033203125, 'posterior': 0.0041351318359375, 'id': 10066}\n",
      "{'start': 0, 'end': 6, 'label': 0, 'type': 'PERSON', 'ent': 'Jockey', 'prior': 0.00714874267578125, 'posterior': 4.112720489501953e-06, 'id': 1367}\n",
      "{'start': 7, 'end': 12, 'label': 0, 'type': 'PERSON', 'ent': 'David', 'prior': 0.00099945068359375, 'posterior': 0.005069732666015625, 'id': 1367}\n",
      "{'start': 13, 'end': 20, 'label': 0, 'type': 'PERSON', 'ent': 'Mullins', 'prior': 0.0308685302734375, 'posterior': 2.2649765014648438e-06, 'id': 1367}\n",
      "{'start': 55, 'end': 84, 'label': 0, 'type': 'ORG', 'ent': 'the Grand National at Aintree', 'prior': 1.6629695892333984e-05, 'posterior': 0.0, 'id': 1367}\n",
      "{'start': 107, 'end': 120, 'label': 0, 'type': 'DATE', 'ent': 'the age of 19', 'prior': 0.0005526542663574219, 'posterior': 2.1457672119140625e-06, 'id': 1367}\n",
      "{'start': 42, 'end': 50, 'label': 0, 'type': 'GPE', 'ent': 'Michigan', 'prior': 0.04058837890625, 'posterior': 0.0001010894775390625, 'id': 3211}\n",
      "{'start': 0, 'end': 15, 'label': 0, 'type': 'ORG', 'ent': \"Edinburgh Zoo's\", 'prior': 6.198883056640625e-06, 'posterior': 1.1920928955078125e-07, 'id': 10524}\n",
      "{'start': 67, 'end': 87, 'label': 0, 'type': 'DATE', 'ent': 'the end of the month', 'prior': 0.03851318359375, 'posterior': 0.0002989768981933594, 'id': 10524}\n",
      "{'start': 140, 'end': 145, 'label': 0, 'type': 'LOC', 'ent': 'Estyn', 'prior': 0.0, 'posterior': 2.5331974029541016e-05, 'id': 10488}\n",
      "{'start': 22, 'end': 25, 'label': 0, 'type': 'PERSON', 'ent': 'Rex', 'prior': 0.62646484375, 'posterior': 4.3392181396484375e-05, 'id': 4809}\n",
      "{'start': 26, 'end': 35, 'label': 0, 'type': 'PERSON', 'ent': 'Tillerson', 'prior': 0.9990234375, 'posterior': 0.0003273487091064453, 'id': 4809}\n",
      "{'start': 98, 'end': 109, 'label': 0, 'type': 'CARDINAL', 'ent': 'one million', 'prior': 0.00018334388732910156, 'posterior': 9.000301361083984e-05, 'id': 6228}\n",
      "{'start': 17, 'end': 24, 'label': 0, 'type': 'PERSON', 'ent': 'Michael', 'prior': 0.0002524852752685547, 'posterior': 0.0390625, 'id': 10517}\n",
      "{'start': 25, 'end': 32, 'label': 0, 'type': 'PERSON', 'ent': 'Maguire', 'prior': 0.0088348388671875, 'posterior': 0.0, 'id': 10517}\n",
      "{'start': 136, 'end': 140, 'label': 0, 'type': 'ORG', 'ent': 'PSNI', 'prior': 0.01004791259765625, 'posterior': 0.0002334117889404297, 'id': 10517}\n",
      "{'start': 144, 'end': 160, 'label': 0, 'type': 'GPE', 'ent': 'Northern Ireland', 'prior': 0.0024890899658203125, 'posterior': 0.0227813720703125, 'id': 10517}\n",
      "{'start': 0, 'end': 12, 'label': 0, 'type': 'ORG', 'ent': 'Dundee Stars', 'prior': 5.453824996948242e-05, 'posterior': 7.152557373046875e-07, 'id': 7247}\n",
      "{'start': 24, 'end': 28, 'label': 0, 'type': 'PERSON', 'ent': 'Marc', 'prior': 0.032958984375, 'posterior': 0.0007066726684570312, 'id': 7247}\n",
      "{'start': 29, 'end': 37, 'label': 0, 'type': 'PERSON', 'ent': 'LeFebvre', 'prior': 1.0132789611816406e-06, 'posterior': 0.0, 'id': 7247}\n",
      "{'start': 92, 'end': 104, 'label': 0, 'type': 'ORG', 'ent': 'Elite League', 'prior': 0.00037550926208496094, 'posterior': 0.0002918243408203125, 'id': 7247}\n",
      "{'start': 146, 'end': 157, 'label': 0, 'type': 'DATE', 'ent': 'next season', 'prior': 3.993511199951172e-06, 'posterior': 0.04156494140625, 'id': 7247}\n",
      "{'start': 0, 'end': 7, 'label': 0, 'type': 'ORG', 'ent': 'Cardiff', 'prior': 0.0011129379272460938, 'posterior': 0.0308837890625, 'id': 2724}\n",
      "{'start': 133, 'end': 140, 'label': 0, 'type': 'GPE', 'ent': 'England', 'prior': 0.1605224609375, 'posterior': 0.07366943359375, 'id': 2724}\n",
      "{'start': 162, 'end': 181, 'label': 0, 'type': 'ORG', 'ent': 'Northern Powerhouse', 'prior': 0.007007598876953125, 'posterior': 0.0, 'id': 2724}\n",
      "{'start': 112, 'end': 116, 'label': 0, 'type': 'DATE', 'ent': '2016', 'prior': 0.044952392578125, 'posterior': 0.064453125, 'id': 4630}\n",
      "{'start': 0, 'end': 17, 'label': 0, 'type': 'ORG', 'ent': 'The Supreme Court', 'prior': 0.039154052734375, 'posterior': 0.1622314453125, 'id': 6126}\n",
      "{'start': 20, 'end': 25, 'label': 0, 'type': 'ORDINAL', 'ent': 'first', 'prior': 0.64453125, 'posterior': 0.1351318359375, 'id': 3529}\n",
      "{'start': 73, 'end': 81, 'label': 0, 'type': 'PERSON', 'ent': 'Loganair', 'prior': 2.980232238769531e-07, 'posterior': 5.960464477539063e-08, 'id': 3529}\n",
      "{'start': 109, 'end': 117, 'label': 0, 'type': 'DATE', 'ent': '40 years', 'prior': 0.000659942626953125, 'posterior': 0.0010156631469726562, 'id': 3529}\n",
      "{'start': 0, 'end': 12, 'label': 0, 'type': 'GPE', 'ent': 'Bristol City', 'prior': 0.0030689239501953125, 'posterior': 0.094482421875, 'id': 11006}\n",
      "{'start': 52, 'end': 62, 'label': 0, 'type': 'ORG', 'ent': 'League One', 'prior': 0.0860595703125, 'posterior': 0.017242431640625, 'id': 11006}\n",
      "{'start': 95, 'end': 107, 'label': 0, 'type': 'FAC', 'ent': 'Ipswich Town', 'prior': 4.786252975463867e-05, 'posterior': 0.041168212890625, 'id': 11006}\n",
      "{'start': 82, 'end': 87, 'label': 0, 'type': 'PERSON', 'ent': 'Obama', 'prior': 0.9814453125, 'posterior': 0.0005159378051757812, 'id': 8447}\n",
      "{'start': 0, 'end': 9, 'label': 0, 'type': 'GPE', 'ent': 'Tottenham', 'prior': 0.447998046875, 'posterior': 0.0016908645629882812, 'id': 9980}\n",
      "{'start': 10, 'end': 17, 'label': 0, 'type': 'GPE', 'ent': 'Hotspur', 'prior': 0.017578125, 'posterior': 5.960464477539063e-08, 'id': 9980}\n",
      "{'start': 72, 'end': 81, 'label': 0, 'type': 'PERSON', 'ent': 'MacDonald', 'prior': 0.00011110305786132812, 'posterior': 0.03485107421875, 'id': 8685}\n",
      "{'start': 2, 'end': 17, 'label': 0, 'type': 'ORG', 'ent': 'Conservative MP', 'prior': 0.00850677490234375, 'posterior': 0.026519775390625, 'id': 8558}\n",
      "{'start': 108, 'end': 128, 'label': 0, 'type': 'ORG', 'ent': 'the Welsh Government', 'prior': 0.050567626953125, 'posterior': 0.0132293701171875, 'id': 8558}\n",
      "{'start': 15, 'end': 23, 'label': 0, 'type': 'PERSON', 'ent': 'Narendra', 'prior': 0.62060546875, 'posterior': 0.004299163818359375, 'id': 6931}\n",
      "{'start': 40, 'end': 54, 'label': 0, 'type': 'LOC', 'ent': 'Silicon Valley', 'prior': 0.00042629241943359375, 'posterior': 1.6689300537109375e-06, 'id': 6931}\n",
      "{'start': 103, 'end': 105, 'label': 0, 'type': 'GPE', 'ent': 'US', 'prior': 0.14453125, 'posterior': 0.18408203125, 'id': 6931}\n",
      "{'start': 109, 'end': 127, 'label': 0, 'type': 'DATE', 'ent': 'more than a decade', 'prior': 0.0006685256958007812, 'posterior': 1.5020370483398438e-05, 'id': 6931}\n",
      "{'start': 137, 'end': 142, 'label': 0, 'type': 'ORDINAL', 'ent': 'first', 'prior': 0.599609375, 'posterior': 0.00504302978515625, 'id': 6931}\n",
      "{'start': 167, 'end': 175, 'label': 0, 'type': 'DATE', 'ent': 'May 2014', 'prior': 0.00031685829162597656, 'posterior': 5.364418029785156e-07, 'id': 6931}\n",
      "{'start': 45, 'end': 48, 'label': 0, 'type': 'ORG', 'ent': 'RAF', 'prior': 0.09747314453125, 'posterior': 6.35385513305664e-05, 'id': 6373}\n",
      "{'start': 83, 'end': 90, 'label': 0, 'type': 'TIME', 'ent': 'a night', 'prior': 0.266845703125, 'posterior': 0.0023212432861328125, 'id': 6373}\n",
      "{'start': 98, 'end': 113, 'label': 0, 'type': 'GPE', 'ent': 'Bury St Edmunds', 'prior': 0.0008497238159179688, 'posterior': 0.0, 'id': 6373}\n",
      "{'start': 128, 'end': 132, 'label': 0, 'type': 'ORG', 'ent': 'CCTV', 'prior': 0.369140625, 'posterior': 0.0311431884765625, 'id': 6373}\n",
      "{'start': 143, 'end': 148, 'label': 0, 'type': 'CARDINAL', 'ent': 'three', 'prior': 0.0809326171875, 'posterior': 0.0121917724609375, 'id': 6373}\n",
      "{'start': 0, 'end': 5, 'label': 0, 'type': 'CARDINAL', 'ent': 'Three', 'prior': 0.012725830078125, 'posterior': 0.0189361572265625, 'id': 9961}\n",
      "{'start': 72, 'end': 78, 'label': 0, 'type': 'NORP', 'ent': 'German', 'prior': 0.71484375, 'posterior': 0.07568359375, 'id': 9961}\n",
      "{'start': 87, 'end': 94, 'label': 0, 'type': 'GPE', 'ent': 'Leipzig', 'prior': 0.0239410400390625, 'posterior': 6.556510925292969e-07, 'id': 9961}\n",
      "{'start': 8, 'end': 18, 'label': 0, 'type': 'FAC', 'ent': 'Tiangong-1', 'prior': 0.003772735595703125, 'posterior': 0.0, 'id': 6235}\n",
      "{'start': 21, 'end': 26, 'label': 0, 'type': 'ORG', 'ent': 'Baidu', 'prior': 0.215576171875, 'posterior': 0.003223419189453125, 'id': 5414}\n",
      "{'start': 0, 'end': 7, 'label': 0, 'type': 'GPE', 'ent': 'Belfast', 'prior': 3.0994415283203125e-06, 'posterior': 0.042449951171875, 'id': 1168}\n",
      "{'start': 14, 'end': 21, 'label': 0, 'type': 'NORP', 'ent': 'Mexican', 'prior': 8.165836334228516e-06, 'posterior': 0.0280914306640625, 'id': 1168}\n",
      "{'start': 39, 'end': 45, 'label': 0, 'type': 'PERSON', 'ent': 'Boojum', 'prior': 0.0, 'posterior': 0.0, 'id': 1168}\n",
      "{'start': 4, 'end': 20, 'label': 0, 'type': 'NORP', 'ent': 'Northern Ireland', 'prior': 0.0733642578125, 'posterior': 0.0899658203125, 'id': 7987}\n",
      "{'start': 21, 'end': 40, 'label': 0, 'type': 'ORG', 'ent': 'Chamber of Commerce', 'prior': 0.004871368408203125, 'posterior': 0.0, 'id': 7987}\n",
      "{'start': 103, 'end': 121, 'label': 0, 'type': 'ORG', 'ent': 'the European Union', 'prior': 0.97607421875, 'posterior': 0.0921630859375, 'id': 7987}\n",
      "{'start': 123, 'end': 125, 'label': 0, 'type': 'ORG', 'ent': 'EU', 'prior': 0.96630859375, 'posterior': 0.0005145072937011719, 'id': 7987}\n",
      "{'start': 177, 'end': 193, 'label': 0, 'type': 'GPE', 'ent': 'Northern Ireland', 'prior': 0.0003211498260498047, 'posterior': 0.057952880859375, 'id': 7987}\n",
      "{'start': 35, 'end': 40, 'label': 0, 'type': 'GPE', 'ent': 'Wales', 'prior': 0.003711700439453125, 'posterior': 0.07373046875, 'id': 9128}\n",
      "{'start': 19, 'end': 25, 'label': 0, 'type': 'PERSON', 'ent': 'Broady', 'prior': 0.810546875, 'posterior': 0.03631591796875, 'id': 8495}\n",
      "{'start': 68, 'end': 72, 'label': 0, 'type': 'PERSON', 'ent': 'Chan', 'prior': 0.06658935546875, 'posterior': 4.4226646423339844e-05, 'id': 8495}\n",
      "{'start': 86, 'end': 90, 'label': 0, 'type': 'PERSON', 'ent': 'Chan', 'prior': 0.0126800537109375, 'posterior': 7.778406143188477e-05, 'id': 8495}\n",
      "{'start': 0, 'end': 12, 'label': 0, 'type': 'NORP', 'ent': 'North Korean', 'prior': 0.207275390625, 'posterior': 0.037017822265625, 'id': 6486}\n",
      "{'start': 20, 'end': 23, 'label': 0, 'type': 'PERSON', 'ent': 'Kim', 'prior': 0.1939697265625, 'posterior': 0.0106353759765625, 'id': 6486}\n",
      "{'start': 24, 'end': 31, 'label': 0, 'type': 'PERSON', 'ent': 'Jong-un', 'prior': 0.5556640625, 'posterior': 0.0211944580078125, 'id': 6486}\n",
      "{'start': 110, 'end': 114, 'label': 0, 'type': 'GPE', 'ent': 'Guam', 'prior': 0.92138671875, 'posterior': 1.1682510375976562e-05, 'id': 6486}\n",
      "{'start': 57, 'end': 84, 'label': 0, 'type': 'ORG', 'ent': 'Northampton Borough Council', 'prior': 0.00020062923431396484, 'posterior': 2.384185791015625e-07, 'id': 1584}\n",
      "{'start': 24, 'end': 31, 'label': 0, 'type': 'GPE', 'ent': 'Wrexham', 'prior': 0.00035762786865234375, 'posterior': 0.0123138427734375, 'id': 11017}\n",
      "{'start': 19, 'end': 24, 'label': 0, 'type': 'LOC', 'ent': 'Neath', 'prior': 0.00026535987854003906, 'posterior': 0.0003261566162109375, 'id': 5148}\n",
      "{'start': 2, 'end': 13, 'label': 0, 'type': 'NORP', 'ent': 'Palestinian', 'prior': 0.243896484375, 'posterior': 0.01213836669921875, 'id': 10380}\n",
      "{'start': 79, 'end': 88, 'label': 0, 'type': 'GPE', 'ent': 'West Bank', 'prior': 0.94970703125, 'posterior': 6.0677528381347656e-05, 'id': 10380}\n",
      "{'start': 0, 'end': 3, 'label': 0, 'type': 'CARDINAL', 'ent': 'Six', 'prior': 0.009124755859375, 'posterior': 0.00553131103515625, 'id': 5747}\n",
      "{'start': 97, 'end': 104, 'label': 0, 'type': 'GPE', 'ent': 'Germany', 'prior': 0.0181427001953125, 'posterior': 0.03021240234375, 'id': 5747}\n",
      "{'start': 78, 'end': 85, 'label': 0, 'type': 'GPE', 'ent': 'Vanuatu', 'prior': 0.00025153160095214844, 'posterior': 0.0, 'id': 10943}\n",
      "{'start': 60, 'end': 69, 'label': 0, 'type': 'DATE', 'ent': 'two years', 'prior': 0.006916046142578125, 'posterior': 0.0002999305725097656, 'id': 9185}\n",
      "{'start': 2, 'end': 9, 'label': 0, 'type': 'ORG', 'ent': 'Rwandan', 'prior': 0.1617431640625, 'posterior': 0.0, 'id': 3611}\n",
      "{'start': 48, 'end': 53, 'label': 0, 'type': 'NORP', 'ent': 'Tutsi', 'prior': 0.004058837890625, 'posterior': 1.1920928955078125e-07, 'id': 3611}\n",
      "{'start': 142, 'end': 148, 'label': 0, 'type': 'GPE', 'ent': 'Rwanda', 'prior': 0.00595855712890625, 'posterior': 0.00557708740234375, 'id': 3611}\n",
      "{'start': 0, 'end': 6, 'label': 0, 'type': 'PERSON', 'ent': 'Prince', 'prior': 0.66748046875, 'posterior': 0.01071929931640625, 'id': 1754}\n",
      "{'start': 7, 'end': 14, 'label': 0, 'type': 'PERSON', 'ent': 'William', 'prior': 0.1943359375, 'posterior': 0.07940673828125, 'id': 1754}\n",
      "{'start': 27, 'end': 32, 'label': 0, 'type': 'GPE', 'ent': 'China', 'prior': 0.63623046875, 'posterior': 0.048583984375, 'id': 10244}\n",
      "{'start': 117, 'end': 124, 'label': 0, 'type': 'GPE', 'ent': 'Beijing', 'prior': 0.12176513671875, 'posterior': 0.0904541015625, 'id': 10244}\n",
      "{'start': 46, 'end': 57, 'label': 0, 'type': 'GPE', 'ent': 'Ballycastle', 'prior': 0.00019741058349609375, 'posterior': 6.198883056640625e-06, 'id': 4850}\n",
      "{'start': 48, 'end': 55, 'label': 0, 'type': 'NORP', 'ent': 'British', 'prior': 0.08056640625, 'posterior': 0.004772186279296875, 'id': 1575}\n",
      "{'start': 33, 'end': 44, 'label': 0, 'type': 'PERSON', 'ent': 'RSPCA Cymru', 'prior': 2.0265579223632812e-06, 'posterior': 8.344650268554688e-07, 'id': 2759}\n",
      "{'start': 27, 'end': 40, 'label': 0, 'type': 'ORG', 'ent': 'Ideas Service', 'prior': 1.1920928955078125e-06, 'posterior': 0.0, 'id': 8953}\n",
      "{'start': 38, 'end': 41, 'label': 0, 'type': 'MONEY', 'ent': '1.6', 'prior': 2.849102020263672e-05, 'posterior': 0.006259918212890625, 'id': 7619}\n",
      "{'start': 20, 'end': 37, 'label': 0, 'type': 'GPE', 'ent': 'the United States', 'prior': 0.09796142578125, 'posterior': 0.003612518310546875, 'id': 700}\n",
      "{'start': 57, 'end': 74, 'label': 0, 'type': 'CARDINAL', 'ent': 'more than 600,000', 'prior': 0.0008902549743652344, 'posterior': 1.6689300537109375e-06, 'id': 700}\n",
      "{'start': 92, 'end': 96, 'label': 0, 'type': 'MONEY', 'ent': '40bn', 'prior': 5.125999450683594e-06, 'posterior': 0.00048470497131347656, 'id': 700}\n",
      "{'start': 0, 'end': 10, 'label': 0, 'type': 'ORG', 'ent': 'Stagecoach', 'prior': 0.0005288124084472656, 'posterior': 0.0, 'id': 3379}\n",
      "{'start': 98, 'end': 106, 'label': 0, 'type': 'NORP', 'ent': 'Cumbrian', 'prior': 0.0004353523254394531, 'posterior': 1.1324882507324219e-06, 'id': 7021}\n",
      "{'start': 0, 'end': 13, 'label': 0, 'type': 'ORG', 'ent': 'Burton Albion', 'prior': 4.38690185546875e-05, 'posterior': 0.002597808837890625, 'id': 3180}\n",
      "{'start': 32, 'end': 42, 'label': 0, 'type': 'PERSON', 'ent': 'McLaughlin', 'prior': 0.0032978057861328125, 'posterior': 5.960464477539063e-08, 'id': 3180}\n",
      "{'start': 19, 'end': 28, 'label': 0, 'type': 'ORG', 'ent': 'Tottenham', 'prior': 0.06591796875, 'posterior': 0.0034961700439453125, 'id': 3030}\n",
      "{'start': 40, 'end': 45, 'label': 0, 'type': 'PERSON', 'ent': 'David', 'prior': 0.08135986328125, 'posterior': 0.0361328125, 'id': 3030}\n",
      "{'start': 46, 'end': 52, 'label': 0, 'type': 'PERSON', 'ent': 'Ginola', 'prior': 0.15869140625, 'posterior': 0.0210113525390625, 'id': 3030}\n",
      "{'start': 92, 'end': 99, 'label': 0, 'type': 'PERSON', 'ent': 'Blatter', 'prior': 1.0, 'posterior': 5.960464477539062e-07, 'id': 3030}\n",
      "{'start': 154, 'end': 158, 'label': 0, 'type': 'ORG', 'ent': 'Fifa', 'prior': 0.0, 'posterior': 0.004337310791015625, 'id': 3030}\n",
      "{'start': 36, 'end': 39, 'label': 0, 'type': 'ORG', 'ent': 'A55', 'prior': 0.006023406982421875, 'posterior': 6.735324859619141e-06, 'id': 191}\n",
      "{'start': 44, 'end': 48, 'label': 0, 'type': 'ORG', 'ent': 'A483', 'prior': 0.0009016990661621094, 'posterior': 5.960464477539063e-08, 'id': 191}\n",
      "{'start': 52, 'end': 59, 'label': 0, 'type': 'GPE', 'ent': 'Chester', 'prior': 0.0019588470458984375, 'posterior': 0.10382080078125, 'id': 191}\n",
      "{'start': 32, 'end': 37, 'label': 0, 'type': 'PERSON', 'ent': 'Kenny', 'prior': 0.00023424625396728516, 'posterior': 0.00795745849609375, 'id': 8770}\n",
      "{'start': 35, 'end': 45, 'label': 0, 'type': 'GPE', 'ent': 'Manchester', 'prior': 0.0296783447265625, 'posterior': 0.177490234375, 'id': 5620}\n",
      "{'start': 77, 'end': 94, 'label': 0, 'type': 'TIME', 'ent': 'more than an hour', 'prior': 0.0276031494140625, 'posterior': 3.039836883544922e-06, 'id': 10}\n",
      "{'start': 155, 'end': 158, 'label': 0, 'type': 'ORG', 'ent': 'A&E', 'prior': 0.00030159950256347656, 'posterior': 0.0011396408081054688, 'id': 10}\n",
      "{'start': 76, 'end': 90, 'label': 0, 'type': 'DATE', 'ent': 'several months', 'prior': 0.006885528564453125, 'posterior': 0.0006422996520996094, 'id': 2991}\n",
      "{'start': 20, 'end': 38, 'label': 0, 'type': 'ORG', 'ent': 'the United Nations', 'prior': 0.041473388671875, 'posterior': 1.8715858459472656e-05, 'id': 8702}\n",
      "{'start': 140, 'end': 148, 'label': 0, 'type': 'NORP', 'ent': 'Eritrean', 'prior': 0.016571044921875, 'posterior': 0.0, 'id': 8702}\n",
      "{'start': 50, 'end': 59, 'label': 0, 'type': 'GPE', 'ent': 'St Fergus', 'prior': 1.817941665649414e-05, 'posterior': 0.0, 'id': 3466}\n",
      "{'start': 0, 'end': 5, 'label': 0, 'type': 'PERSON', 'ent': 'Adele', 'prior': 0.0007801055908203125, 'posterior': 0.141845703125, 'id': 3088}\n",
      "{'start': 0, 'end': 5, 'label': 0, 'type': 'PERSON', 'ent': 'Adele', 'prior': 0.0008482933044433594, 'posterior': 0.15625, 'id': 3088}\n",
      "{'start': 38, 'end': 44, 'label': 0, 'type': 'PERSON', 'ent': 'Odinga', 'prior': 0.001895904541015625, 'posterior': 5.960464477539063e-08, 'id': 5706}\n",
      "{'start': 121, 'end': 132, 'label': 0, 'type': 'DATE', 'ent': \"last week's\", 'prior': 0.08538818359375, 'posterior': 0.000942230224609375, 'id': 5706}\n",
      "{'start': 25, 'end': 36, 'label': 0, 'type': 'GPE', 'ent': 'North Korea', 'prior': 0.0254669189453125, 'posterior': 0.013763427734375, 'id': 5290}\n",
      "{'start': 111, 'end': 114, 'label': 0, 'type': 'ORG', 'ent': 'NHS', 'prior': 0.266845703125, 'posterior': 0.005405426025390625, 'id': 5290}\n",
      "{'start': 118, 'end': 121, 'label': 0, 'type': 'DATE', 'ent': 'May', 'prior': 0.0008792877197265625, 'posterior': 0.0125732421875, 'id': 5290}\n",
      "{'start': 13, 'end': 16, 'label': 0, 'type': 'DATE', 'ent': '20s', 'prior': 0.34033203125, 'posterior': 0.04150390625, 'id': 7871}\n",
      "{'start': 13, 'end': 34, 'label': 0, 'type': 'ORG', 'ent': 'Merlin Entertainments', 'prior': 2.2709369659423828e-05, 'posterior': 0.0, 'id': 6041}\n",
      "{'start': 109, 'end': 113, 'label': 0, 'type': 'CARDINAL', 'ent': 'five', 'prior': 0.0215911865234375, 'posterior': 0.044586181640625, 'id': 6041}\n",
      "{'start': 0, 'end': 7, 'label': 0, 'type': 'ORG', 'ent': 'Chelsea', 'prior': 0.08026123046875, 'posterior': 0.0217132568359375, 'id': 1110}\n",
      "{'start': 35, 'end': 53, 'label': 0, 'type': 'ORG', 'ent': 'the Premier League', 'prior': 0.3623046875, 'posterior': 0.0109405517578125, 'id': 1110}\n",
      "{'start': 123, 'end': 131, 'label': 0, 'type': 'LOC', 'ent': 'West Ham', 'prior': 0.021636962890625, 'posterior': 0.0259857177734375, 'id': 1110}\n",
      "{'start': 156, 'end': 172, 'label': 0, 'type': 'DATE', 'ent': 'the 19th Century', 'prior': 0.0007104873657226562, 'posterior': 5.960464477539063e-08, 'id': 1110}\n",
      "{'start': 98, 'end': 103, 'label': 0, 'type': 'ORDINAL', 'ent': 'first', 'prior': 0.460205078125, 'posterior': 0.08233642578125, 'id': 8242}\n",
      "{'start': 148, 'end': 152, 'label': 0, 'type': 'DATE', 'ent': '1999', 'prior': 0.03057861328125, 'posterior': 0.0002715587615966797, 'id': 8242}\n",
      "{'start': 4, 'end': 9, 'label': 0, 'type': 'ORDINAL', 'ent': 'first', 'prior': 0.317626953125, 'posterior': 0.08160400390625, 'id': 9526}\n",
      "{'start': 10, 'end': 19, 'label': 0, 'type': 'EVENT', 'ent': 'World Cup', 'prior': 0.0248565673828125, 'posterior': 0.042999267578125, 'id': 9526}\n",
      "{'start': 65, 'end': 70, 'label': 0, 'type': 'ORDINAL', 'ent': 'first', 'prior': 0.123046875, 'posterior': 0.1263427734375, 'id': 9526}\n",
      "{'start': 0, 'end': 13, 'label': 0, 'type': 'ORG', 'ent': 'Cardiff Blues', 'prior': 0.00015985965728759766, 'posterior': 6.556510925292969e-07, 'id': 9340}\n",
      "{'start': 25, 'end': 29, 'label': 0, 'type': 'PERSON', 'ent': 'Mike', 'prior': 0.0038318634033203125, 'posterior': 0.003875732421875, 'id': 9340}\n",
      "{'start': 67, 'end': 72, 'label': 0, 'type': 'GPE', 'ent': 'Wales', 'prior': 0.08197021484375, 'posterior': 0.00557708740234375, 'id': 9340}\n",
      "{'start': 139, 'end': 146, 'label': 0, 'type': 'GPE', 'ent': 'Cardiff', 'prior': 0.097900390625, 'posterior': 0.1866455078125, 'id': 9340}\n",
      "{'start': 47, 'end': 67, 'label': 0, 'type': 'TIME', 'ent': 'more than 50 minutes', 'prior': 0.0007801055908203125, 'posterior': 3.4570693969726562e-06, 'id': 11046}\n",
      "{'start': 85, 'end': 98, 'label': 0, 'type': 'CARDINAL', 'ent': 'up to 100,000', 'prior': 0.01128387451171875, 'posterior': 5.960464477539063e-08, 'id': 4867}\n",
      "{'start': 86, 'end': 94, 'label': 0, 'type': 'ORG', 'ent': 'Aberdeen', 'prior': 0.167724609375, 'posterior': 0.061737060546875, 'id': 10112}\n",
      "{'start': 46, 'end': 65, 'label': 0, 'type': 'ORG', 'ent': 'the Paris Agreement', 'prior': 0.314697265625, 'posterior': 1.7881393432617188e-07, 'id': 2333}\n",
      "{'start': 102, 'end': 111, 'label': 0, 'type': 'PERSON', 'ent': 'Tillerson', 'prior': 0.02130126953125, 'posterior': 1.9550323486328125e-05, 'id': 2333}\n",
      "{'start': 0, 'end': 21, 'label': 0, 'type': 'ORG', 'ent': 'Amnesty International', 'prior': 0.0011434555053710938, 'posterior': 0.00020933151245117188, 'id': 10898}\n",
      "{'start': 134, 'end': 140, 'label': 0, 'type': 'NORP', 'ent': 'Indian', 'prior': 9.953975677490234e-06, 'posterior': 0.1429443359375, 'id': 10898}\n",
      "{'start': 116, 'end': 119, 'label': 0, 'type': 'CARDINAL', 'ent': 'two', 'prior': 0.05078125, 'posterior': 0.0655517578125, 'id': 8921}\n",
      "{'start': 0, 'end': 14, 'label': 0, 'type': 'ORG', 'ent': 'Crystal Palace', 'prior': 0.017578125, 'posterior': 0.00033545494079589844, 'id': 6427}\n"
     ]
    }
   ],
   "source": [
    "for p in prior_posterior:\n",
    "    if p['label'] == 0 and p['posterior'] < 0.2:\n",
    "        print(p)"
   ]
  },
  {
   "cell_type": "markdown",
   "metadata": {},
   "source": [
    "#### Classification"
   ]
  },
  {
   "cell_type": "code",
   "execution_count": 28,
   "metadata": {},
   "outputs": [
    {
     "data": {
      "text/plain": [
       "{'start': 62,\n",
       " 'end': 75,\n",
       " 'label': 2,\n",
       " 'type': 'CARDINAL',\n",
       " 'ent': 'more than 100',\n",
       " 'prior': 0.019134521484375,\n",
       " 'posterior': 0.0013484954833984375,\n",
       " 'id': 8805}"
      ]
     },
     "execution_count": 28,
     "metadata": {},
     "output_type": "execute_result"
    }
   ],
   "source": [
    "prior_posterior[0]"
   ]
  },
  {
   "cell_type": "code",
   "execution_count": 29,
   "metadata": {},
   "outputs": [],
   "source": [
    "true_label = []\n",
    "ent_pred_label = []\n",
    "prob_pred_label = []\n",
    "\n",
    "for p in prior_posterior:\n",
    "    if p['label'] is not None:\n",
    "        source = xsum_source[p['id']]\n",
    "\n",
    "        if p['ent'].lower() in source.lower():\n",
    "            ent_pred_label.append(0)\n",
    "        else:\n",
    "            ent_pred_label.append(1)\n",
    "\n",
    "        if p['label'] == 0 or p['label'] == 1:\n",
    "            true_label.append(0)\n",
    "        elif p['label'] == 2 or p['label'] == 3:\n",
    "            true_label.append(1)\n",
    "        else:\n",
    "            raise Exception(\"ERROR! {}\".format(p['label']))\n",
    "\n",
    "        if p['posterior'] > 0.2:\n",
    "            prob_pred_label.append(0)\n",
    "        else:\n",
    "            prob_pred_label.append(1)"
   ]
  },
  {
   "cell_type": "code",
   "execution_count": 30,
   "metadata": {},
   "outputs": [],
   "source": [
    "from sklearn.metrics import classification_report"
   ]
  },
  {
   "cell_type": "code",
   "execution_count": 31,
   "metadata": {},
   "outputs": [
    {
     "name": "stdout",
     "output_type": "stream",
     "text": [
      "              precision    recall  f1-score   support\n",
      "\n",
      " Non-factual       0.96      0.69      0.81       314\n",
      "     Factual       0.33      0.86      0.48        56\n",
      "\n",
      "    accuracy                           0.72       370\n",
      "   macro avg       0.65      0.77      0.64       370\n",
      "weighted avg       0.87      0.72      0.76       370\n",
      "\n"
     ]
    }
   ],
   "source": [
    "print(classification_report(true_label, ent_pred_label, target_names=['Non-factual', 'Factual']))"
   ]
  },
  {
   "cell_type": "code",
   "execution_count": 32,
   "metadata": {},
   "outputs": [
    {
     "name": "stdout",
     "output_type": "stream",
     "text": [
      "              precision    recall  f1-score   support\n",
      "\n",
      " Non-factual       0.99      0.24      0.38       314\n",
      "     Factual       0.19      0.98      0.31        56\n",
      "\n",
      "    accuracy                           0.35       370\n",
      "   macro avg       0.59      0.61      0.35       370\n",
      "weighted avg       0.87      0.35      0.37       370\n",
      "\n"
     ]
    }
   ],
   "source": [
    "print(classification_report(true_label, prob_pred_label, target_names=['Non-factual', 'Factual']))"
   ]
  },
  {
   "cell_type": "markdown",
   "metadata": {},
   "source": [
    "#### AUC"
   ]
  },
  {
   "cell_type": "code",
   "execution_count": 33,
   "metadata": {},
   "outputs": [],
   "source": [
    "import numpy as np\n",
    "\n",
    "from sklearn.metrics import roc_curve, auc"
   ]
  },
  {
   "cell_type": "code",
   "execution_count": 34,
   "metadata": {},
   "outputs": [
    {
     "data": {
      "text/plain": [
       "{'start': 62,\n",
       " 'end': 75,\n",
       " 'label': 2,\n",
       " 'type': 'CARDINAL',\n",
       " 'ent': 'more than 100',\n",
       " 'prior': 0.019134521484375,\n",
       " 'posterior': 0.0013484954833984375,\n",
       " 'id': 8805}"
      ]
     },
     "execution_count": 34,
     "metadata": {},
     "output_type": "execute_result"
    }
   ],
   "source": [
    "prior_posterior[0]"
   ]
  },
  {
   "cell_type": "code",
   "execution_count": 35,
   "metadata": {},
   "outputs": [],
   "source": [
    "# non-hallucination vs false hallucination"
   ]
  },
  {
   "cell_type": "code",
   "execution_count": 36,
   "metadata": {},
   "outputs": [],
   "source": [
    "true_label = []\n",
    "prior_probabilities, posterior_probabilities = [], []\n",
    "\n",
    "for p in prior_posterior:\n",
    "    if p['label'] is not None:\n",
    "\n",
    "        if p['label'] == 0 or p['label'] == 1:\n",
    "            true_label.append(1)\n",
    "        elif p['label'] == 2 or p['label'] == 3:\n",
    "            true_label.append(0)\n",
    "        else:\n",
    "            raise Exception(\"ERROR! {}\".format(p['label']))\n",
    "        \n",
    "        prior_probabilities.append(p['prior'])\n",
    "        posterior_probabilities.append(p['posterior'])"
   ]
  },
  {
   "cell_type": "code",
   "execution_count": 37,
   "metadata": {},
   "outputs": [],
   "source": [
    "true_label = np.asarray(true_label)\n",
    "prior_probabilities = np.asarray(prior_probabilities)\n",
    "posterior_probabilities = np.asarray(posterior_probabilities)"
   ]
  },
  {
   "cell_type": "code",
   "execution_count": 38,
   "metadata": {},
   "outputs": [
    {
     "data": {
      "text/plain": [
       "(370,)"
      ]
     },
     "execution_count": 38,
     "metadata": {},
     "output_type": "execute_result"
    }
   ],
   "source": [
    "true_label.shape"
   ]
  },
  {
   "cell_type": "code",
   "execution_count": 39,
   "metadata": {},
   "outputs": [
    {
     "data": {
      "image/png": "[encoded data removed]",
      "text/plain": [
       "<Figure size 432x288 with 1 Axes>"
      ]
     },
     "metadata": {
      "needs_background": "light"
     },
     "output_type": "display_data"
    }
   ],
   "source": [
    "plt.figure()\n",
    "lw = 2\n",
    "\n",
    "# prior\n",
    "fpr, tpr, _ = roc_curve(true_label, prior_probabilities)\n",
    "roc_auc = auc(fpr, tpr)\n",
    "plt.plot(fpr, tpr, color='green',\n",
    "         lw=lw, label='Prior (area = %0.2f)' % roc_auc)\n",
    "\n",
    "# posterior\n",
    "fpr, tpr, _ = roc_curve(true_label, posterior_probabilities)\n",
    "roc_auc = auc(fpr, tpr)\n",
    "plt.plot(fpr, tpr, color='darkorange',\n",
    "         lw=lw, label='Posterior (area = %0.2f)' % roc_auc)\n",
    "\n",
    "plt.plot([0, 1], [0, 1], color='navy', lw=lw, linestyle='--')\n",
    "plt.xlim([0.0, 1.0])\n",
    "plt.ylim([0.0, 1.05])\n",
    "plt.xlabel('False Positive Rate')\n",
    "plt.ylabel('True Positive Rate')\n",
    "plt.title('Receiver operating characteristic example')\n",
    "plt.legend(loc=\"lower right\")\n",
    "plt.show()"
   ]
  }
 ],
 "metadata": {
  "kernelspec": {
   "display_name": "Python 3",
   "language": "python",
   "name": "python3"
  },
  "language_info": {
   "codemirror_mode": {
    "name": "ipython",
    "version": 3
   },
   "file_extension": ".py",
   "mimetype": "text/x-python",
   "name": "python",
   "nbconvert_exporter": "python",
   "pygments_lexer": "ipython3",
   "version": "3.7.9"
  }
 },
 "nbformat": 4,
 "nbformat_minor": 4
}
