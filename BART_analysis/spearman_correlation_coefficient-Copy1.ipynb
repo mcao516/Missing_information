{
 "cells": [
  {
   "cell_type": "code",
   "execution_count": 1,
   "id": "boolean-bacteria",
   "metadata": {},
   "outputs": [],
   "source": [
    "import json"
   ]
  },
  {
   "cell_type": "markdown",
   "id": "ruled-contact",
   "metadata": {},
   "source": [
    "#### Read Google Dataset"
   ]
  },
  {
   "cell_type": "code",
   "execution_count": 3,
   "id": "intimate-indonesian",
   "metadata": {},
   "outputs": [],
   "source": [
    "factuality_data = json.load(open('../Dataset/xsum_hallucination_annotations/factuality_annotations_xsum_summaries.json'))\n",
    "hallucination_data = json.load(open('../Dataset/xsum_hallucination_annotations/hallucination_annotations_xsum_summaries.json'))"
   ]
  },
  {
   "cell_type": "code",
   "execution_count": 4,
   "id": "crucial-subject",
   "metadata": {},
   "outputs": [
    {
     "name": "stdout",
     "output_type": "stream",
     "text": [
      "5597\n",
      "11185\n"
     ]
    }
   ],
   "source": [
    "print(len(factuality_data))\n",
    "print(len(hallucination_data))"
   ]
  },
  {
   "cell_type": "code",
   "execution_count": 5,
   "id": "incorporate-walnut",
   "metadata": {},
   "outputs": [
    {
     "data": {
      "text/plain": [
       "{'bbcid': 29911712,\n",
       " 'system': 'BERTS2S',\n",
       " 'summary': 'more than 50 pupils at a bristol academy have been sent home from school because of a lack of uniform.',\n",
       " 'is_factual': 'no',\n",
       " 'worker_id': 'wid_0'}"
      ]
     },
     "execution_count": 5,
     "metadata": {},
     "output_type": "execute_result"
    }
   ],
   "source": [
    "factuality_data[0]"
   ]
  },
  {
   "cell_type": "code",
   "execution_count": 6,
   "id": "answering-broadway",
   "metadata": {},
   "outputs": [
    {
     "data": {
      "text/plain": [
       "{'bbcid': 34687720,\n",
       " 'system': 'BERTS2S',\n",
       " 'summary': 'rory mcilroy will take a one-shot lead into the final round of the wgc-hsbc champions after carding a three-under',\n",
       " 'hallucination_type': 'extrinsic',\n",
       " 'hallucinated_span': 'rory mcilroy will take a one-shot lead into the final round of the wgc-hsbc champions after carding a three-under',\n",
       " 'worker_id': 'wid_0'}"
      ]
     },
     "execution_count": 6,
     "metadata": {},
     "output_type": "execute_result"
    }
   ],
   "source": [
    "hallucination_data[0]"
   ]
  },
  {
   "cell_type": "markdown",
   "id": "intensive-legislation",
   "metadata": {},
   "source": [
    "#### "
   ]
  },
  {
   "cell_type": "markdown",
   "id": "promotional-blood",
   "metadata": {},
   "source": [
    "#### Read Calculated Probability"
   ]
  },
  {
   "cell_type": "code",
   "execution_count": 7,
   "id": "public-ensemble",
   "metadata": {},
   "outputs": [],
   "source": [
    "google_data_with_proba = json.load(open('google_data_with_proba.json'))"
   ]
  },
  {
   "cell_type": "code",
   "execution_count": 8,
   "id": "former-brave",
   "metadata": {},
   "outputs": [
    {
     "data": {
      "text/plain": [
       "{'summary': 'rory mcilroy moved to within a shot of joint leaders victor dubuisson and jaco van zyl after the third round of the turkish airlines open.',\n",
       " 'summary_upper': 'Rory McIlroy moved to within a shot of joint leaders Victor Dubuisson and Jaco van Zyl after the third round of the Turkish Airlines open .',\n",
       " 'ents': [{'start': 0,\n",
       "   'end': 4,\n",
       "   'label': -1,\n",
       "   'type': 'PERSON',\n",
       "   'ent': 'Rory',\n",
       "   'prior': 0.380859375,\n",
       "   'posterior': 0.93017578125},\n",
       "  {'start': 5,\n",
       "   'end': 12,\n",
       "   'label': -1,\n",
       "   'type': 'PERSON',\n",
       "   'ent': 'McIlroy',\n",
       "   'prior': 0.9189453125,\n",
       "   'posterior': 0.78173828125},\n",
       "  {'start': 53,\n",
       "   'end': 59,\n",
       "   'label': -1,\n",
       "   'type': 'PERSON',\n",
       "   'ent': 'Victor',\n",
       "   'prior': 0.0023136138916015625,\n",
       "   'posterior': 0.000522613525390625},\n",
       "  {'start': 60,\n",
       "   'end': 69,\n",
       "   'label': -1,\n",
       "   'type': 'PERSON',\n",
       "   'ent': 'Dubuisson',\n",
       "   'prior': 0.97119140625,\n",
       "   'posterior': 0.82958984375},\n",
       "  {'start': 74,\n",
       "   'end': 78,\n",
       "   'label': -1,\n",
       "   'type': 'PERSON',\n",
       "   'ent': 'Jaco',\n",
       "   'prior': 0.048187255859375,\n",
       "   'posterior': 0.0057220458984375},\n",
       "  {'start': 79,\n",
       "   'end': 82,\n",
       "   'label': -1,\n",
       "   'type': 'PERSON',\n",
       "   'ent': 'van',\n",
       "   'prior': 0.53369140625,\n",
       "   'posterior': 0.46484375},\n",
       "  {'start': 83,\n",
       "   'end': 86,\n",
       "   'label': -1,\n",
       "   'type': 'PERSON',\n",
       "   'ent': 'Zyl',\n",
       "   'prior': 0.75,\n",
       "   'posterior': 0.90576171875},\n",
       "  {'start': 97,\n",
       "   'end': 102,\n",
       "   'label': -1,\n",
       "   'type': 'ORDINAL',\n",
       "   'ent': 'third',\n",
       "   'prior': 0.107666015625,\n",
       "   'posterior': 0.1309814453125},\n",
       "  {'start': 116,\n",
       "   'end': 132,\n",
       "   'label': -1,\n",
       "   'type': 'ORG',\n",
       "   'ent': 'Turkish Airlines',\n",
       "   'prior': 0.0064544677734375,\n",
       "   'posterior': 1.5437602996826172e-05}]}"
      ]
     },
     "execution_count": 8,
     "metadata": {},
     "output_type": "execute_result"
    }
   ],
   "source": [
    "google_data_with_proba['34687720']['Gold']"
   ]
  },
  {
   "cell_type": "markdown",
   "id": "concrete-independence",
   "metadata": {},
   "source": [
    "#### Claculate Factuality Correlation"
   ]
  },
  {
   "cell_type": "code",
   "execution_count": 11,
   "id": "optical-slave",
   "metadata": {},
   "outputs": [
    {
     "data": {
      "text/plain": [
       "{'bbcid': 29911712,\n",
       " 'system': 'BERTS2S',\n",
       " 'summary': 'more than 50 pupils at a bristol academy have been sent home from school because of a lack of uniform.',\n",
       " 'is_factual': 'no',\n",
       " 'worker_id': 'wid_1'}"
      ]
     },
     "execution_count": 11,
     "metadata": {},
     "output_type": "execute_result"
    }
   ],
   "source": [
    "factuality_data[1]"
   ]
  },
  {
   "cell_type": "code",
   "execution_count": 10,
   "id": "growing-alliance",
   "metadata": {},
   "outputs": [],
   "source": [
    "factuality = {}\n",
    "for i, f in enumerate(factuality_data):\n",
    "    if f['bbcid'] not in factuality:\n",
    "        factuality[f['bbcid']] = {}\n",
    "    if f['system'] not in factuality[f['bbcid']]:\n",
    "        factuality[f['bbcid']][f['system']] = []\n",
    "        \n",
    "    if f['is_factual'] == 'yes':\n",
    "        factuality[f['bbcid']][f['system']].append(True)\n",
    "    elif f['is_factual'] == 'no':\n",
    "        factuality[f['bbcid']][f['system']].append(False)\n",
    "    elif f['is_factual'] is None:\n",
    "        factuality[f['bbcid']][f['system']].append(False)\n",
    "    else:\n",
    "        print(i)\n",
    "        raise Exception('Unkown Label: {}'.format(f['is_factual']))"
   ]
  },
  {
   "cell_type": "code",
   "execution_count": 88,
   "id": "dated-corrections",
   "metadata": {},
   "outputs": [],
   "source": [
    "def factuality_score(scores):\n",
    "    if None in scores: return 0.0\n",
    "    return sum(scores) / len(scores)\n",
    "#     if sum(scores) * 2 >= len(scores):\n",
    "#         return 1.0\n",
    "#     else:\n",
    "#         return 0.0"
   ]
  },
  {
   "cell_type": "code",
   "execution_count": 132,
   "id": "composite-violence",
   "metadata": {},
   "outputs": [],
   "source": [
    "def factuality_score_proba(ents):\n",
    "    posteriors = []\n",
    "    if len(ents) == 0:\n",
    "        return 0.5\n",
    "    for e in ents:\n",
    "        posteriors.append(e['posterior'])\n",
    "    return min(posteriors)"
   ]
  },
  {
   "cell_type": "code",
   "execution_count": 133,
   "id": "french-courtesy",
   "metadata": {},
   "outputs": [
    {
     "name": "stdout",
     "output_type": "stream",
     "text": [
      "[False, False, False]\n"
     ]
    },
    {
     "data": {
      "text/plain": [
       "0.0"
      ]
     },
     "execution_count": 133,
     "metadata": {},
     "output_type": "execute_result"
    }
   ],
   "source": [
    "print(factuality[29911712]['BERTS2S'])\n",
    "factuality_score(factuality[29911712]['BERTS2S'])"
   ]
  },
  {
   "cell_type": "code",
   "execution_count": 134,
   "id": "linear-patio",
   "metadata": {},
   "outputs": [
    {
     "name": "stdout",
     "output_type": "stream",
     "text": [
      "{'summary': 'more than 50 pupils at a bristol academy have been sent home from school because of a lack of uniform.', 'summary_upper': 'More than 50 pupils at a Bristol Academy have been sent home from school because of a lack of uniform .', 'ents': [{'start': 0, 'end': 12, 'label': 0, 'type': 'CARDINAL', 'ent': 'More than 50', 'prior': 0.0021419525146484375, 'posterior': 0.0176849365234375}, {'start': 25, 'end': 40, 'label': 0, 'type': 'ORG', 'ent': 'Bristol Academy', 'prior': 3.0994415283203125e-06, 'posterior': 0.0010528564453125}]}\n"
     ]
    },
    {
     "data": {
      "text/plain": [
       "0.0010528564453125"
      ]
     },
     "execution_count": 134,
     "metadata": {},
     "output_type": "execute_result"
    }
   ],
   "source": [
    "print(google_data_with_proba['29911712']['BERTS2S'])\n",
    "factuality_score_proba(google_data_with_proba['29911712']['BERTS2S']['ents'])"
   ]
  },
  {
   "cell_type": "code",
   "execution_count": 135,
   "id": "wrapped-sustainability",
   "metadata": {},
   "outputs": [],
   "source": [
    "human_factuality_scores = []\n",
    "model_factuality_scores = []\n",
    "\n",
    "for bbcid in factuality:\n",
    "    if bbcid == 33928888 or bbcid == 39553812: continue\n",
    "    for system in factuality[bbcid]:\n",
    "        human_factuality_scores.append(factuality_score(factuality[bbcid][system]))\n",
    "        model_factuality_scores.append(factuality_score_proba(google_data_with_proba[str(bbcid)][system]['ents']))\n",
    "        \n",
    "assert len(human_factuality_scores) == len(model_factuality_scores)"
   ]
  },
  {
   "cell_type": "code",
   "execution_count": 136,
   "id": "functioning-princeton",
   "metadata": {},
   "outputs": [
    {
     "data": {
      "text/plain": [
       "[0.0, 0.0, 0.0, 0.0, 0.0, 0.0, 0.0, 0.0, 0.0, 0.0]"
      ]
     },
     "execution_count": 136,
     "metadata": {},
     "output_type": "execute_result"
    }
   ],
   "source": [
    "human_factuality_scores[:10]"
   ]
  },
  {
   "cell_type": "code",
   "execution_count": 137,
   "id": "protective-million",
   "metadata": {},
   "outputs": [
    {
     "data": {
      "text/plain": [
       "[0.0010528564453125,\n",
       " 6.377696990966797e-06,\n",
       " 0.00458526611328125,\n",
       " 0.5,\n",
       " 0.833984375,\n",
       " 0.026458740234375,\n",
       " 6.300210952758789e-05,\n",
       " 0.0011138916015625,\n",
       " 1.5795230865478516e-05,\n",
       " 2.2590160369873047e-05]"
      ]
     },
     "execution_count": 137,
     "metadata": {},
     "output_type": "execute_result"
    }
   ],
   "source": [
    "model_factuality_scores[:10]"
   ]
  },
  {
   "cell_type": "code",
   "execution_count": 138,
   "id": "under-cardiff",
   "metadata": {},
   "outputs": [],
   "source": [
    "from scipy import stats"
   ]
  },
  {
   "cell_type": "code",
   "execution_count": 139,
   "id": "turkish-start",
   "metadata": {},
   "outputs": [
    {
     "data": {
      "text/plain": [
       "SpearmanrResult(correlation=0.15243036060606607, pvalue=3.843634366747758e-11)"
      ]
     },
     "execution_count": 139,
     "metadata": {},
     "output_type": "execute_result"
    }
   ],
   "source": [
    "stats.spearmanr(human_factuality_scores, model_factuality_scores)"
   ]
  },
  {
   "cell_type": "markdown",
   "id": "spread-horizontal",
   "metadata": {},
   "source": [
    "#### Calculate Hallucination Correlation"
   ]
  },
  {
   "cell_type": "code",
   "execution_count": 140,
   "id": "exact-function",
   "metadata": {},
   "outputs": [
    {
     "data": {
      "text/plain": [
       "{'bbcid': 34687720,\n",
       " 'system': 'BERTS2S',\n",
       " 'summary': 'rory mcilroy will take a one-shot lead into the final round of the wgc-hsbc champions after carding a three-under',\n",
       " 'hallucination_type': 'extrinsic',\n",
       " 'hallucinated_span': 'rory mcilroy will take a one-shot lead into the final round of the wgc-hsbc champions after carding a three-under',\n",
       " 'worker_id': 'wid_0'}"
      ]
     },
     "execution_count": 140,
     "metadata": {},
     "output_type": "execute_result"
    }
   ],
   "source": [
    "hallucination_data[0]"
   ]
  },
  {
   "cell_type": "code",
   "execution_count": 141,
   "id": "hundred-round",
   "metadata": {},
   "outputs": [],
   "source": [
    "hallucination = {}\n",
    "for h in hallucination_data:\n",
    "    if h['bbcid'] not in hallucination: hallucination[h['bbcid']] = {}\n",
    "    if h['hallucinated_span'] is None:\n",
    "        hallucination[h['bbcid']][h['system']] = False\n",
    "    else:\n",
    "        hallucination[h['bbcid']][h['system']] = True"
   ]
  },
  {
   "cell_type": "code",
   "execution_count": 142,
   "id": "familiar-steps",
   "metadata": {},
   "outputs": [],
   "source": [
    "human_hallucination_scores = []\n",
    "model_hallucination_scores = []\n",
    "\n",
    "for bbcid in hallucination:\n",
    "    if bbcid == 33928888 or bbcid == 39553812: continue\n",
    "    for system in hallucination[bbcid]:\n",
    "        if hallucination[bbcid][system]:\n",
    "            human_hallucination_scores.append(0)\n",
    "        else:\n",
    "            human_hallucination_scores.append(1)\n",
    "        model_hallucination_scores.append(factuality_score_proba(google_data_with_proba[str(bbcid)][system]['ents']))\n",
    "        \n",
    "assert len(human_hallucination_scores) == len(model_hallucination_scores)"
   ]
  },
  {
   "cell_type": "code",
   "execution_count": 143,
   "id": "separate-mongolia",
   "metadata": {},
   "outputs": [
    {
     "data": {
      "text/plain": [
       "SpearmanrResult(correlation=0.13230240288473855, pvalue=3.409231248510517e-11)"
      ]
     },
     "execution_count": 143,
     "metadata": {},
     "output_type": "execute_result"
    }
   ],
   "source": [
    "stats.spearmanr(human_hallucination_scores, model_hallucination_scores)"
   ]
  },
  {
   "cell_type": "code",
   "execution_count": null,
   "id": "adapted-investor",
   "metadata": {},
   "outputs": [],
   "source": []
  }
 ],
 "metadata": {
  "kernelspec": {
   "display_name": "Python 3",
   "language": "python",
   "name": "python3"
  },
  "language_info": {
   "codemirror_mode": {
    "name": "ipython",
    "version": 3
   },
   "file_extension": ".py",
   "mimetype": "text/x-python",
   "name": "python",
   "nbconvert_exporter": "python",
   "pygments_lexer": "ipython3",
   "version": "3.7.4"
  }
 },
 "nbformat": 4,
 "nbformat_minor": 5
}
