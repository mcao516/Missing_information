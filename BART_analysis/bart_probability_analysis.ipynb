{
 "cells": [
  {
   "cell_type": "code",
   "execution_count": 1,
   "metadata": {},
   "outputs": [],
   "source": [
    "import math\n",
    "import torch\n",
    "import string\n",
    "import torch.nn as nn\n",
    "\n",
    "from fairseq.models.bart import BARTModel\n",
    "from utils import read_lines, get_probability"
   ]
  },
  {
   "cell_type": "code",
   "execution_count": 2,
   "metadata": {},
   "outputs": [],
   "source": [
    "bart = BARTModel.from_pretrained('/home/ml/cadencao/Downloads/BART_models/bart.large',\n",
    "                                 checkpoint_file='model.pt',\n",
    "                                 data_name_or_path='/home/ml/cadencao/Downloads/BART_models/bart.large')"
   ]
  },
  {
   "cell_type": "code",
   "execution_count": 3,
   "metadata": {},
   "outputs": [
    {
     "name": "stdout",
     "output_type": "stream",
     "text": [
      "- activate evaluation mode\n"
     ]
    }
   ],
   "source": [
    "bart.cuda()\n",
    "bart.eval()\n",
    "bart.half()\n",
    "print('- activate evaluation mode')"
   ]
  },
  {
   "cell_type": "code",
   "execution_count": 4,
   "metadata": {},
   "outputs": [],
   "source": [
    "encode_func = bart.encode\n",
    "decode_func = bart.decode"
   ]
  },
  {
   "cell_type": "code",
   "execution_count": 5,
   "metadata": {},
   "outputs": [
    {
     "name": "stdout",
     "output_type": "stream",
     "text": [
      "<class 'fairseq.models.bart.model.BARTModel'>\n",
      "<class 'fairseq.models.transformer.TransformerEncoder'>\n",
      "<class 'fairseq.models.transformer.TransformerDecoder'>\n"
     ]
    }
   ],
   "source": [
    "bart_encoder = bart.model.encoder\n",
    "bart_decoder = bart.model.decoder\n",
    "print(type(bart.model))\n",
    "print(type(bart_encoder))\n",
    "print(type(bart_decoder))"
   ]
  },
  {
   "cell_type": "markdown",
   "metadata": {},
   "source": [
    "#### Read XSum"
   ]
  },
  {
   "cell_type": "code",
   "execution_count": 6,
   "metadata": {},
   "outputs": [
    {
     "name": "stdout",
     "output_type": "stream",
     "text": [
      "11301\n"
     ]
    }
   ],
   "source": [
    "document_path = '/home/ml/cadencao/XSum/fairseq_files/test.source'\n",
    "target_path = '/home/ml/cadencao/XSum/fairseq_files/test.target'\n",
    "xsum_source = read_lines(document_path)\n",
    "xsum_target = read_lines(target_path)\n",
    "print(len(xsum_source))\n",
    "assert len(xsum_source) == len(xsum_target)"
   ]
  },
  {
   "cell_type": "markdown",
   "metadata": {},
   "source": [
    "#### Tokenization"
   ]
  },
  {
   "cell_type": "code",
   "execution_count": 7,
   "metadata": {},
   "outputs": [],
   "source": [
    "import spacy\n",
    "\n",
    "from fairseq.data.data_utils import collate_tokens"
   ]
  },
  {
   "cell_type": "code",
   "execution_count": 8,
   "metadata": {},
   "outputs": [],
   "source": [
    "nlp = spacy.load('en')"
   ]
  },
  {
   "cell_type": "markdown",
   "metadata": {},
   "source": [
    "#### Build a Masked Input"
   ]
  },
  {
   "cell_type": "code",
   "execution_count": 9,
   "metadata": {},
   "outputs": [],
   "source": [
    "input_sentence = \"A biscuit maker has gone into administration, with the loss of <mask> jobs, after the UK voted to leave the European Union.\"\n",
    "pred_sentence  = \"A biscuit maker has gone into administration, with the loss of more than 100 jobs, after the UK voted to leave the European Union.\""
   ]
  },
  {
   "cell_type": "code",
   "execution_count": 10,
   "metadata": {},
   "outputs": [
    {
     "name": "stdout",
     "output_type": "stream",
     "text": [
      "tensor([    0,   250, 39315,  6439,  4403,    34,  1613,    88,   942,     6,\n",
      "           19,     5,   872,     9, 50264,  1315,     6,    71,     5,   987,\n",
      "         2763,     7,   989,     5,   796,  1332,     4,     2])\n"
     ]
    }
   ],
   "source": [
    "bpe_code = bart.bpe.encode(input_sentence)  # 1279 27932 29\n",
    "input_ids = bart.task.source_dictionary.encode_line('<s> ' + bpe_code.replace('1279 27932 29', '<mask>'), append_eos=True).long()\n",
    "print(input_ids)"
   ]
  },
  {
   "cell_type": "code",
   "execution_count": 11,
   "metadata": {},
   "outputs": [
    {
     "data": {
      "text/plain": [
       "'A biscuit maker has gone into administration, with the loss of<mask> jobs, after the UK voted to leave the European Union.'"
      ]
     },
     "execution_count": 11,
     "metadata": {},
     "output_type": "execute_result"
    }
   ],
   "source": [
    "decode_func(input_ids.long())"
   ]
  },
  {
   "cell_type": "code",
   "execution_count": 12,
   "metadata": {},
   "outputs": [
    {
     "name": "stdout",
     "output_type": "stream",
     "text": [
      "torch.Size([30])\n",
      "torch.Size([1, 28])\n",
      "tensor([28], device='cuda:0')\n"
     ]
    }
   ],
   "source": [
    "INDEX = 6824\n",
    "# test_inputs = [xsum_source[INDEX]]\n",
    "# src_tokens = collate_tokens([encode_func(i) for i in test_inputs], pad_idx=1, left_pad=True)\n",
    "tgt_tokens = encode_func(pred_sentence).cuda()\n",
    "src_tokens = input_ids.unsqueeze(0).cuda()\n",
    "print(tgt_tokens.shape)\n",
    "print(src_tokens.shape)\n",
    "\n",
    "src_lengths = torch.sum(src_tokens != 1, dim=1)\n",
    "print(src_lengths)"
   ]
  },
  {
   "cell_type": "code",
   "execution_count": 13,
   "metadata": {},
   "outputs": [],
   "source": [
    "# encoding"
   ]
  },
  {
   "cell_type": "code",
   "execution_count": 14,
   "metadata": {},
   "outputs": [
    {
     "name": "stdout",
     "output_type": "stream",
     "text": [
      "torch.Size([28, 1, 1024])\n"
     ]
    }
   ],
   "source": [
    "encoder_out = bart_encoder(src_tokens, src_lengths=src_lengths)\n",
    "print(encoder_out.encoder_out.shape)  # [seq_len, batch_size, hidden_size]"
   ]
  },
  {
   "cell_type": "code",
   "execution_count": 15,
   "metadata": {},
   "outputs": [],
   "source": [
    "# decoding"
   ]
  },
  {
   "cell_type": "code",
   "execution_count": 16,
   "metadata": {},
   "outputs": [
    {
     "data": {
      "text/plain": [
       "tensor([    0,   250, 39315,  6439,  4403,    34,  1613,    88,   942,     6,\n",
       "           19,     5,   872,     9,    55,    87,   727,  1315,     6,    71,\n",
       "            5,   987,  2763,     7,   989,     5,   796,  1332,     4,     2],\n",
       "       device='cuda:0')"
      ]
     },
     "execution_count": 16,
     "metadata": {},
     "output_type": "execute_result"
    }
   ],
   "source": [
    "tgt_tokens"
   ]
  },
  {
   "cell_type": "code",
   "execution_count": 17,
   "metadata": {},
   "outputs": [
    {
     "name": "stdout",
     "output_type": "stream",
     "text": [
      "- 00: A (0.96094)\n",
      "- 01:  bisc (1.00000)\n",
      "- 02: uit (1.00000)\n",
      "- 03:  maker (1.00000)\n",
      "- 04:  has (0.99902)\n",
      "- 05:  gone (1.00000)\n",
      "- 06:  into (1.00000)\n",
      "- 07:  administration (1.00000)\n",
      "- 08: , (1.00000)\n",
      "- 09:  with (1.00000)\n",
      "- 10:  the (1.00000)\n",
      "- 11:  loss (1.00000)\n",
      "- 12:  of (1.00000)\n",
      "- 13:  more (0.15210)\n",
      "- 14:  than (0.99902)\n",
      "- 15:  100 (0.12085)\n",
      "- 16:  jobs (0.79443)\n",
      "- 17: , (0.96582)\n",
      "- 18:  after (0.99609)\n",
      "- 19:  the (1.00000)\n",
      "- 20:  UK (1.00000)\n",
      "- 21:  voted (1.00000)\n",
      "- 22:  to (1.00000)\n",
      "- 23:  leave (1.00000)\n",
      "- 24:  the (1.00000)\n",
      "- 25:  European (1.00000)\n",
      "- 26:  Union (1.00000)\n",
      "- 27: . (1.00000)\n",
      "- Lowest Probabilities: [15, 13, 16]\n"
     ]
    }
   ],
   "source": [
    "init_input = torch.tensor([[2, 0]] * src_tokens.shape[0], dtype=torch.long).cuda()\n",
    "min_decode_step, max_decode_step, pad_id, eos_id = 10, 60, 1, 2\n",
    "softmax = nn.Softmax(dim=1)\n",
    "token_probs, tokens = [], []\n",
    "\n",
    "for step in range(max_decode_step):\n",
    "    decoder_outputs = bart_decoder(init_input, encoder_out, features_only=False)\n",
    "    logits = decoder_outputs[0][:, -1, :]  # [batch_size, vocab]\n",
    "    if step + 1 < min_decode_step:\n",
    "        logits[:, eos_id] = -math.inf\n",
    "\n",
    "    logits[:, pad_id], logits[:, 0] = -math.inf, -math.inf  # never select pad, start token\n",
    "    probs = softmax(logits)\n",
    "    assert logits.shape == probs.shape\n",
    "\n",
    "    value, indices = torch.topk(probs, 5, dim=1)\n",
    "    selected_token = indices[:, 0]\n",
    "    # selected_token = tgt_tokens[1:][step].unsqueeze(0)\n",
    "\n",
    "    init_input = torch.cat([init_input, selected_token.unsqueeze(1)], dim=-1)\n",
    "    token, prob = decode_func(selected_token), probs.squeeze()[selected_token.item()].item()\n",
    "    token_probs.append(prob)\n",
    "    tokens.append(token)\n",
    "\n",
    "    if selected_token.item() == eos_id:\n",
    "        break\n",
    "    else:\n",
    "        print(\"- {:02d}: {} ({:.5f})\".format(step, token, prob), end='\\n')\n",
    "\n",
    "assert len(tokens) == len(token_probs)\n",
    "token_probs_sorted = [i for i in token_probs]\n",
    "token_probs_sorted.sort()\n",
    "print('- Lowest Probabilities: [{}, {}, {}]'.format(token_probs.index(token_probs_sorted[0]),\n",
    "                                                    token_probs.index(token_probs_sorted[1]),\n",
    "                                                    token_probs.index(token_probs_sorted[2])))"
   ]
  },
  {
   "cell_type": "code",
   "execution_count": 18,
   "metadata": {},
   "outputs": [
    {
     "name": "stdout",
     "output_type": "stream",
     "text": [
      "Target (Ryan Chase) not found!!!\n"
     ]
    },
    {
     "data": {
      "text/plain": [
       "-1.0"
      ]
     },
     "execution_count": 18,
     "metadata": {},
     "output_type": "execute_result"
    }
   ],
   "source": [
    "get_probability('Ryan Chase', tokens, token_probs)"
   ]
  },
  {
   "cell_type": "code",
   "execution_count": 19,
   "metadata": {},
   "outputs": [
    {
     "name": "stdout",
     "output_type": "stream",
     "text": [
      "A biscuit maker has gone into administration, with the loss of more than 100 jobs, after the UK voted to leave the European Union.\n"
     ]
    }
   ],
   "source": [
    "hypothesis = decode_func(init_input[0])\n",
    "print(hypothesis)"
   ]
  },
  {
   "cell_type": "code",
   "execution_count": 20,
   "metadata": {},
   "outputs": [
    {
     "data": {
      "text/plain": [
       "'A biscuit maker has gone into administration, with the loss of <mask> jobs, after the UK voted to leave the European Union.'"
      ]
     },
     "execution_count": 20,
     "metadata": {},
     "output_type": "execute_result"
    }
   ],
   "source": [
    "input_sentence"
   ]
  },
  {
   "cell_type": "code",
   "execution_count": null,
   "metadata": {},
   "outputs": [],
   "source": []
  }
 ],
 "metadata": {
  "kernelspec": {
   "display_name": "Python 3",
   "language": "python",
   "name": "python3"
  },
  "language_info": {
   "codemirror_mode": {
    "name": "ipython",
    "version": 3
   },
   "file_extension": ".py",
   "mimetype": "text/x-python",
   "name": "python",
   "nbconvert_exporter": "python",
   "pygments_lexer": "ipython3",
   "version": "3.7.7"
  }
 },
 "nbformat": 4,
 "nbformat_minor": 4
}
