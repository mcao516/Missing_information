{
 "cells": [
  {
   "cell_type": "markdown",
   "metadata": {},
   "source": [
    "### CNN/DailyMail"
   ]
  },
  {
   "cell_type": "code",
   "execution_count": 1,
   "metadata": {},
   "outputs": [],
   "source": [
    "test_source_path = '/home/ml/cadencao/cnn-dailymail/cnn_dm/test.source'\n",
    "test_target_path = '/home/ml/cadencao/cnn-dailymail/cnn_dm/test.target'\n",
    "test_preds_path = 'preds/test.hypo'"
   ]
  },
  {
   "cell_type": "code",
   "execution_count": 2,
   "metadata": {},
   "outputs": [],
   "source": [
    "def read_lines(file_path):\n",
    "    files = []\n",
    "    with open(file_path, 'r', encoding='utf-8') as f:\n",
    "        for line in f:\n",
    "            files.append(line.strip())\n",
    "    return files"
   ]
  },
  {
   "cell_type": "code",
   "execution_count": 4,
   "metadata": {},
   "outputs": [],
   "source": [
    "source = read_lines(test_source_path)\n",
    "target = read_lines(test_target_path)\n",
    "# preds = read_lines(test_preds_path)\n",
    "# assert len(source) == len(target) == len(preds)\n",
    "# print(len(source))"
   ]
  },
  {
   "cell_type": "code",
   "execution_count": 5,
   "metadata": {},
   "outputs": [],
   "source": [
    "true_preds = [0, 3205, 598, 5211, 10437, 1778, 5282, 9961, 6955, 1454, 2606, 885, 7249, 10877, 8701,\n",
    "              7513, 7663, 703, 9591, 870, 3779, 5872, 5171, 10230, 2018, 10832, 6680, 3666, 9563, 3067,\n",
    "              5470, 10233, 1149, 5980, 10413, 1123, 4277, 10721, 8259, 4053, 10366, 4655, 4321]\n",
    "false_preds = [{'id': 3620, 'description': 'Should be Fantasy Football XI, not #one2eleven XI',\n",
    "                'type': ['wrong modifier'], 'operation': 'deletion'},\n",
    "               {'id': 2210, 'description': 'should be loss not defeat; also \"The former Motherwell boss replaced Kenny McDowall at Ibrox\" sounds wrong',\n",
    "                'type': ['logic error', 'nonsense'], 'operation': ['replacement', 'deletion']},\n",
    "               {'id': 3355, 'description': '\"England set-up\" should be \"international set-up\"',\n",
    "                'type': ['wrong modifier'], 'operation': ['replacement']},\n",
    "               {'id': 3997, 'description': '\"Monaco vice-president Vadim Vasilyev said\" is wrong, should be \"Chief executive Ed Woodward\"',\n",
    "                'type': ['wrong entity'], 'operation': ['replacement']},\n",
    "               {'id': 4795, 'description': '\"Jermain Defoe\" is not the top of the list',\n",
    "                'type': ['hallucination'], 'operation': ['deletion']},\n",
    "               {'id': 3934, 'description': 'wrong score, should not be 2-1, should be 2-3',\n",
    "                'type': ['wrong number'], 'operation': ['replacement']},\n",
    "               {'id': 4165, 'description': 'Arsenal is not favorite this season; Wender but not Gunners need to show some balls.',\n",
    "                'type': ['hallucination', 'wrong subject'], 'operation': ['deletion', 'replacement']}]"
   ]
  },
  {
   "cell_type": "code",
   "execution_count": 6,
   "metadata": {},
   "outputs": [
    {
     "name": "stdout",
     "output_type": "stream",
     "text": [
      "- True: 43\n",
      "- False: 7\n",
      "- Total: 50\n"
     ]
    }
   ],
   "source": [
    "print('- True: {}'.format(len(true_preds)))\n",
    "print('- False: {}'.format(len(false_preds)))\n",
    "print('- Total: {}'.format(len(true_preds) + len(false_preds)))"
   ]
  },
  {
   "cell_type": "code",
   "execution_count": 7,
   "metadata": {},
   "outputs": [],
   "source": [
    "import random"
   ]
  },
  {
   "cell_type": "code",
   "execution_count": 9,
   "metadata": {},
   "outputs": [],
   "source": [
    "# index = random.randint(0, len(source))\n",
    "# index = 8805\n",
    "# print('# {}:\\n{}\\n\\n{}\\n\\n{}'.format(index, preds[index], target[index], source[index]))"
   ]
  },
  {
   "cell_type": "markdown",
   "metadata": {},
   "source": [
    "### XSum"
   ]
  },
  {
   "cell_type": "code",
   "execution_count": 10,
   "metadata": {},
   "outputs": [],
   "source": [
    "test_source_path = '/home/ml/cadencao/XSum/fairseq_files/test.source'\n",
    "test_target_path = '/home/ml/cadencao/XSum/fairseq_files/test.target'\n",
    "test_preds_path = 'preds/xsum_preds.hypo'"
   ]
  },
  {
   "cell_type": "code",
   "execution_count": null,
   "metadata": {},
   "outputs": [],
   "source": [
    "xsum_source = read_lines(test_source_path)\n",
    "xsum_target = read_lines(test_target_path)\n",
    "xsum_preds = read_lines(test_preds_path)\n",
    "assert len(xsum_source) == len(xsum_target) == len(xsum_preds)\n",
    "print(len(xsum_preds))"
   ]
  },
  {
   "cell_type": "code",
   "execution_count": null,
   "metadata": {},
   "outputs": [],
   "source": [
    "xsum_true = [922, 10066, 1367, 11207, 694, 3211, 10524, 10488, 4809, 6228, 10517]\n",
    "xsum_false = [{'id': 8805, 'description': 'Wrong number; The company cut 99 staff but in the summary it says more than 100 jobs.',\n",
    "                'type': ['number'], 'operation': ['replacement'], 'segment': 'more than 100 jobs'},\n",
    "              {'id': 9444, 'description': 'Wrong location; \"Swansea\" is not mentioned in the document.',\n",
    "                'type': ['location'], 'operation': ['deletion'], 'segment': 'A Swansea hospital'},\n",
    "              {'id': 1431, 'description': 'Wrong name; should not be \"Federico Fazio\" (the name is not mentioned in the document).',\n",
    "                'type': ['location'], 'operation': ['deletion'], 'segment': 'Federico Fazio'},\n",
    "              {'id': 7079, 'description': 'Scottish champions are not mentioned in the document.',\n",
    "                'type': ['hallucination'], 'operation': ['deletion'], 'segment': 'the Scottish champions'},\n",
    "              {'id': 2427, 'description': 'First name \"Justin\" is not mentioned. Is not the mother who died.',\n",
    "                'type': ['hallucination'], 'operation': ['deletion'], 'segment': ['Justin', 'who died at mother-and-baby homes']},\n",
    "              {'id': 6220, 'description': '\"Swansea Power Station\" is not mentioned and wrong.',\n",
    "                'type': ['hallucination'], 'operation': ['deletion'], 'segment': ['Swansea Power Station']},\n",
    "              {'id': 5860, 'description': 'Wrong number (£940) and unmentioned date (1 July).',\n",
    "                'type': ['number', 'hallucination'], 'operation': ['replacement', 'deletion'], 'segment': ['£940', 'from 1 July']},\n",
    "              {'id': 10579, 'description': 'Wrong place.',\n",
    "                'type': ['location'], 'operation': ['deletion'], 'segment': ['Leytonstone']},\n",
    "              {'id': 5455, 'description': 'Wrong nationality and \"sentenced to life in prison\" is not mentioned.',\n",
    "                'type': ['attribute', 'hallucination'], 'operation': ['replacement', 'deletion'], 'segment': ['British', 'has been sentenced to life in prison']},\n",
    "              {'id': 1168, 'description': '\"undisclosed sum\" is not mentioned in the documetn; object is wrong.',\n",
    "                'type': ['hallucination', 'object'], 'operation': ['deletion', 'replacement'], 'segment': ['for an undisclosed sum', 'a Belfast-based investment firm']},\n",
    "              {'id': 2407, 'description': 'Wrong number.',\n",
    "                'type': ['number'], 'operation': ['deletion'], 'segment': ['1,000']},\n",
    "              {'id': 416, 'description': 'Wrong subject.',\n",
    "                'type': ['subject'], 'operation': ['deletion'], 'segment': ['Watford']},\n",
    "              {'id': 6824, 'description': 'Ryan is wrong, should be Rangi; \"subject to a medical and a work permit\" is not mentioned in the document.',\n",
    "                'type': [''], 'operation': [''], 'segment': ['']},\n",
    "              {'id': 1513, 'description': 'Wrong number; opposite transfer direction and collapsed reason.',\n",
    "                'type': ['hallucination', 'entity'], 'operation': ['deletion', 'replacement'], 'segment': ['£35m', 'after the Spanish club said it would appeal against the transfer.']},\n",
    "              {'id': 1819, 'description': '\"totally insensitive\" to the nationalist population',\n",
    "                'type': [''], 'operation': ['replacement'], 'segment': ['totally insensitive']},\n",
    "              {'id': 560, 'description': 'Wrong first name (Ottis).',\n",
    "                'type': [''], 'operation': ['replacement'], 'segment': ['Ottis']},\n",
    "              {'id': 4174, 'description': '\"has left the country\" is not accurate. Should be left the island.',\n",
    "                'type': [''], 'operation': ['replacement'], 'segment': ['country']},\n",
    "              {'id': 2194, 'description': 'Wrong first name (David).',\n",
    "                'type': ['hallucination'], 'operation': ['deletion'], 'segment': ['David']},\n",
    "              {'id': 2517, 'description': '\"Barnsley\" and \"Boundary Park\" are wrong and not mentioned.',\n",
    "                'type': ['hallucination'], 'operation': [''], 'segment': ['']},\n",
    "             ]\n",
    "entity_change = [10579, 2407, 416, 6824, 1513, 560, 5860, 6220, 2427, 1431, 9444] # 30%\n",
    "correct = [1819, 1168, 5455]"
   ]
  },
  {
   "cell_type": "code",
   "execution_count": null,
   "metadata": {},
   "outputs": [],
   "source": [
    "print('- True: {}'.format(len(xsum_true)))\n",
    "print('- False: {}'.format(len(xsum_false)))\n",
    "print('- Total: {}'.format(len(xsum_true) + len(xsum_false)))"
   ]
  },
  {
   "cell_type": "code",
   "execution_count": null,
   "metadata": {},
   "outputs": [],
   "source": [
    "index = random.randint(0, len(xsum_source))\n",
    "index = 6824\n",
    "print('# {}:\\n{}\\n\\n{}\\n\\n{}'.format(index, xsum_preds[index], xsum_target[index], xsum_source[index]))"
   ]
  },
  {
   "cell_type": "markdown",
   "metadata": {},
   "source": [
    "#### XSum Entity Hallucination"
   ]
  },
  {
   "cell_type": "code",
   "execution_count": null,
   "metadata": {},
   "outputs": [],
   "source": [
    "import spacy\n",
    "\n",
    "nlp = spacy.load('en')"
   ]
  },
  {
   "cell_type": "code",
   "execution_count": null,
   "metadata": {},
   "outputs": [],
   "source": [
    "out = nlp(xsum_preds[6228])\n",
    "print(out)"
   ]
  },
  {
   "cell_type": "code",
   "execution_count": null,
   "metadata": {},
   "outputs": [],
   "source": [
    "out.ents"
   ]
  },
  {
   "cell_type": "code",
   "execution_count": null,
   "metadata": {},
   "outputs": [],
   "source": [
    "xsum_false = [{'id': 8805, 'ents': ['more than 100', 'UK', 'the European Union'],\n",
    "               'hallucinated': ['more than 100']},\n",
    "              {'id': 9444, 'ents': ['Swansea'],\n",
    "               'hallucinated': ['Swansea']},\n",
    "              {'id': 1431, 'ents': ['Middlesbrough', 'Federico', 'Fazio'],\n",
    "               'hallucinated': ['Federico']},\n",
    "              {'id': 7079, 'ents': ['New Celtic', 'Brendan Rodgers', 'first', 'Scottish'],\n",
    "               'hallucinated': []},\n",
    "              {'id': 2427, 'ents': ['Dublin', 'Justin', 'Martin', 'the Catholic Church', 'Ireland'],\n",
    "               'hallucinated': ['Justin']},\n",
    "              {'id': 6220, 'ents': ['Swansea Power Station'],\n",
    "               'hallucinated': ['Swansea Power Station']},\n",
    "              {'id': 5860, 'ents': ['London', '1 July', '£9.15', '£9.40'],\n",
    "               'hallucinated': ['1 July']},\n",
    "              {'id': 10579, 'ents': ['Sydney', 'first', 'Leytonstone', 'two'],\n",
    "               'hallucinated': ['Leytonstone']},\n",
    "              {'id': 5455, 'ents': ['British', 'Manchester', '2009', 'the United States'],\n",
    "               'hallucinated': ['British']},\n",
    "              {'id': 1168, 'ents': ['Boojum Mexican', 'Belfast'],\n",
    "               'hallucinated': []},\n",
    "              {'id': 2407, 'ents': ['BlackRock', 'up to 1,000'],\n",
    "               'hallucinated': ['up to 1,000']},\n",
    "              {'id': 416, 'ents': ['Watford', 'Dutch', 'Marvin', 'Verheydt', 'Dutch', 'Maastricht'],\n",
    "               'hallucinated': ['Watford', 'Marvin']},  # Watford is mentioned but wrong here\n",
    "              {'id': 6824, 'ents': ['Leigh Centurions', 'England', 'Ryan', 'Chase', 'Salford Red Devils'],\n",
    "               'hallucinated': ['Ryan']},\n",
    "              {'id': 1513, 'ents': ['Manchester United', '£35m', 'Spain', 'David de Gea', 'Real Madrid', 'Spanish'],\n",
    "               'hallucinated': ['£35m']},\n",
    "              {'id': 1819, 'ents': ['Bloody Sunday'],\n",
    "               'hallucinated': []},\n",
    "              {'id': 560, 'ents': ['South Africa', '2017', 'England', 'Ottis', 'Domingo'],\n",
    "               'hallucinated': ['Ottis']},\n",
    "              {'id': 922, 'ents': ['Ofqual', 'GCSEs'],\n",
    "               'hallucinated': []},\n",
    "              {'id': 10066, 'ents': ['more than a month ago'],\n",
    "               'hallucinated': ['more than a month ago']},\n",
    "              {'id': 1367, 'ents': ['David', 'Mullins', 'the Grand National at Aintree', 'first', 'Saturday'],\n",
    "               'hallucinated': []},\n",
    "              {'id': 11207, 'ents': ['Boston Marathon'],\n",
    "               'hallucinated': []},\n",
    "              {'id': 694, 'ents': ['the end of the century'],\n",
    "               'hallucinated': []},\n",
    "              {'id': 3211, 'ents': ['Michigan'],\n",
    "               'hallucinated': []},\n",
    "              {'id': 10524, 'ents': ['Edinburgh Zoo', 'Tian Tian'],\n",
    "               'hallucinated': []},\n",
    "              {'id': 4174, 'ents': ['British', 'Malaysia'],\n",
    "               'hallucinated': []},\n",
    "              {'id': 10488, 'ents': ['Wales', 'Estyn'],\n",
    "               'hallucinated': []},\n",
    "              {'id': 2194, 'ents': ['David', 'Chase'],\n",
    "               'hallucinated': ['David']},\n",
    "              {'id': 4809, 'ents': ['US', 'State Rex Tillerson'],\n",
    "               'hallucinated': []},\n",
    "              {'id': 2517, 'ents': ['Oldham', 'Barnsley', 'Boundary Park'],\n",
    "               'hallucinated': ['Barnsley', 'Boundary Park']},\n",
    "              {'id': 6228, 'ents': ['seven-month'],\n",
    "               'hallucinated': []},\n",
    "              {'id': 10517, 'ents': ['more than 100', 'PSNI'],\n",
    "               'hallucinated': ['more than 100']},\n",
    "             ]"
   ]
  },
  {
   "cell_type": "code",
   "execution_count": null,
   "metadata": {},
   "outputs": [],
   "source": [
    "len(xsum_false)"
   ]
  },
  {
   "cell_type": "code",
   "execution_count": null,
   "metadata": {},
   "outputs": [],
   "source": [
    "import json"
   ]
  },
  {
   "cell_type": "code",
   "execution_count": null,
   "metadata": {},
   "outputs": [],
   "source": [
    "with open('hallucinated_span.jsonl', 'w') as f:\n",
    "    for x in xsum_false:\n",
    "        f.write(json.dumps(x) + '\\n')"
   ]
  },
  {
   "cell_type": "code",
   "execution_count": null,
   "metadata": {},
   "outputs": [],
   "source": []
  }
 ],
 "metadata": {
  "kernelspec": {
   "display_name": "Python 3",
   "language": "python",
   "name": "python3"
  },
  "language_info": {
   "codemirror_mode": {
    "name": "ipython",
    "version": 3
   },
   "file_extension": ".py",
   "mimetype": "text/x-python",
   "name": "python",
   "nbconvert_exporter": "python",
   "pygments_lexer": "ipython3",
   "version": "3.7.7"
  }
 },
 "nbformat": 4,
 "nbformat_minor": 4
}
