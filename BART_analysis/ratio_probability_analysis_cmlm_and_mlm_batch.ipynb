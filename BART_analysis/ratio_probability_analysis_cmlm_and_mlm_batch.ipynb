{
 "cells": [
  {
   "cell_type": "code",
   "execution_count": 1,
   "metadata": {},
   "outputs": [],
   "source": [
    "import json\n",
    "import math\n",
    "import torch\n",
    "import torch.nn as nn\n",
    "\n",
    "from fairseq.models.bart import BARTModel\n",
    "from utils import read_lines\n",
    "\n",
    "from transformers import BartTokenizer"
   ]
  },
  {
   "cell_type": "code",
   "execution_count": 2,
   "metadata": {},
   "outputs": [],
   "source": [
    "PATH = json.load(open('path_config.json'))"
   ]
  },
  {
   "cell_type": "code",
   "execution_count": 3,
   "metadata": {},
   "outputs": [],
   "source": [
    "finetuned_bart = BARTModel.from_pretrained(PATH['cnndm_cmlm_cedar'],\n",
    "                                           checkpoint_file='checkpoint_best.pt',\n",
    "                                           data_name_or_path=PATH['data_name_or_path'])"
   ]
  },
  {
   "cell_type": "code",
   "execution_count": 4,
   "metadata": {},
   "outputs": [],
   "source": [
    "bart = BARTModel.from_pretrained(PATH['bart.large'],\n",
    "                                 checkpoint_file='model.pt',\n",
    "                                 data_name_or_path=PATH['bart.large'])"
   ]
  },
  {
   "cell_type": "markdown",
   "metadata": {},
   "source": [
    "#### Read XSum"
   ]
  },
  {
   "cell_type": "code",
   "execution_count": 5,
   "metadata": {},
   "outputs": [
    {
     "name": "stdout",
     "output_type": "stream",
     "text": [
      "11301\n"
     ]
    }
   ],
   "source": [
    "document_path = PATH['xsum_fariseq'] + '/test.source'\n",
    "target_path = PATH['xsum_fariseq'] + '/test.target'\n",
    "xsum_source = read_lines(document_path)\n",
    "xsum_target = read_lines(target_path)\n",
    "print(len(xsum_source))\n",
    "assert len(xsum_source) == len(xsum_target)"
   ]
  },
  {
   "cell_type": "markdown",
   "metadata": {},
   "source": [
    "#### Generate Summary"
   ]
  },
  {
   "cell_type": "code",
   "execution_count": 6,
   "metadata": {},
   "outputs": [],
   "source": [
    "from fairseq.data.data_utils import collate_tokens"
   ]
  },
  {
   "cell_type": "code",
   "execution_count": 7,
   "metadata": {},
   "outputs": [],
   "source": [
    "class ConditionalSequenceGenerator:\n",
    "    \"\"\"Conditional sequence generator for calculating prior and posterior probability.\"\"\"\n",
    "    def __init__(self, bart):\n",
    "        self.bart = bart\n",
    "        self.tokenizer = BartTokenizer.from_pretrained(\"facebook/bart-large\")\n",
    "        \n",
    "        self.encode_func = bart.encode\n",
    "        self.decode_func = bart.decode\n",
    "        self.max_positions = bart.max_positions\n",
    "        self.encode_line = bart.task.source_dictionary.encode_line\n",
    "        \n",
    "        self._initialize()\n",
    "    \n",
    "    def _initialize(self):\n",
    "        \"\"\"Set BART model to evaluation mode.\"\"\"\n",
    "        self.bart.cuda()\n",
    "        self.bart.eval()\n",
    "        self.bart.half()\n",
    "        \n",
    "    def tokenize(self, input_str, append_bos=False, append_eos=True, left_pad=True):\n",
    "        \"\"\"BPE-encode a sentence (or multiple sentences).\n",
    "\n",
    "        Args:\n",
    "            input_str (str or List[str]): input sentence to be tokenized.\n",
    "            append_bos (bool): self-explained.\n",
    "            append_eos (bool): self-explained.\n",
    "\n",
    "        Return:\n",
    "            input_ids (torch.Tensor): [batch_size, length]\n",
    "            src_lengths (torch.Tensor): [batch_size]\n",
    "        \"\"\"\n",
    "        if type(input_str) == type(''):\n",
    "            input_str = [input_str]\n",
    "\n",
    "        input_ids = []\n",
    "        for ins in input_str:\n",
    "            tokens = self.bart.bpe.encode(ins)  # <mask>: 1279 27932 29\n",
    "            calibration = sum([append_bos, append_eos])\n",
    "            if len(tokens.split(\" \")) > min(self.max_positions) - calibration:\n",
    "                tokens = \" \".join(tokens.split(\" \")[: min(self.max_positions) - calibration])\n",
    "\n",
    "            tokens = \"<s> \" + tokens if append_bos else tokens\n",
    "            tokens = tokens + \" </s>\" if append_eos else tokens\n",
    "            ids = self.encode_line(tokens, append_eos=False).long()\n",
    "            input_ids.append(ids)\n",
    "\n",
    "        input_ids = collate_tokens(input_ids, pad_idx=1, left_pad=left_pad).cuda()\n",
    "        input_lengths = torch.sum(input_ids != 1, dim=1).cuda()\n",
    "\n",
    "        return input_ids, input_lengths\n",
    "    \n",
    "    def tokenize_with_mask(self, input_str):\n",
    "        \"\"\"Tokenize sentence with a special <mask> token in it.\n",
    "\n",
    "        Args:\n",
    "            input_str (str or List[str]): input sentence to be tokenized.\n",
    "\n",
    "        Return:\n",
    "            input_ids (torch.Tensor): [batch_size, length]\n",
    "            src_lengths (torch.Tensor): [batch_size]\n",
    "        \"\"\"\n",
    "        input_ids = self.tokenizer(input_str, return_tensors='pt', padding=True)['input_ids'].cuda()\n",
    "        input_lengths = torch.sum(input_ids != 1, dim=1).cuda()\n",
    "        return input_ids, input_lengths\n",
    "    \n",
    "    def generate(self, src_input, tgt_input=None):\n",
    "        \"\"\"Conditional generation.\"\"\"\n",
    "        input_ids, lengths = self.tokenize(src_input, append_bos=False) \n",
    "        \n",
    "        target_ids = None\n",
    "        if tgt_input is not None:\n",
    "            assert len(src_input) == len(tgt_input), \"source & target length should match.\"\n",
    "            target_ids, _ = self.tokenize(tgt_input, append_bos=False, left_pad=False)\n",
    "        \n",
    "        with torch.no_grad():\n",
    "            encoder_output = self.encode_sequence(input_ids, lengths)\n",
    "            decoder_output = self.decode_sequence(encoder_output, \n",
    "                                                  target_ids=target_ids,\n",
    "                                                  prefix_tokens=[2])\n",
    "        return decoder_output\n",
    "    \n",
    "    def mask_filling(self, src_input, tgt_input=None):\n",
    "        \"\"\"\n",
    "        Filling the mask in sentence(s).\n",
    "        \"\"\"\n",
    "        input_ids, lengths = self.tokenize_with_mask(src_input)\n",
    "        \n",
    "        target_ids = None\n",
    "        if tgt_input is not None:\n",
    "            assert len(src_input) == len(tgt_input), \"source & target length should match.\"\n",
    "            target_ids, _ = self.tokenize(tgt_input, left_pad=False)\n",
    "\n",
    "        with torch.no_grad():\n",
    "            encoder_output = self.encode_sequence(input_ids, lengths)\n",
    "            decoder_output = self.decode_sequence(encoder_output, \n",
    "                                                  target_ids=target_ids,\n",
    "                                                  prefix_tokens=[2, 0])\n",
    "        return decoder_output\n",
    "    \n",
    "    def encode_sequence(self, input_ids, lengths):\n",
    "        return self.bart.model.encoder(input_ids, src_lengths=lengths)\n",
    "        \n",
    "    def decode_sequence(\n",
    "        self,\n",
    "        encoder_out,\n",
    "        target_ids=None,\n",
    "        min_decode_step=3,\n",
    "        max_decode_step=100,\n",
    "        pad_id=1,\n",
    "        eos_id=2,\n",
    "        prefix_tokens=[2, 0],\n",
    "    ):\n",
    "        batch_size = encoder_out['encoder_padding_mask'][0].shape[0]\n",
    "        init_input = torch.tensor([prefix_tokens] * batch_size, dtype=torch.long).cuda()\n",
    "        token_probs, tokens = None, [[] for i in range(batch_size)]\n",
    "        end_mask = torch.tensor([False] * batch_size).cuda()\n",
    "\n",
    "        softmax = nn.Softmax(dim=1)\n",
    "        for step in range(max_decode_step):\n",
    "            decoder_outputs = self.bart.model.decoder(init_input, encoder_out, features_only=False)\n",
    "            logits = decoder_outputs[0][:, -1, :]  # logits: [batch_size, vocab]\n",
    "            attn = decoder_outputs[1]['attn'][0]  # [batch_size, prev_token_len, src_token_len]\n",
    "\n",
    "            if step + 1 < min_decode_step:\n",
    "                logits[:, eos_id] = -math.inf  # mask <EOS> token when within minimal step\n",
    "            logits[:, pad_id], logits[:, 0] = -math.inf, -math.inf  # never select <PAD> & <BOS> token\n",
    "            probs = softmax(logits)  # probs: [batch_size, vocab]\n",
    "\n",
    "            # select tokens\n",
    "            if target_ids is not None:\n",
    "                selected_token = target_ids[:, step]\n",
    "            else:\n",
    "                value, indices = torch.topk(probs, 5, dim=1)\n",
    "                selected_token = indices[:, 0]\n",
    "\n",
    "            selected_token = selected_token.masked_fill(end_mask, pad_id)\n",
    "            init_input = torch.cat([init_input, selected_token.unsqueeze(1)], dim=-1)\n",
    "            \n",
    "            probs = torch.gather(probs, 1, selected_token.unsqueeze(1)).detach()\n",
    "            probs = probs.masked_fill(end_mask.unsqueeze(1), 1.0)\n",
    "            \n",
    "            # str & probability\n",
    "            token_probs = probs if token_probs is None else torch.cat([token_probs, probs], dim=-1)\n",
    "            for t, s in zip(tokens, selected_token):\n",
    "                t.append(self.decode_func(s.unsqueeze(0)) if s.item() != pad_id else '<pad>')\n",
    "            \n",
    "            # stop generation when all finished\n",
    "            end_mask = torch.logical_or(end_mask, selected_token == eos_id) \n",
    "            if end_mask.sum().item() == batch_size:\n",
    "                break\n",
    "\n",
    "        return init_input, tokens, token_probs\n",
    "    \n",
    "#     def tokenize_with_mask(self, input_str, append_bos=False, append_eos=True, left_pad=True):\n",
    "#         \"\"\"Tokenize sentence with a special <mask> token in it.\n",
    "\n",
    "#         Args:\n",
    "#             input_str (str or List[str]): input sentence to be tokenized.\n",
    "#             append_bos (bool): self-explained.\n",
    "#             append_eos (bool): self-explained.\n",
    "\n",
    "#         Return:\n",
    "#             input_ids (torch.Tensor): [batch_size, length]\n",
    "#             src_lengths (torch.Tensor): [batch_size]\n",
    "#         \"\"\"\n",
    "#         if type(input_str) == type(''):\n",
    "#             input_str = [input_str]\n",
    "\n",
    "#         input_ids = []\n",
    "#         for ins in input_str:\n",
    "#             if ' <mask> ' not in ins:\n",
    "#                 if '<mask> ' in ins:\n",
    "#                     ins = ins.replace('<mask> ', ' <mask> ')\n",
    "#                 elif ' <mask>' in ins:\n",
    "#                     ins = ins.replace(' <mask>', ' <mask> ')\n",
    "#                 elif '<mask>' in ins:\n",
    "#                     ins = ins.replace('<mask>', ' <mask> ')\n",
    "\n",
    "#             tokens = self.bart.bpe.encode(ins)  # <mask>: 1279 27932 29\n",
    "#             assert '1279 27932 29' in tokens\n",
    "#             calibration = sum([append_bos, append_eos])\n",
    "#             if len(tokens.split(\" \")) > min(self.max_positions) - calibration:\n",
    "#                 tokens = \" \".join(tokens.split(\" \")[: min(self.max_positions) - calibration])\n",
    "\n",
    "#             tokens = \"<s> \" + tokens if append_bos else tokens\n",
    "#             tokens = tokens + \" </s>\" if append_eos else tokens\n",
    "#             ids = self.encode_line(tokens.replace('1279 27932 29', '<mask>'), \n",
    "#                                    append_eos=False).long()\n",
    "#             input_ids.append(ids)\n",
    "\n",
    "#         input_ids = collate_tokens(input_ids, pad_idx=1, left_pad=left_pad).cuda()\n",
    "#         input_lengths = torch.sum(input_ids != 1, dim=1).cuda()\n",
    "\n",
    "#         return input_ids, input_lengths"
   ]
  },
  {
   "cell_type": "code",
   "execution_count": 8,
   "metadata": {},
   "outputs": [],
   "source": [
    "def get_probability(position, tokens, probs, entity):\n",
    "    \"\"\"Calculate the probability of a span.\n",
    "\n",
    "    Args:\n",
    "        position: (start, end)\n",
    "        tokens: ['The', ' Archbishop', ' of', ...]\n",
    "        probs: [0.50, 0.49, 0.88, ...]\n",
    "        entity: Rodgers\n",
    "    \"\"\"\n",
    "    assert len(tokens) == len(probs), \"Tokens and token probabilities does not match.\"\n",
    "    \n",
    "    end_pointer, end_pos = 0, []\n",
    "    for t in tokens:\n",
    "        end_pointer += len(t)\n",
    "        end_pos.append(end_pointer)\n",
    "    \n",
    "    assert position[1] in end_pos, \"- {}\\n- {}\\n- {}\\n- {}\\n- {}\\n\".format(position, tokens, probs, entity, end_pos)\n",
    "    last_index = end_pos.index(position[1])\n",
    "    indexes = [last_index]\n",
    "    total_length = len(tokens[last_index])\n",
    "    \n",
    "    while total_length < (position[1] - position[0]):\n",
    "        last_index -= 1\n",
    "        assert last_index >= 0\n",
    "        indexes.append(last_index)\n",
    "        total_length += len(tokens[last_index])\n",
    "    \n",
    "    indexes.reverse()\n",
    "    \n",
    "    generated = ''.join([tokens[i] for i in indexes])\n",
    "    assert entity in generated, 'entity: {}; span: {}'.format(entity, generated)\n",
    "    \n",
    "    prob = 1.0\n",
    "    for i in indexes:\n",
    "        prob *= probs[i]\n",
    "    return prob"
   ]
  },
  {
   "cell_type": "code",
   "execution_count": 9,
   "metadata": {},
   "outputs": [],
   "source": [
    "def get_cmlm_probability(generator, src_input, tgt_input, position, entity):\n",
    "    outputs = generator.generate(src_input, tgt_input=tgt_input)\n",
    "    init_input, tokens, token_probs = outputs\n",
    "    \n",
    "    probs = []\n",
    "    for p, tok, tokp, e in zip(position, tokens, token_probs, entity):\n",
    "        probs.append(get_probability(p, tok, tokp, e).item())\n",
    "    \n",
    "    return probs"
   ]
  },
  {
   "cell_type": "code",
   "execution_count": 10,
   "metadata": {},
   "outputs": [],
   "source": [
    "def get_prior_probability(generator, src_input, tgt_input, position, entity):\n",
    "    assert len(src_input) == len(tgt_input), \"source & target length should match.\"\n",
    "    decoder_output = generator.mask_filling(src_input, tgt_input)\n",
    "    init_input, tokens, token_probs = decoder_output\n",
    "    \n",
    "    probs = []\n",
    "    for p, tok, tokp, e in zip(position, tokens, token_probs, entity):\n",
    "        probs.append(get_probability(p, tok, tokp, e).item())\n",
    "    return probs"
   ]
  },
  {
   "cell_type": "markdown",
   "metadata": {},
   "source": [
    "#### Get Conditional Probability"
   ]
  },
  {
   "cell_type": "code",
   "execution_count": 11,
   "metadata": {},
   "outputs": [],
   "source": [
    "import spacy\n",
    "\n",
    "nlp = spacy.load('en_core_web_sm')"
   ]
  },
  {
   "cell_type": "code",
   "execution_count": 12,
   "metadata": {},
   "outputs": [],
   "source": [
    "INDEX = 9444"
   ]
  },
  {
   "cell_type": "code",
   "execution_count": 13,
   "metadata": {},
   "outputs": [],
   "source": [
    "source = xsum_source[INDEX]\n",
    "target = \"Twin-to-twin transfusion syndrome (TTTS) is being tracked by a hospital in Cardiff in a bid to save the lives of babies born with the condition.\""
   ]
  },
  {
   "cell_type": "code",
   "execution_count": 14,
   "metadata": {},
   "outputs": [],
   "source": [
    "def prepare_inputs(source, target, ent_parts=None):\n",
    "    if ent_parts is None:\n",
    "        ent_parts = nlp(target).to_json()['ents']\n",
    "    \n",
    "    prior_inputs, prior_targets = [], []\n",
    "    posterior_inputs, posterior_targets = [], []\n",
    "    prior_position, posterior_position, entity = [], [], []\n",
    "\n",
    "    for e in ent_parts:\n",
    "        entity.append(target[e['start']: e['end']])\n",
    "\n",
    "        # prior model\n",
    "        prior_position.append((e['start'], e['end']))\n",
    "        prior_inputs.append(target[0: e['start']] + '<mask>' + target[e['end']:])\n",
    "        prior_targets.append(target)\n",
    "\n",
    "        # posterior model\n",
    "        posterior_position.append((e['start'] + 4, e['end'] + 4))\n",
    "\n",
    "        masked_hypothesis = target[0: e['start']] + '###' + target[e['end']:]\n",
    "        masked_hypothesis = '<s> ' + masked_hypothesis + ' <\\s> ' + source\n",
    "        posterior_inputs.append(masked_hypothesis)\n",
    "        posterior_targets.append('<s> ' + target)\n",
    "    \n",
    "    prior_args = (prior_inputs, prior_targets, prior_position, entity)\n",
    "    posterior_args = (posterior_inputs, posterior_targets, posterior_position, entity)\n",
    "    return prior_args, posterior_args"
   ]
  },
  {
   "cell_type": "code",
   "execution_count": 15,
   "metadata": {},
   "outputs": [],
   "source": [
    "pro, pos = prepare_inputs(source, target)"
   ]
  },
  {
   "cell_type": "code",
   "execution_count": 16,
   "metadata": {},
   "outputs": [
    {
     "data": {
      "text/plain": [
       "[0.0011692047119140625]"
      ]
     },
     "execution_count": 16,
     "metadata": {},
     "output_type": "execute_result"
    }
   ],
   "source": [
    "get_prior_probability(ConditionalSequenceGenerator(bart),\n",
    "                      pro[0], pro[1], pro[2], pro[3])"
   ]
  },
  {
   "cell_type": "code",
   "execution_count": 17,
   "metadata": {},
   "outputs": [
    {
     "data": {
      "text/plain": [
       "[0.004276275634765625]"
      ]
     },
     "execution_count": 17,
     "metadata": {},
     "output_type": "execute_result"
    }
   ],
   "source": [
    "get_cmlm_probability(ConditionalSequenceGenerator(finetuned_bart),\n",
    "                      pos[0], pos[1], pos[2], pos[3])"
   ]
  },
  {
   "cell_type": "markdown",
   "metadata": {},
   "source": [
    "#### Read Annotated Data"
   ]
  },
  {
   "cell_type": "code",
   "execution_count": 18,
   "metadata": {},
   "outputs": [],
   "source": [
    "import json\n",
    "\n",
    "from tqdm import tqdm"
   ]
  },
  {
   "cell_type": "code",
   "execution_count": 19,
   "metadata": {},
   "outputs": [
    {
     "name": "stdout",
     "output_type": "stream",
     "text": [
      "107\n"
     ]
    }
   ],
   "source": [
    "data = json.load(open('annotated.json', 'r'))\n",
    "print(len(data))"
   ]
  },
  {
   "cell_type": "code",
   "execution_count": 20,
   "metadata": {},
   "outputs": [
    {
     "data": {
      "text/plain": [
       "{'id': 5747,\n",
       " 'pred': 'Six teenagers have died from carbon monoxide poisoning after a party at a remote hut in northern Germany, police say.',\n",
       " 'ents': [{'start': 0, 'end': 3, 'label': 0, 'type': 'CARDINAL', 'ent': 'Six'},\n",
       "  {'start': 97, 'end': 104, 'label': 0, 'type': 'GPE', 'ent': 'Germany'}],\n",
       " 'hallucinations': []}"
      ]
     },
     "execution_count": 20,
     "metadata": {},
     "output_type": "execute_result"
    }
   ],
   "source": [
    "data[55]"
   ]
  },
  {
   "cell_type": "code",
   "execution_count": 21,
   "metadata": {},
   "outputs": [
    {
     "name": "stderr",
     "output_type": "stream",
     "text": [
      "100%|██████████| 107/107 [01:55<00:00,  1.08s/it]\n"
     ]
    }
   ],
   "source": [
    "prior_model = ConditionalSequenceGenerator(bart)\n",
    "posterior_model = ConditionalSequenceGenerator(finetuned_bart)\n",
    "\n",
    "for INDEX in tqdm(range(len(data))):\n",
    "    source = xsum_source[data[INDEX]['id']]\n",
    "    target = data[INDEX]['pred']\n",
    "    \n",
    "    pro, pos = prepare_inputs(source, target, data[INDEX]['ents'])\n",
    "    prior_probs = get_prior_probability(prior_model, pro[0], pro[1], pro[2], pro[3])\n",
    "    posterior_probs = get_cmlm_probability(posterior_model, pos[0], pos[1], pos[2], pos[3])\n",
    "    \n",
    "    assert len(prior_probs) == len(posterior_probs) == len(data[INDEX]['ents']), \"{};\\n {};\\n {}\".format(prior_probs, posterior_probs, data[INDEX]['ents'])\n",
    "    for i in range(len(prior_probs)):\n",
    "        data[INDEX]['ents'][i]['prior'] = prior_probs[i]\n",
    "        data[INDEX]['ents'][i]['posterior'] = posterior_probs[i]"
   ]
  },
  {
   "cell_type": "code",
   "execution_count": 22,
   "metadata": {},
   "outputs": [],
   "source": [
    "# import json"
   ]
  },
  {
   "cell_type": "code",
   "execution_count": 23,
   "metadata": {},
   "outputs": [],
   "source": [
    "# with open('prior_posterior.json', 'w') as fout:\n",
    "#     json.dump(prior_posterior , fout)"
   ]
  },
  {
   "cell_type": "markdown",
   "metadata": {},
   "source": [
    "#### Draw Diagram"
   ]
  },
  {
   "cell_type": "code",
   "execution_count": 24,
   "metadata": {},
   "outputs": [],
   "source": [
    "# prior_posterior = json.load(open('prior_posterior.json', 'r'))\n",
    "# print(len(prior_posterior))"
   ]
  },
  {
   "cell_type": "code",
   "execution_count": 25,
   "metadata": {},
   "outputs": [],
   "source": [
    "%matplotlib inline\n",
    "\n",
    "import matplotlib.pyplot as plt"
   ]
  },
  {
   "cell_type": "code",
   "execution_count": 26,
   "metadata": {},
   "outputs": [],
   "source": [
    "prior_posterior = []\n",
    "for d in data:\n",
    "    for e in d['ents']:\n",
    "        e['id'] = d['id']\n",
    "        prior_posterior.append(e)"
   ]
  },
  {
   "cell_type": "code",
   "execution_count": 27,
   "metadata": {},
   "outputs": [
    {
     "data": {
      "image/png": "[encoded data removed]",
      "text/plain": [
       "<Figure size 1440x720 with 1 Axes>"
      ]
     },
     "metadata": {
      "needs_background": "light"
     },
     "output_type": "display_data"
    }
   ],
   "source": [
    "fig, ax = plt.subplots(figsize=(20.0, 10.0))\n",
    "colors = ['tab:blue', 'tab:orange', 'tab:green']\n",
    "\n",
    "no_hallucinated = [(p['prior'], p['posterior']) for p in prior_posterior if p['label'] == 0]\n",
    "hallucinated_true = [(p['prior'], p['posterior']) for p in prior_posterior if p['label'] == 1]\n",
    "hallucinated_false = [(p['prior'], p['posterior']) for p in prior_posterior if p['label'] == 2]\n",
    "hallucinated_intrinsic = [(p['prior'], p['posterior']) for p in prior_posterior if p['label'] == 3]\n",
    "\n",
    "ax.scatter([i[0] for i in no_hallucinated], \n",
    "           [i[1] for i in no_hallucinated], c='tab:blue', s=[i[1]*100 + 40 for i in no_hallucinated], label='Non-hallucination', alpha=0.7)\n",
    "\n",
    "ax.scatter([i[0] for i in hallucinated_true], \n",
    "           [i[1] for i in hallucinated_true], c='tab:green', s=[i[1]*100 + 40 for i in hallucinated_true], label='Hallucination True', alpha=0.65)\n",
    "\n",
    "ax.scatter([i[0] for i in hallucinated_false], \n",
    "           [i[1] for i in hallucinated_false], c='tab:orange', s=[i[1]*100 + 40 for i in hallucinated_false], label='Hallucination False', alpha=0.6)\n",
    "\n",
    "ax.scatter([i[0] for i in hallucinated_intrinsic], \n",
    "           [i[1] for i in hallucinated_intrinsic], c='tab:red', s=[i[1]*100 + 40 for i in hallucinated_intrinsic], label='Intrinsic Hallucination', alpha=0.6)\n",
    "\n",
    "ax.scatter([1.0], [1.0], c='tab:gray', s=10)\n",
    "\n",
    "ax.set_xlabel('Prior Probability')\n",
    "ax.set_ylabel('Posterior Probability')\n",
    "ax.legend()\n",
    "ax.grid(True)\n",
    "\n",
    "# plt.savefig('foo.png')\n",
    "plt.show()"
   ]
  },
  {
   "cell_type": "code",
   "execution_count": 28,
   "metadata": {},
   "outputs": [],
   "source": [
    "# for p in prior_posterior:\n",
    "#     if p['label'] == 0 and p['posterior'] < 0.2:\n",
    "#         print(p)"
   ]
  },
  {
   "cell_type": "markdown",
   "metadata": {},
   "source": [
    "#### Classification"
   ]
  },
  {
   "cell_type": "code",
   "execution_count": 29,
   "metadata": {},
   "outputs": [
    {
     "data": {
      "text/plain": [
       "{'start': 62,\n",
       " 'end': 75,\n",
       " 'label': 2,\n",
       " 'type': 'CARDINAL',\n",
       " 'ent': 'more than 100',\n",
       " 'prior': 0.0194091796875,\n",
       " 'posterior': 0.002681732177734375,\n",
       " 'id': 8805}"
      ]
     },
     "execution_count": 29,
     "metadata": {},
     "output_type": "execute_result"
    }
   ],
   "source": [
    "prior_posterior[0]"
   ]
  },
  {
   "cell_type": "code",
   "execution_count": 30,
   "metadata": {},
   "outputs": [],
   "source": [
    "true_label = []\n",
    "ent_pred_label = []\n",
    "prob_pred_label = []\n",
    "\n",
    "for p in prior_posterior:\n",
    "    if p['label'] is not None:\n",
    "        source = xsum_source[p['id']]\n",
    "\n",
    "        if p['ent'].lower() in source.lower():\n",
    "            ent_pred_label.append(0)\n",
    "        else:\n",
    "            ent_pred_label.append(1)\n",
    "\n",
    "        if p['label'] == 0 or p['label'] == 1:\n",
    "            true_label.append(0)\n",
    "        elif p['label'] == 2 or p['label'] == 3:\n",
    "            true_label.append(1)\n",
    "        else:\n",
    "            raise Exception(\"ERROR! {}\".format(p['label']))\n",
    "\n",
    "        if p['posterior'] > 0.2:\n",
    "            prob_pred_label.append(0)\n",
    "        else:\n",
    "            prob_pred_label.append(1)"
   ]
  },
  {
   "cell_type": "code",
   "execution_count": 31,
   "metadata": {},
   "outputs": [],
   "source": [
    "from sklearn.metrics import classification_report"
   ]
  },
  {
   "cell_type": "code",
   "execution_count": 32,
   "metadata": {},
   "outputs": [
    {
     "name": "stdout",
     "output_type": "stream",
     "text": [
      "              precision    recall  f1-score   support\n",
      "\n",
      " Non-factual       0.96      0.69      0.81       314\n",
      "     Factual       0.33      0.86      0.48        56\n",
      "\n",
      "    accuracy                           0.72       370\n",
      "   macro avg       0.65      0.77      0.64       370\n",
      "weighted avg       0.87      0.72      0.76       370\n",
      "\n"
     ]
    }
   ],
   "source": [
    "print(classification_report(true_label, ent_pred_label, target_names=['Non-factual', 'Factual']))"
   ]
  },
  {
   "cell_type": "code",
   "execution_count": 33,
   "metadata": {},
   "outputs": [
    {
     "name": "stdout",
     "output_type": "stream",
     "text": [
      "              precision    recall  f1-score   support\n",
      "\n",
      " Non-factual       0.95      0.73      0.82       314\n",
      "     Factual       0.34      0.80      0.48        56\n",
      "\n",
      "    accuracy                           0.74       370\n",
      "   macro avg       0.65      0.76      0.65       370\n",
      "weighted avg       0.86      0.74      0.77       370\n",
      "\n"
     ]
    }
   ],
   "source": [
    "print(classification_report(true_label, prob_pred_label, target_names=['Non-factual', 'Factual']))"
   ]
  },
  {
   "cell_type": "markdown",
   "metadata": {},
   "source": [
    "#### KNN"
   ]
  },
  {
   "cell_type": "code",
   "execution_count": 34,
   "metadata": {},
   "outputs": [],
   "source": [
    "import numpy as np\n",
    "\n",
    "from sklearn import neighbors\n",
    "from mpl_toolkits.axes_grid1 import make_axes_locatable"
   ]
  },
  {
   "cell_type": "code",
   "execution_count": 48,
   "metadata": {},
   "outputs": [],
   "source": [
    "def plot(taskname, HJ, model_probs, labels, n_neighbors=15):\n",
    "    classifier = neighbors.KNeighborsClassifier(n_neighbors=n_neighbors, algorithm='brute')\n",
    "\n",
    "    larray = np.array(labels)\n",
    "    nmodel_probs = np.array(model_probs)\n",
    "    pin = nmodel_probs\n",
    "    x_mat = np.vstack([pin/np.std(pin), HJ/np.std(HJ) ]).transpose()\n",
    "    y_vec = np.array(labels)\n",
    "    \n",
    "    classifier.fit(x_mat,y_vec)\n",
    "    x_min, x_max = x_mat[:,0].min() - .5, x_mat[:, 0].max() + .5\n",
    "    y_min, y_max = x_mat[:, 1].min() - .5, x_mat[:, 1].max() + .5\n",
    "    xx, yy = np.meshgrid(np.arange(x_min, x_max, 0.2),\n",
    "                         np.arange(y_min, y_max, 0.2))\n",
    "    Z = classifier.predict_proba(np.c_[xx.ravel(), yy.ravel()])[:, 1]\n",
    "    Z = Z.reshape(xx.shape)\n",
    "    xx_1, yy_1 = np.meshgrid(np.arange(x_min, x_max, 0.2)*np.std(pin),\n",
    "                             np.arange(y_min, y_max, 0.2)*np.std(HJ))\n",
    "    cm = plt.cm.RdBu\n",
    "    fig, ax = plt.subplots(figsize=(9, 7))\n",
    "    ax.contourf(xx_1, yy_1, Z, cmap=cm, alpha=.6)\n",
    "    ax.scatter(np.array(pin)[np.nonzero(larray)[0]], np.array(HJ)[np.nonzero(larray)[0]],color='blue',edgecolor='black',label='Model',marker='s')\n",
    "    ax.scatter(np.array(pin)[np.nonzero(larray==False)[0]],np.array(HJ)[np.nonzero(larray==False)[0]], color='red',edgecolor='black',label='Human')\n",
    "    divider = make_axes_locatable(ax)\n",
    "    axHistx = divider.append_axes(\"top\", 0.7, pad=0.0, sharex=ax)\n",
    "    axHisty = divider.append_axes(\"right\", 0.7, pad=0.0, sharey=ax)\n",
    "    axHistx.xaxis.set_tick_params(labelbottom=False,bottom=False)\n",
    "    axHistx.yaxis.set_tick_params(labelleft=False,left=False)\n",
    "    axHisty.xaxis.set_tick_params(labelbottom=False,bottom=False)\n",
    "    axHisty.yaxis.set_tick_params(labelleft=False,left=False)\n",
    "    b_subset = np.nonzero(larray)[0]\n",
    "    r_subset = np.nonzero(larray==False)[0]\n",
    "    x = np.array(pin)\n",
    "    y = np.array(HJ)\n",
    "    _ = axHistx.hist(x[b_subset], color='blue', bins=np.arange(x_min, x_max, 0.3)*np.std(pin), alpha=0.7)\n",
    "    _ = axHistx.hist(x[r_subset], color='red', bins=np.arange(x_min, x_max, 0.3)*np.std(pin), alpha=0.7)\n",
    "    _ = axHisty.hist(y[b_subset], color='blue', bins=np.arange(y_min, y_max, 0.3)*np.std(HJ), orientation='horizontal', alpha=0.7)\n",
    "    _ = axHisty.hist(y[r_subset], color='red', bins=np.arange(y_min, y_max, 0.3)*np.std(HJ), orientation='horizontal', alpha=0.7)\n",
    "    ax.legend(loc='lower right')\n",
    "    ax.set_xlim(np.min(xx_1), np.max(xx_1))\n",
    "    ax.set_ylim(np.min(yy_1), np.max(yy_1))\n",
    "    ax.set_xlabel('Prior Probability')\n",
    "    ax.set_ylabel('Posterior Probability')\n",
    "    axHistx.set_title(taskname)\n",
    "    plt.tight_layout()\n",
    "#     plt.savefig(\"../figures/\" + taskname +'.pdf')\n",
    "    plt.show()"
   ]
  },
  {
   "cell_type": "code",
   "execution_count": 49,
   "metadata": {},
   "outputs": [
    {
     "data": {
      "text/plain": [
       "{'start': 62,\n",
       " 'end': 75,\n",
       " 'label': 2,\n",
       " 'type': 'CARDINAL',\n",
       " 'ent': 'more than 100',\n",
       " 'prior': 0.0194091796875,\n",
       " 'posterior': 0.002681732177734375,\n",
       " 'id': 8805}"
      ]
     },
     "execution_count": 49,
     "metadata": {},
     "output_type": "execute_result"
    }
   ],
   "source": [
    "prior_posterior[0]"
   ]
  },
  {
   "cell_type": "code",
   "execution_count": 50,
   "metadata": {},
   "outputs": [],
   "source": [
    "true_label = []\n",
    "prior_probabilities, posterior_probabilities = [], []\n",
    "\n",
    "for p in prior_posterior:\n",
    "    if p['label'] is not None:\n",
    "\n",
    "        if p['label'] == 0 or p['label'] == 1:\n",
    "            true_label.append(1)\n",
    "        elif p['label'] == 2 or p['label'] == 3:\n",
    "            true_label.append(0)\n",
    "        else:\n",
    "            raise Exception(\"ERROR! {}\".format(p['label']))\n",
    "        \n",
    "        prior_probabilities.append(p['prior'])\n",
    "        posterior_probabilities.append(p['posterior'])"
   ]
  },
  {
   "cell_type": "code",
   "execution_count": 51,
   "metadata": {},
   "outputs": [
    {
     "data": {
      "image/png": "[encoded data removed]",
      "text/plain": [
       "<Figure size 648x504 with 3 Axes>"
      ]
     },
     "metadata": {
      "needs_background": "light"
     },
     "output_type": "display_data"
    }
   ],
   "source": [
    "plot('Factual Entity Classification', posterior_probabilities, prior_probabilities, true_label, n_neighbors=15)"
   ]
  },
  {
   "cell_type": "markdown",
   "metadata": {},
   "source": [
    "#### AUC"
   ]
  },
  {
   "cell_type": "code",
   "execution_count": 39,
   "metadata": {},
   "outputs": [],
   "source": [
    "import numpy as np\n",
    "\n",
    "from sklearn.metrics import roc_curve, auc"
   ]
  },
  {
   "cell_type": "code",
   "execution_count": 40,
   "metadata": {},
   "outputs": [],
   "source": [
    "# non-hallucination vs false hallucination"
   ]
  },
  {
   "cell_type": "code",
   "execution_count": 41,
   "metadata": {},
   "outputs": [],
   "source": [
    "true_label = np.asarray(true_label)\n",
    "prior_probabilities = np.asarray(prior_probabilities)\n",
    "posterior_probabilities = np.asarray(posterior_probabilities)"
   ]
  },
  {
   "cell_type": "code",
   "execution_count": 42,
   "metadata": {},
   "outputs": [
    {
     "data": {
      "text/plain": [
       "(370,)"
      ]
     },
     "execution_count": 42,
     "metadata": {},
     "output_type": "execute_result"
    }
   ],
   "source": [
    "true_label.shape"
   ]
  },
  {
   "cell_type": "code",
   "execution_count": 43,
   "metadata": {},
   "outputs": [
    {
     "data": {
      "image/png": "[encoded data removed]",
      "text/plain": [
       "<Figure size 432x288 with 1 Axes>"
      ]
     },
     "metadata": {
      "needs_background": "light"
     },
     "output_type": "display_data"
    }
   ],
   "source": [
    "plt.figure()\n",
    "lw = 2\n",
    "\n",
    "# prior\n",
    "fpr, tpr, _ = roc_curve(true_label, prior_probabilities)\n",
    "roc_auc = auc(fpr, tpr)\n",
    "plt.plot(fpr, tpr, color='green',\n",
    "         lw=lw, label='Prior (area = %0.2f)' % roc_auc)\n",
    "\n",
    "# posterior\n",
    "fpr, tpr, _ = roc_curve(true_label, posterior_probabilities)\n",
    "roc_auc = auc(fpr, tpr)\n",
    "plt.plot(fpr, tpr, color='darkorange',\n",
    "         lw=lw, label='Posterior (area = %0.2f)' % roc_auc)\n",
    "\n",
    "plt.plot([0, 1], [0, 1], color='navy', lw=lw, linestyle='--')\n",
    "plt.xlim([0.0, 1.0])\n",
    "plt.ylim([0.0, 1.05])\n",
    "plt.xlabel('False Positive Rate')\n",
    "plt.ylabel('True Positive Rate')\n",
    "plt.title('Receiver operating characteristic example')\n",
    "plt.legend(loc=\"lower right\")\n",
    "plt.show()"
   ]
  }
 ],
 "metadata": {
  "kernelspec": {
   "display_name": "Python 3",
   "language": "python",
   "name": "python3"
  },
  "language_info": {
   "codemirror_mode": {
    "name": "ipython",
    "version": 3
   },
   "file_extension": ".py",
   "mimetype": "text/x-python",
   "name": "python",
   "nbconvert_exporter": "python",
   "pygments_lexer": "ipython3",
   "version": "3.7.4"
  }
 },
 "nbformat": 4,
 "nbformat_minor": 4
}
