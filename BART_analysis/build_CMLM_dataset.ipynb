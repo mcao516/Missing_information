{
 "cells": [
  {
   "cell_type": "code",
   "execution_count": 60,
   "metadata": {},
   "outputs": [],
   "source": [
    "import json"
   ]
  },
  {
   "cell_type": "code",
   "execution_count": 61,
   "metadata": {},
   "outputs": [],
   "source": [
    "def read_lines(file_path):\n",
    "    files = []\n",
    "    with open(file_path, 'r', encoding='utf-8') as f:\n",
    "        for line in f:\n",
    "            files.append(line.strip())\n",
    "    return files"
   ]
  },
  {
   "cell_type": "code",
   "execution_count": 62,
   "metadata": {},
   "outputs": [],
   "source": [
    "DATASET='val'\n",
    "source_path = '/home/ml/cadencao/cnn-dailymail/cnn_dm/{}.source'.format(DATASET)\n",
    "target_path = '/home/ml/cadencao/cnn-dailymail/cnn_dm/{}.target'.format(DATASET)\n",
    "\n",
    "source = read_lines(source_path)\n",
    "target = read_lines(target_path)"
   ]
  },
  {
   "cell_type": "markdown",
   "metadata": {},
   "source": [
    "#### Sample"
   ]
  },
  {
   "cell_type": "code",
   "execution_count": 63,
   "metadata": {},
   "outputs": [],
   "source": [
    "import spacy\n",
    "import numpy as np\n",
    "from tqdm import tqdm\n",
    "\n",
    "nlp = spacy.load('en')"
   ]
  },
  {
   "cell_type": "code",
   "execution_count": 64,
   "metadata": {},
   "outputs": [],
   "source": [
    "ID = 1"
   ]
  },
  {
   "cell_type": "code",
   "execution_count": 65,
   "metadata": {},
   "outputs": [
    {
     "data": {
      "text/plain": [
       "'The 20th MLS season begins this weekend . League has changed dramatically since its inception in 1996 . Some question whether rules regarding salary caps and transfers need to change .'"
      ]
     },
     "execution_count": 65,
     "metadata": {},
     "output_type": "execute_result"
    }
   ],
   "source": [
    "target[ID]"
   ]
  },
  {
   "cell_type": "code",
   "execution_count": 66,
   "metadata": {},
   "outputs": [],
   "source": [
    "ents = []\n",
    "\n",
    "sentence = target[ID]\n",
    "for ent in nlp(sentence).to_json()['ents']:\n",
    "    if ent['label'] != 'PERSON':\n",
    "        ents.append(ent)\n",
    "    else:\n",
    "        name_parts = sentence[ent['start']: ent['end']].split()\n",
    "        init_start = ent['start']\n",
    "        for p in name_parts:\n",
    "            ents.append({'start': init_start, 'end': init_start + len(p), 'label': 'PERSON'})\n",
    "            init_start = init_start + len(p) + 1"
   ]
  },
  {
   "cell_type": "code",
   "execution_count": 67,
   "metadata": {},
   "outputs": [
    {
     "data": {
      "text/plain": [
       "[{'start': 27, 'end': 39, 'label': 'DATE'},\n",
       " {'start': 97, 'end': 101, 'label': 'DATE'}]"
      ]
     },
     "execution_count": 67,
     "metadata": {},
     "output_type": "execute_result"
    }
   ],
   "source": [
    "ents"
   ]
  },
  {
   "cell_type": "code",
   "execution_count": 68,
   "metadata": {},
   "outputs": [
    {
     "name": "stdout",
     "output_type": "stream",
     "text": [
      "1\n"
     ]
    }
   ],
   "source": [
    "sampled_id = np.random.randint(0, high=len(ents))\n",
    "print(sampled_id)"
   ]
  },
  {
   "cell_type": "code",
   "execution_count": 69,
   "metadata": {},
   "outputs": [
    {
     "data": {
      "text/plain": [
       "'The 20th MLS season begins this weekend . League has changed dramatically since its inception in ### . Some question whether rules regarding salary caps and transfers need to change .'"
      ]
     },
     "execution_count": 69,
     "metadata": {},
     "output_type": "execute_result"
    }
   ],
   "source": [
    "target[ID][0: ents[sampled_id]['start']] + '###' + target[ID][ents[sampled_id]['end']:]"
   ]
  },
  {
   "cell_type": "code",
   "execution_count": 70,
   "metadata": {},
   "outputs": [
    {
     "name": "stderr",
     "output_type": "stream",
     "text": [
      "13368it [02:35, 86.15it/s]\n"
     ]
    }
   ],
   "source": [
    "with open('cnndm_masked_{}.source'.format(DATASET), 'w', encoding='utf-8') as sf:\n",
    "    with open('cnndm_masked_{}.target'.format(DATASET), 'w', encoding='utf-8') as tf:\n",
    "        with open('cnndm_masked_{}.target.ent'.format(DATASET), 'w', encoding='utf-8') as etf:\n",
    "            for s, t in tqdm(zip(source, target)):\n",
    "                ents = []\n",
    "                sentence = t\n",
    "                for ent in nlp(sentence).to_json()['ents']:\n",
    "                    if ent['label'] != 'PERSON':\n",
    "                        ents.append(ent)\n",
    "                    else:\n",
    "                        name_parts = sentence[ent['start']: ent['end']].split()\n",
    "                        init_start = ent['start']\n",
    "                        for p in name_parts:\n",
    "                            ents.append({'start': init_start, 'end': init_start + len(p), 'label': 'PERSON'})\n",
    "                            init_start = init_start + len(p) + 1\n",
    "\n",
    "                ent_num = len(ents)\n",
    "                if ent_num > 0:\n",
    "                    sampled_id = np.random.randint(0, high=ent_num)\n",
    "                    masked_tgt = '<s> ' + sentence[0: ents[sampled_id]['start']] + '###' + sentence[ents[sampled_id]['end']:]\n",
    "                    masked_src = masked_tgt + ' <\\s> ' + s\n",
    "\n",
    "                    sf.write(masked_src + '\\n')\n",
    "                    tf.write('<s> ' + sentence + '\\n')\n",
    "                    etf.write('<s> ' + sentence[ents[sampled_id]['start']: ents[sampled_id]['end']] + '\\n')"
   ]
  },
  {
   "cell_type": "code",
   "execution_count": 71,
   "metadata": {},
   "outputs": [],
   "source": [
    "# pass"
   ]
  }
 ],
 "metadata": {
  "kernelspec": {
   "display_name": "Python 3",
   "language": "python",
   "name": "python3"
  },
  "language_info": {
   "codemirror_mode": {
    "name": "ipython",
    "version": 3
   },
   "file_extension": ".py",
   "mimetype": "text/x-python",
   "name": "python",
   "nbconvert_exporter": "python",
   "pygments_lexer": "ipython3",
   "version": "3.7.7"
  }
 },
 "nbformat": 4,
 "nbformat_minor": 4
}
