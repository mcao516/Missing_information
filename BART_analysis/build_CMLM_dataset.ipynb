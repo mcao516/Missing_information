{
 "cells": [
  {
   "cell_type": "code",
   "execution_count": 66,
   "metadata": {},
   "outputs": [],
   "source": [
    "def read_lines(file_path):\n",
    "    files = []\n",
    "    with open(file_path, 'r', encoding='utf-8') as f:\n",
    "        for line in f:\n",
    "            files.append(line.strip())\n",
    "    return files"
   ]
  },
  {
   "cell_type": "code",
   "execution_count": 67,
   "metadata": {},
   "outputs": [],
   "source": [
    "DATASET='train'\n",
    "source_path = '/home/ml/cadencao/cnn-dailymail/cnn_dm/{}.source'.format(DATASET)\n",
    "target_path = '/home/ml/cadencao/cnn-dailymail/cnn_dm/{}.target'.format(DATASET)\n",
    "\n",
    "source = read_lines(source_path)\n",
    "target = read_lines(target_path)"
   ]
  },
  {
   "cell_type": "code",
   "execution_count": 68,
   "metadata": {},
   "outputs": [],
   "source": [
    "assert len(source) == len(target)"
   ]
  },
  {
   "cell_type": "code",
   "execution_count": 69,
   "metadata": {},
   "outputs": [
    {
     "data": {
      "text/plain": [
       "'Mentally ill inmates in Miami are housed on the \"forgotten floor\" Judge Steven Leifman says most are there as a result of \"avoidable felonies\" While CNN tours facility, patient shouts: \"I am the son of the president\" Leifman says the system is unjust and he\\'s fighting for change .'"
      ]
     },
     "execution_count": 69,
     "metadata": {},
     "output_type": "execute_result"
    }
   ],
   "source": [
    "target[0]"
   ]
  },
  {
   "cell_type": "code",
   "execution_count": 70,
   "metadata": {},
   "outputs": [],
   "source": [
    "import json"
   ]
  },
  {
   "cell_type": "code",
   "execution_count": 71,
   "metadata": {},
   "outputs": [],
   "source": [
    "ents = json.load(open('cnndm_{}_ents.json'.format(DATASET), 'r'))"
   ]
  },
  {
   "cell_type": "code",
   "execution_count": 72,
   "metadata": {},
   "outputs": [],
   "source": [
    "assert len(source) == len(target) == len(ents)"
   ]
  },
  {
   "cell_type": "markdown",
   "metadata": {},
   "source": [
    "#### Sample"
   ]
  },
  {
   "cell_type": "code",
   "execution_count": 73,
   "metadata": {},
   "outputs": [],
   "source": [
    "import numpy as np\n",
    "\n",
    "from tqdm import tqdm"
   ]
  },
  {
   "cell_type": "code",
   "execution_count": 74,
   "metadata": {},
   "outputs": [
    {
     "name": "stdout",
     "output_type": "stream",
     "text": [
      "0\n"
     ]
    }
   ],
   "source": [
    "ID = 3\n",
    "sampled_id = np.random.randint(0, high=len(ents[ID]['ents']))\n",
    "print(sampled_id)"
   ]
  },
  {
   "cell_type": "code",
   "execution_count": 75,
   "metadata": {},
   "outputs": [
    {
     "data": {
      "text/plain": [
       "'Parents beam with pride, can\\'t stop from smiling from outpouring of support . Mom: \"I was so happy I didn\\'t know what to do\" Burn center in U.S. has offered to provide treatment for reconstructive surgeries . Dad says, \"Anything for Youssif\"'"
      ]
     },
     "execution_count": 75,
     "metadata": {},
     "output_type": "execute_result"
    }
   ],
   "source": [
    "target[ID]"
   ]
  },
  {
   "cell_type": "code",
   "execution_count": 76,
   "metadata": {},
   "outputs": [
    {
     "data": {
      "text/plain": [
       "'Parents beam with pride, can\\'t stop from smiling from outpouring of support . Mom: \"I was so happy I didn\\'t know what to do\" Burn center in <mask> has offered to provide treatment for reconstructive surgeries . Dad says, \"Anything for Youssif\"'"
      ]
     },
     "execution_count": 76,
     "metadata": {},
     "output_type": "execute_result"
    }
   ],
   "source": [
    "target[ID][0: ents[ID]['ents'][sampled_id]['start']] + '<mask>' + target[ID][ents[ID]['ents'][sampled_id]['end']:]"
   ]
  },
  {
   "cell_type": "code",
   "execution_count": null,
   "metadata": {},
   "outputs": [
    {
     "name": "stderr",
     "output_type": "stream",
     "text": [
      " 58%|█████▊    | 167912/287227 [00:02<00:02, 54309.01it/s]"
     ]
    }
   ],
   "source": [
    "with open('cnndm_masked_{}.source'.format(DATASET), 'w', encoding='utf-8') as sf:\n",
    "    with open('cnndm_masked_{}.target'.format(DATASET), 'w', encoding='utf-8') as tf:\n",
    "        for i in tqdm(range(len(source))):\n",
    "            ent_num = len(ents[i]['ents'])\n",
    "            if ent_num > 0:\n",
    "                sampled_id = np.random.randint(0, high=ent_num)\n",
    "                masked_tgt = target[i][0: ents[i]['ents'][sampled_id]['start']] + '<mask>' + target[i][ents[i]['ents'][sampled_id]['end']:]\n",
    "                masked_src = masked_tgt + ' <sep> ' + source[i]\n",
    "\n",
    "                sf.write(masked_src + '\\n')\n",
    "                tf.write(target[i] + '\\n')"
   ]
  },
  {
   "cell_type": "code",
   "execution_count": null,
   "metadata": {},
   "outputs": [],
   "source": [
    "# pass"
   ]
  }
 ],
 "metadata": {
  "kernelspec": {
   "display_name": "Python 3",
   "language": "python",
   "name": "python3"
  },
  "language_info": {
   "codemirror_mode": {
    "name": "ipython",
    "version": 3
   },
   "file_extension": ".py",
   "mimetype": "text/x-python",
   "name": "python",
   "nbconvert_exporter": "python",
   "pygments_lexer": "ipython3",
   "version": "3.7.7"
  }
 },
 "nbformat": 4,
 "nbformat_minor": 4
}
