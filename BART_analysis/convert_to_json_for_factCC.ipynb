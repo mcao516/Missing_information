{
 "cells": [
  {
   "cell_type": "code",
   "execution_count": 11,
   "metadata": {},
   "outputs": [],
   "source": [
    "import json\n",
    "\n",
    "from utils import read_lines"
   ]
  },
  {
   "cell_type": "code",
   "execution_count": 12,
   "metadata": {},
   "outputs": [],
   "source": [
    "source_path = 'preds/test.source'\n",
    "target_path = 'preds/test.target'\n",
    "pred_path = '/home/ml/users/cadencao/fairseq/preds/xsum_clean_cpb.hypo'\n",
    "xsum_official_pred_path = 'preds/xsum_official.hypo'"
   ]
  },
  {
   "cell_type": "code",
   "execution_count": 13,
   "metadata": {},
   "outputs": [
    {
     "name": "stdout",
     "output_type": "stream",
     "text": [
      "11301\n"
     ]
    }
   ],
   "source": [
    "xsum_source = read_lines(source_path)\n",
    "xsum_target = read_lines(target_path)\n",
    "xsum_preds = read_lines(pred_path)\n",
    "xsum_official_preds = read_lines(xsum_official_pred_path)\n",
    "\n",
    "print(len(xsum_source))\n",
    "assert len(xsum_source) == len(xsum_target)"
   ]
  },
  {
   "cell_type": "code",
   "execution_count": 14,
   "metadata": {},
   "outputs": [
    {
     "data": {
      "text/plain": [
       "'Severe storms in December 2013 caused damage to an existing dune system to the east of Barkby Beach in Prestatyn. A report, to be considered by Denbighshire councillors, says there is evidence they have begun to re-establish themselves naturally. But the council is considering creating a secondary dune system to strengthen the defences. The flood risk management report says: \"The  narrowness of the dunes at Barkby Beach is a cause for serious concern. \"Discussions have taken place with Natural Resources Wales regarding possible options to reduce the risk of a breach at this location. \"This could be such as creating a secondary dune system on the landward side of the existing dunes.\" About 400 people were forced to leave their homes after high tides and gale force winds battered north Wales causing flooding last December. In Rhyl, Denbighshire - one of the worst-hit areas - hundreds of properties were without power.'"
      ]
     },
     "execution_count": 14,
     "metadata": {},
     "output_type": "execute_result"
    }
   ],
   "source": [
    "xsum_source[0]"
   ]
  },
  {
   "cell_type": "code",
   "execution_count": 15,
   "metadata": {},
   "outputs": [
    {
     "data": {
      "text/plain": [
       "'New sand dunes may be created to reduce the risk of flooding on a beach on the Denbighshire and Flintshire border.'"
      ]
     },
     "execution_count": 15,
     "metadata": {},
     "output_type": "execute_result"
    }
   ],
   "source": [
    "xsum_target[0]"
   ]
  },
  {
   "cell_type": "code",
   "execution_count": 16,
   "metadata": {},
   "outputs": [
    {
     "data": {
      "text/plain": [
       "'Plans to strengthen flood defences on a Denbighshire beach are being considered by councillors.'"
      ]
     },
     "execution_count": 16,
     "metadata": {},
     "output_type": "execute_result"
    }
   ],
   "source": [
    "xsum_preds[0]"
   ]
  },
  {
   "cell_type": "code",
   "execution_count": 17,
   "metadata": {},
   "outputs": [
    {
     "data": {
      "text/plain": [
       "'The narrowness of dunes at a Denbighshire beach is a \"cause for serious concern\" and could lead to a breach in flood defences, a report has warned.'"
      ]
     },
     "execution_count": 17,
     "metadata": {},
     "output_type": "execute_result"
    }
   ],
   "source": [
    "xsum_official_preds[0]"
   ]
  },
  {
   "cell_type": "markdown",
   "metadata": {},
   "source": [
    "#### Convert to JSON"
   ]
  },
  {
   "cell_type": "code",
   "execution_count": 18,
   "metadata": {},
   "outputs": [],
   "source": [
    "with open('factcc/data-dev.jsonl', 'w') as outfile:\n",
    "    for i, (s, p) in enumerate(zip(xsum_source, xsum_target)):\n",
    "        json.dump({\n",
    "            'id': i,\n",
    "            'text': s,\n",
    "            'claim': p,\n",
    "            'label': 'CORRECT'\n",
    "        }, outfile)\n",
    "        outfile.write('\\n')"
   ]
  },
  {
   "cell_type": "code",
   "execution_count": 19,
   "metadata": {},
   "outputs": [],
   "source": [
    "# xsum reference: 0.21033536855145563\n",
    "# xsum_official: 0.19308025838421378\n",
    "\n",
    "# xsum_cedar_min_weighted_last: 0.2403327139191222\n",
    "# xsum_cedar_min_weighted_best: 0.23714715511901602\n",
    "# xsum_cedar_avg_weighted_best: 0.23714715511901602\n",
    "\n",
    "# xsum_regularized_cpb_elr2_cpb: 0.24015573843022742\n",
    "# xsum_regularized_cp1_elr2_cpb: 0.24413768693036014\n",
    "# xsum_regularized_cpb_elr10_cp5: 0.24661534377488717\n",
    "# xsum_regularized_cpb_elr10_cp11: 0.24661534377488717\n",
    "# xsum_regularized_cpb_elr30_cp9: 0.24971241483054596\n",
    "# xsum_regularized_original_cpb: 0.23475798601893638\n",
    "\n",
    "# xsum_clean_cpb: 0.29767277232103356\n",
    "# xsum_clean_cp1: 0.2738695690646845"
   ]
  },
  {
   "cell_type": "code",
   "execution_count": 20,
   "metadata": {},
   "outputs": [],
   "source": [
    "# xsum_official_preds: 0.9155826917971861 (checkpoint 10)\n",
    "# xsum_official_preds: 0.944960622953721 (checkpoint 0)\n",
    "# xsum_regularized_original_cpb: 0.9141668878860277 (checkpoint 10)\n",
    "# xsum_regularized_original_cpb: 0.9538978851429077 (checkpoint 0)\n",
    "# xsum_regularized_cpb_elr30_cp9: 0.9481461817538271 (checkpoint 0)\n",
    "# xsum_regularized_cpb_elr10_cp11: 0.9514202282983807 (checkpoint 0)\n",
    "# xsum_clean: 0.9301831696310061 (checkpoint 0)\n",
    "# xsum_cedar_min_weighted_best: 0.9478807185204849 (checkpoint 0)\n",
    "# xsum_cedar_avg_weighted_best: 0.9478807185204849 (checkpoint 0)\n",
    "# xsum_target: 0.9542518361206973 (checkpoint 0)"
   ]
  }
 ],
 "metadata": {
  "kernelspec": {
   "display_name": "Python 3",
   "language": "python",
   "name": "python3"
  },
  "language_info": {
   "codemirror_mode": {
    "name": "ipython",
    "version": 3
   },
   "file_extension": ".py",
   "mimetype": "text/x-python",
   "name": "python",
   "nbconvert_exporter": "python",
   "pygments_lexer": "ipython3",
   "version": "3.7.9"
  }
 },
 "nbformat": 4,
 "nbformat_minor": 4
}
