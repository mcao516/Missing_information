{
 "cells": [
  {
   "cell_type": "code",
   "execution_count": 1,
   "metadata": {},
   "outputs": [],
   "source": [
    "import json"
   ]
  },
  {
   "cell_type": "markdown",
   "metadata": {},
   "source": [
    "#### Read Dataset & Entities"
   ]
  },
  {
   "cell_type": "code",
   "execution_count": 2,
   "metadata": {},
   "outputs": [],
   "source": [
    "def read_lines(file_path):\n",
    "    files = []\n",
    "    with open(file_path, 'r', encoding='utf-8') as f:\n",
    "        for line in f:\n",
    "            files.append(line.strip())\n",
    "    return files"
   ]
  },
  {
   "cell_type": "code",
   "execution_count": 3,
   "metadata": {},
   "outputs": [],
   "source": [
    "test_source_path = '/home/ml/cadencao/XSum/fairseq_files/train.source'\n",
    "test_target_path = '/home/ml/cadencao/XSum/fairseq_files/train.target'\n",
    "\n",
    "xsum_source = read_lines(test_source_path)\n",
    "xsum_target = read_lines(test_target_path)"
   ]
  },
  {
   "cell_type": "code",
   "execution_count": 4,
   "metadata": {},
   "outputs": [],
   "source": [
    "xsum_ents = json.load(open('xsum_train_ents.json', 'r'))"
   ]
  },
  {
   "cell_type": "code",
   "execution_count": 5,
   "metadata": {},
   "outputs": [],
   "source": [
    "assert len(xsum_source) == len(xsum_target) == len(xsum_ents)"
   ]
  },
  {
   "cell_type": "markdown",
   "metadata": {},
   "source": [
    "#### Build Clean Dataset"
   ]
  },
  {
   "cell_type": "code",
   "execution_count": 11,
   "metadata": {},
   "outputs": [],
   "source": [
    "from tqdm import tqdm"
   ]
  },
  {
   "cell_type": "code",
   "execution_count": 14,
   "metadata": {},
   "outputs": [
    {
     "name": "stderr",
     "output_type": "stream",
     "text": [
      "100%|██████████| 203575/203575 [00:02<00:00, 73275.08it/s]\n"
     ]
    }
   ],
   "source": [
    "train_src_clean, train_tgt_clean = [], []\n",
    "for i in tqdm(range(len(xsum_source))):\n",
    "    src_ents = [xsum_source[i][e['start']:e['end']].lower() for e in xsum_ents[i]['src ents']]\n",
    "    tgt_ents = [xsum_target[i][e['start']:e['end']].lower() for e in xsum_ents[i]['ents']]\n",
    "    \n",
    "    not_entiled = False\n",
    "    for te in tgt_ents:\n",
    "        if te not in src_ents:\n",
    "            not_entiled = True\n",
    "            break\n",
    "    \n",
    "    if not not_entiled:\n",
    "        train_src_clean.append(xsum_source[i])\n",
    "        train_tgt_clean.append(xsum_target[i])"
   ]
  },
  {
   "cell_type": "code",
   "execution_count": 15,
   "metadata": {},
   "outputs": [
    {
     "data": {
      "text/plain": [
       "42480"
      ]
     },
     "execution_count": 15,
     "metadata": {},
     "output_type": "execute_result"
    }
   ],
   "source": [
    "len(train_src_clean)"
   ]
  },
  {
   "cell_type": "code",
   "execution_count": 17,
   "metadata": {},
   "outputs": [
    {
     "data": {
      "text/plain": [
       "'Labour leader Jeremy Corbyn can get everything he wants at Brexit talks by \"turning up\" and being \"fleet of foot\", the first minister has said.'"
      ]
     },
     "execution_count": 17,
     "metadata": {},
     "output_type": "execute_result"
    }
   ],
   "source": [
    "train_tgt_clean[0]"
   ]
  },
  {
   "cell_type": "code",
   "execution_count": 18,
   "metadata": {},
   "outputs": [
    {
     "data": {
      "text/plain": [
       "'These are external links and will open in a new window. Carwyn Jones rejected Theresa May\\'s claim that only she could be trusted to get the best deal for the UK. \"All she has done so far is shout at the Europeans. That is not going to work,\" he told BBC Radio Wales. Tory minister Chris Grayling said Mr Corbyn had shown \"a lack of mastery of detail, even of his own policies\". Mr Jones said he was confident Mr Corbyn could negotiate tariff-free trade with the EU while ending free movement of people. Speaking on Good Morning Wales, the first minister said the Labour leader - if elected prime minister - could achieve all he wanted in a Brexit deal \"by turning up at the negotiations and actually being able to be fleet of foot\". \"That is the way you start,\" he said. \"Theresa May is saying I will get the best deal from Brexit - she cannot even turn up at a leaders\\' debate. \"How can you trust someone who is going into negotiations if they do not have enough faith in themselves to turn up at a leaders\\' debate?\" In January, Welsh Labour and Plaid Cymru published a joint Brexit plan which would allow migration by EU citizens to the UK if they had a job to come to. Conservative Transport Secretary Chris Grayling rejected the idea that Mr Corbyn would negotiate a good deal as \"ridiculous and absurd\". Speaking on the campaign trail in Gower, he said the Labour leader had shown \"a lack of mastery of detail, even of his own policies, not knowing how much they would cost\". \"The idea that he is the best person to lead in these negotiations is ludicrous,\" Mr Grayling added. A spokesman for the Welsh Liberal Democrats claimed Mr Corbyn had \"bottled it\" on Brexit, pointing to Labour\\'s backing of the UK government\\'s bill to trigger the Article 50 process and \"leave EU citizens in limbo\". \"Only the Liberal Democrats will hold the Conservatives\\' feet to the fire during the negotiations, and fight for an open, tolerant and united country,\" he said. A UKIP spokesman said: \"Given that Jeremy Corbyn believes in neither free trade nor a sensible immigration policy, it\\'s clear that the first minister has misplaced confidence in Mr Corbyn. \"Do we really want an enemy of free trade and secure borders negotiating for us on terms he doesn\\'t believe in? \"If Mr Corbyn is at the negotiations it will be a complete disaster. The only thing \\'fleet of foot\\' will be the sight of Mr Corbyn running away.\"'"
      ]
     },
     "execution_count": 18,
     "metadata": {},
     "output_type": "execute_result"
    }
   ],
   "source": [
    "train_src_clean[0]"
   ]
  },
  {
   "cell_type": "code",
   "execution_count": 20,
   "metadata": {},
   "outputs": [],
   "source": [
    "with open('/home/ml/cadencao/XSum/train_clean.target', 'w', encoding='utf-8') as f:\n",
    "    for l in train_tgt_clean:\n",
    "        f.write(l + '\\n')"
   ]
  }
 ],
 "metadata": {
  "kernelspec": {
   "display_name": "Python 3",
   "language": "python",
   "name": "python3"
  },
  "language_info": {
   "codemirror_mode": {
    "name": "ipython",
    "version": 3
   },
   "file_extension": ".py",
   "mimetype": "text/x-python",
   "name": "python",
   "nbconvert_exporter": "python",
   "pygments_lexer": "ipython3",
   "version": "3.7.7"
  }
 },
 "nbformat": 4,
 "nbformat_minor": 4
}
