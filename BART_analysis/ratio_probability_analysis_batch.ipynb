{
 "cells": [
  {
   "cell_type": "code",
   "execution_count": 1,
   "metadata": {},
   "outputs": [],
   "source": [
    "import math\n",
    "import torch\n",
    "import torch.nn as nn\n",
    "\n",
    "from fairseq.models.bart import BARTModel\n",
    "from utils import read_lines\n",
    "\n",
    "from transformers import BartTokenizer"
   ]
  },
  {
   "cell_type": "code",
   "execution_count": 2,
   "metadata": {},
   "outputs": [],
   "source": [
    "xsum_bart = BARTModel.from_pretrained('/home/ml/users/cadencao/Downloads/BART_models/bart.large.xsum',\n",
    "                                           checkpoint_file='model.pt',\n",
    "                                           data_name_or_path='/home/ml/users/cadencao/Downloads/BART_models/bart.large.xsum')"
   ]
  },
  {
   "cell_type": "code",
   "execution_count": 3,
   "metadata": {},
   "outputs": [],
   "source": [
    "clean_bart = BARTModel.from_pretrained('/home/ml/users/cadencao/Downloads/BART_models/checkpoints_xsum_clean',\n",
    "                                       checkpoint_file='checkpoint_best.pt',\n",
    "                                       data_name_or_path='/home/ml/users/cadencao/XSum/fairseq_files/xsum-bin') "
   ]
  },
  {
   "cell_type": "markdown",
   "metadata": {},
   "source": [
    "#### Read XSum"
   ]
  },
  {
   "cell_type": "code",
   "execution_count": 4,
   "metadata": {},
   "outputs": [
    {
     "name": "stdout",
     "output_type": "stream",
     "text": [
      "11301\n"
     ]
    }
   ],
   "source": [
    "document_path = '/home/ml/users/cadencao/XSum/fairseq_files/test.source'\n",
    "target_path = '/home/ml/users/cadencao/XSum/fairseq_files/test.target'\n",
    "xsum_source = read_lines(document_path)\n",
    "xsum_target = read_lines(target_path)\n",
    "print(len(xsum_source))\n",
    "assert len(xsum_source) == len(xsum_target)"
   ]
  },
  {
   "cell_type": "markdown",
   "metadata": {},
   "source": [
    "#### Generate Summary"
   ]
  },
  {
   "cell_type": "code",
   "execution_count": 5,
   "metadata": {},
   "outputs": [],
   "source": [
    "from fairseq.data.data_utils import collate_tokens"
   ]
  },
  {
   "cell_type": "code",
   "execution_count": 6,
   "metadata": {},
   "outputs": [],
   "source": [
    "class ConditionalSequenceGenerator:\n",
    "    \"\"\"Conditional sequence generator for calculating prior and posterior probability.\"\"\"\n",
    "    def __init__(self, bart):\n",
    "        self.bart = bart\n",
    "        self.tokenizer = BartTokenizer.from_pretrained(\"facebook/bart-large\")\n",
    "        \n",
    "        self.encode_func = bart.encode\n",
    "        self.decode_func = bart.decode\n",
    "        self.max_positions = bart.max_positions\n",
    "        self.encode_line = bart.task.source_dictionary.encode_line\n",
    "        \n",
    "        self._initialize()\n",
    "    \n",
    "    def _initialize(self):\n",
    "        \"\"\"Set BART model to evaluation mode.\"\"\"\n",
    "        self.bart.cuda()\n",
    "        self.bart.eval()\n",
    "        self.bart.half()\n",
    "        \n",
    "    def tokenize(self, input_str, append_bos=False, append_eos=True, left_pad=True):\n",
    "        \"\"\"BPE-encode a sentence (or multiple sentences).\n",
    "\n",
    "        Args:\n",
    "            input_str (str or List[str]): input sentence to be tokenized.\n",
    "            append_bos (bool): self-explained.\n",
    "            append_eos (bool): self-explained.\n",
    "\n",
    "        Return:\n",
    "            input_ids (torch.Tensor): [batch_size, length]\n",
    "            src_lengths (torch.Tensor): [batch_size]\n",
    "        \"\"\"\n",
    "        if type(input_str) == type(''):\n",
    "            input_str = [input_str]\n",
    "\n",
    "        input_ids = []\n",
    "        for ins in input_str:\n",
    "            tokens = self.bart.bpe.encode(ins)  # <mask>: 1279 27932 29\n",
    "            calibration = sum([append_bos, append_eos])\n",
    "            if len(tokens.split(\" \")) > min(self.max_positions) - calibration:\n",
    "                tokens = \" \".join(tokens.split(\" \")[: min(self.max_positions) - calibration])\n",
    "\n",
    "            tokens = \"<s> \" + tokens if append_bos else tokens\n",
    "            tokens = tokens + \" </s>\" if append_eos else tokens\n",
    "            ids = self.encode_line(tokens, append_eos=False).long()\n",
    "            input_ids.append(ids)\n",
    "\n",
    "        input_ids = collate_tokens(input_ids, pad_idx=1, left_pad=left_pad).cuda()\n",
    "        input_lengths = torch.sum(input_ids != 1, dim=1).cuda()\n",
    "\n",
    "        return input_ids, input_lengths\n",
    "    \n",
    "    def tokenize_with_mask(self, input_str):\n",
    "        \"\"\"Tokenize sentence with a special <mask> token in it.\n",
    "\n",
    "        Args:\n",
    "            input_str (str or List[str]): input sentence to be tokenized.\n",
    "\n",
    "        Return:\n",
    "            input_ids (torch.Tensor): [batch_size, length]\n",
    "            src_lengths (torch.Tensor): [batch_size]\n",
    "        \"\"\"\n",
    "        input_ids = self.tokenizer(input_str, return_tensors='pt', padding=True)['input_ids'].cuda()\n",
    "        input_lengths = torch.sum(input_ids != 1, dim=1).cuda()\n",
    "        return input_ids, input_lengths\n",
    "    \n",
    "    def generate(self, src_input, tgt_input=None):\n",
    "        \"\"\"Conditional generation.\n",
    "        \n",
    "        Args:\n",
    "            src_input (str or List[str]): input source sentence to be tokenized.\n",
    "            tgt_input (str or List[str]): input target sentence to be tokenized.\n",
    "        \"\"\"\n",
    "        input_ids, lengths = self.tokenize(src_input, append_bos=False) \n",
    "        \n",
    "        target_ids = None\n",
    "        if tgt_input is not None:\n",
    "            assert len(src_input) == len(tgt_input), \"source & target length should match.\"\n",
    "            target_ids, _ = self.tokenize(tgt_input, append_bos=False, left_pad=False)\n",
    "        \n",
    "        with torch.no_grad():\n",
    "            encoder_output = self.encode_sequence(input_ids, lengths)\n",
    "            decoder_output = self.decode_sequence(encoder_output, \n",
    "                                                  target_ids=target_ids,\n",
    "                                                  prefix_tokens=[2])\n",
    "        return decoder_output\n",
    "    \n",
    "    def mask_filling(self, src_input, tgt_input=None):\n",
    "        \"\"\"\n",
    "        Filling the mask in sentence(s).\n",
    "        \"\"\"\n",
    "        input_ids, lengths = self.tokenize_with_mask(src_input)\n",
    "        \n",
    "        target_ids = None\n",
    "        if tgt_input is not None:\n",
    "            assert len(src_input) == len(tgt_input), \"source & target length should match.\"\n",
    "            target_ids, _ = self.tokenize(tgt_input, left_pad=False)\n",
    "\n",
    "        with torch.no_grad():\n",
    "            encoder_output = self.encode_sequence(input_ids, lengths)\n",
    "            decoder_output = self.decode_sequence(encoder_output, \n",
    "                                                  target_ids=target_ids,\n",
    "                                                  prefix_tokens=[2, 0])\n",
    "        return decoder_output\n",
    "    \n",
    "    def encode_sequence(self, input_ids, lengths):\n",
    "        return self.bart.model.encoder(input_ids, src_lengths=lengths)\n",
    "        \n",
    "    def decode_sequence(\n",
    "        self,\n",
    "        encoder_out,\n",
    "        target_ids=None,\n",
    "        min_decode_step=3,\n",
    "        max_decode_step=100,\n",
    "        pad_id=1,\n",
    "        eos_id=2,\n",
    "        prefix_tokens=[2, 0],\n",
    "    ):\n",
    "        batch_size = encoder_out['encoder_padding_mask'][0].shape[0]\n",
    "        init_input = torch.tensor([prefix_tokens] * batch_size, dtype=torch.long).cuda()\n",
    "        token_probs, tokens = None, [[] for i in range(batch_size)]\n",
    "        end_mask = torch.tensor([False] * batch_size).cuda()\n",
    "\n",
    "        softmax = nn.Softmax(dim=1)\n",
    "        for step in range(max_decode_step):\n",
    "            decoder_outputs = self.bart.model.decoder(init_input, encoder_out, features_only=False)\n",
    "            logits = decoder_outputs[0][:, -1, :]  # logits: [batch_size, vocab]\n",
    "            attn = decoder_outputs[1]['attn'][0]  # [batch_size, prev_token_len, src_token_len]\n",
    "\n",
    "            if step + 1 < min_decode_step:\n",
    "                logits[:, eos_id] = -math.inf  # mask <EOS> token when within minimal step\n",
    "            logits[:, pad_id], logits[:, 0] = -math.inf, -math.inf  # never select <PAD> & <BOS> token\n",
    "            probs = softmax(logits)  # probs: [batch_size, vocab]\n",
    "\n",
    "            # select tokens\n",
    "            if target_ids is not None:\n",
    "                selected_token = target_ids[:, step]\n",
    "            else:\n",
    "                value, indices = torch.topk(probs, 5, dim=1)\n",
    "                selected_token = indices[:, 0]\n",
    "\n",
    "            selected_token = selected_token.masked_fill(end_mask, pad_id)\n",
    "            init_input = torch.cat([init_input, selected_token.unsqueeze(1)], dim=-1)\n",
    "            \n",
    "            probs = torch.gather(probs, 1, selected_token.unsqueeze(1)).detach()\n",
    "            probs = probs.masked_fill(end_mask.unsqueeze(1), 1.0)\n",
    "            \n",
    "            # str & probability\n",
    "            token_probs = probs if token_probs is None else torch.cat([token_probs, probs], dim=-1)\n",
    "            for t, s in zip(tokens, selected_token):\n",
    "                t.append(self.decode_func(s.unsqueeze(0)) if s.item() != pad_id else '<pad>')\n",
    "            \n",
    "            # stop generation when all finished\n",
    "            end_mask = torch.logical_or(end_mask, selected_token == eos_id) \n",
    "            if end_mask.sum().item() == batch_size:\n",
    "                break\n",
    "\n",
    "        return init_input, tokens, token_probs"
   ]
  },
  {
   "cell_type": "code",
   "execution_count": 7,
   "metadata": {},
   "outputs": [],
   "source": [
    "def get_probability(position, tokens, probs, entity):\n",
    "    \"\"\"Calculate the probability of a span.\n",
    "\n",
    "    Args:\n",
    "        position: (start, end)\n",
    "        tokens: ['The', ' Archbishop', ' of', ...]\n",
    "        probs: [0.50, 0.49, 0.88, ...]\n",
    "        entity: Rodgers\n",
    "    \"\"\"\n",
    "    assert len(tokens) == len(probs), \"Tokens and token probabilities does not match.\"\n",
    "    \n",
    "    end_pointer, end_pos = 0, []\n",
    "    for t in tokens:\n",
    "        end_pointer += len(t)\n",
    "        end_pos.append(end_pointer)\n",
    "    \n",
    "    assert position[1] in end_pos, \"- {}\\n- {}\\n- {}\\n- {}\\n- {}\\n\".format(position, tokens, probs, entity, end_pos)\n",
    "    last_index = end_pos.index(position[1])\n",
    "    indexes = [last_index]\n",
    "    total_length = len(tokens[last_index])\n",
    "    \n",
    "    while total_length < (position[1] - position[0]):\n",
    "        last_index -= 1\n",
    "        assert last_index >= 0\n",
    "        indexes.append(last_index)\n",
    "        total_length += len(tokens[last_index])\n",
    "    \n",
    "    indexes.reverse()\n",
    "    \n",
    "    generated = ''.join([tokens[i] for i in indexes])\n",
    "    assert entity in generated, 'entity: {}; span: {}'.format(entity, generated)\n",
    "    \n",
    "    prob = 1.0\n",
    "    for i in indexes:\n",
    "        prob *= probs[i]\n",
    "    return prob"
   ]
  },
  {
   "cell_type": "code",
   "execution_count": 8,
   "metadata": {},
   "outputs": [],
   "source": [
    "def get_cmlm_probability(generator, src_input, tgt_input, position, entity):\n",
    "    outputs = generator.generate(src_input, tgt_input=tgt_input)\n",
    "    init_input, tokens, token_probs = outputs\n",
    "    \n",
    "    probs = []\n",
    "    for p, tok, tokp, e in zip(position, tokens, token_probs, entity):\n",
    "        probs.append(get_probability(p, tok, tokp, e).item())\n",
    "    \n",
    "    return probs"
   ]
  },
  {
   "cell_type": "code",
   "execution_count": 9,
   "metadata": {},
   "outputs": [],
   "source": [
    "def get_prior_probability(generator, src_input, tgt_input, position, entity):\n",
    "    assert len(src_input) == len(tgt_input), \"source & target length should match.\"\n",
    "    decoder_output = generator.mask_filling(src_input, tgt_input)\n",
    "    init_input, tokens, token_probs = decoder_output\n",
    "    \n",
    "    probs = []\n",
    "    for p, tok, tokp, e in zip(position, tokens, token_probs, entity):\n",
    "        probs.append(get_probability(p, tok, tokp, e).item())\n",
    "    return probs"
   ]
  },
  {
   "cell_type": "markdown",
   "metadata": {},
   "source": [
    "#### Test One Example"
   ]
  },
  {
   "cell_type": "code",
   "execution_count": 10,
   "metadata": {},
   "outputs": [],
   "source": [
    "import spacy\n",
    "\n",
    "nlp = spacy.load('en_core_web_sm')"
   ]
  },
  {
   "cell_type": "code",
   "execution_count": 11,
   "metadata": {},
   "outputs": [],
   "source": [
    "INDEX = 9444\n",
    "\n",
    "source = xsum_source[INDEX]\n",
    "target = \"Twin-to-twin transfusion syndrome (TTTS) is being tracked by a hospital in Cardiff in a bid to save the lives of babies born with the condition.\""
   ]
  },
  {
   "cell_type": "code",
   "execution_count": 12,
   "metadata": {},
   "outputs": [
    {
     "name": "stdout",
     "output_type": "stream",
     "text": [
      "{'start': 35, 'end': 39, 'label': 'ORG'} - TTTS\n",
      "{'start': 75, 'end': 82, 'label': 'ORG'} - Cardiff\n"
     ]
    }
   ],
   "source": [
    "ent_parts = nlp(target).to_json()['ents']\n",
    "for e in ent_parts:\n",
    "    print('{} - {}'.format(e, target[e['start']: e['end']]))"
   ]
  },
  {
   "cell_type": "code",
   "execution_count": 13,
   "metadata": {},
   "outputs": [],
   "source": [
    "prior_model = ConditionalSequenceGenerator(clean_bart)"
   ]
  },
  {
   "cell_type": "code",
   "execution_count": 14,
   "metadata": {},
   "outputs": [
    {
     "name": "stdout",
     "output_type": "stream",
     "text": [
      "(tensor([[    2, 23638,   179,    12,   560,    12, 17137,   179, 30387, 15727,\n",
      "         14115,    36, 14543,  2685,    43,    16,   145, 12962,    30,    10,\n",
      "          1098,    11, 12426,    11,    10,  2311,     7,  1871,     5,  1074,\n",
      "             9,  7272,  2421,    19,     5,  1881,     4,     2]],\n",
      "       device='cuda:0'), [['Tw', 'in', '-', 'to', '-', 'tw', 'in', ' transf', 'usion', ' syndrome', ' (', 'TT', 'TS', ')', ' is', ' being', ' tracked', ' by', ' a', ' hospital', ' in', ' Cardiff', ' in', ' a', ' bid', ' to', ' save', ' the', ' lives', ' of', ' babies', ' born', ' with', ' the', ' condition', '.', '']], tensor([[8.0032e-03, 7.8613e-01, 5.2002e-01, 9.0283e-01, 9.5117e-01, 8.7354e-01,\n",
      "         8.8770e-01, 9.2432e-01, 7.1045e-01, 8.7158e-01, 1.1194e-01, 7.5195e-01,\n",
      "         8.6816e-01, 9.1211e-01, 4.1846e-01, 4.0649e-01, 2.2253e-01, 1.5063e-01,\n",
      "         5.4102e-01, 2.0154e-01, 1.9019e-01, 5.1498e-04, 2.7771e-02, 5.1367e-01,\n",
      "         8.1836e-01, 8.8525e-01, 8.7769e-02, 3.3008e-01, 9.1650e-01, 8.9844e-01,\n",
      "         4.4189e-01, 1.9135e-02, 7.2803e-01, 8.1445e-01, 7.3291e-01, 8.8721e-01,\n",
      "         9.0527e-01]], device='cuda:0', dtype=torch.float16))\n"
     ]
    }
   ],
   "source": [
    "outputs = prior_model.generate([source], tgt_input=[target])\n",
    "print(outputs)"
   ]
  },
  {
   "cell_type": "code",
   "execution_count": 15,
   "metadata": {},
   "outputs": [
    {
     "name": "stdout",
     "output_type": "stream",
     "text": [
      "tensor(0.6528, device='cuda:0', dtype=torch.float16)\n",
      "tensor(0.0005, device='cuda:0', dtype=torch.float16)\n"
     ]
    }
   ],
   "source": [
    "print(get_probability((35, 39), outputs[1][0], outputs[2][0], 'TTTS'))\n",
    "print(get_probability((75, 82), outputs[1][0], outputs[2][0], 'Cardiff'))"
   ]
  },
  {
   "cell_type": "code",
   "execution_count": 16,
   "metadata": {},
   "outputs": [],
   "source": [
    "generator = ConditionalSequenceGenerator(xsum_bart)"
   ]
  },
  {
   "cell_type": "code",
   "execution_count": 17,
   "metadata": {},
   "outputs": [
    {
     "name": "stdout",
     "output_type": "stream",
     "text": [
      "(tensor([[    2, 23638,   179,    12,   560,    12, 17137,   179, 30387, 15727,\n",
      "         14115,    36, 14543,  2685,    43,    16,   145, 12962,    30,    10,\n",
      "          1098,    11, 12426,    11,    10,  2311,     7,  1871,     5,  1074,\n",
      "             9,  7272,  2421,    19,     5,  1881,     4,     2]],\n",
      "       device='cuda:0'), [['Tw', 'in', '-', 'to', '-', 'tw', 'in', ' transf', 'usion', ' syndrome', ' (', 'TT', 'TS', ')', ' is', ' being', ' tracked', ' by', ' a', ' hospital', ' in', ' Cardiff', ' in', ' a', ' bid', ' to', ' save', ' the', ' lives', ' of', ' babies', ' born', ' with', ' the', ' condition', '.', '']], tensor([[0.0229, 0.8320, 0.3770, 0.9438, 0.9248, 0.7979, 0.9243, 0.9067, 0.6470,\n",
      "         0.8745, 0.0132, 0.3142, 0.8828, 0.9058, 0.3232, 0.3018, 0.0773, 0.2152,\n",
      "         0.5469, 0.1202, 0.8262, 0.2532, 0.0859, 0.5059, 0.8950, 0.8779, 0.0726,\n",
      "         0.2245, 0.8774, 0.8901, 0.3467, 0.0225, 0.8276, 0.7759, 0.8584, 0.8960,\n",
      "         0.9033]], device='cuda:0', dtype=torch.float16))\n"
     ]
    }
   ],
   "source": [
    "outputs = generator.generate([source], tgt_input=[target])\n",
    "print(outputs)"
   ]
  },
  {
   "cell_type": "code",
   "execution_count": 18,
   "metadata": {},
   "outputs": [
    {
     "name": "stdout",
     "output_type": "stream",
     "text": [
      "tensor(0.2773, device='cuda:0', dtype=torch.float16)\n",
      "tensor(0.2532, device='cuda:0', dtype=torch.float16)\n"
     ]
    }
   ],
   "source": [
    "print(get_probability((35, 39), outputs[1][0], outputs[2][0], 'TTTS'))\n",
    "print(get_probability((75, 82), outputs[1][0], outputs[2][0], 'Cardiff'))"
   ]
  },
  {
   "cell_type": "markdown",
   "metadata": {},
   "source": [
    "#### Read Annotated Data"
   ]
  },
  {
   "cell_type": "code",
   "execution_count": 19,
   "metadata": {},
   "outputs": [],
   "source": [
    "import json\n",
    "\n",
    "from tqdm import tqdm"
   ]
  },
  {
   "cell_type": "code",
   "execution_count": 20,
   "metadata": {},
   "outputs": [
    {
     "name": "stdout",
     "output_type": "stream",
     "text": [
      "107\n"
     ]
    }
   ],
   "source": [
    "data = json.load(open('annotated.json', 'r'))\n",
    "print(len(data))"
   ]
  },
  {
   "cell_type": "code",
   "execution_count": 21,
   "metadata": {},
   "outputs": [
    {
     "data": {
      "text/plain": [
       "{'id': 5747,\n",
       " 'pred': 'Six teenagers have died from carbon monoxide poisoning after a party at a remote hut in northern Germany, police say.',\n",
       " 'ents': [{'start': 0, 'end': 3, 'label': 0, 'type': 'CARDINAL', 'ent': 'Six'},\n",
       "  {'start': 97, 'end': 104, 'label': 0, 'type': 'GPE', 'ent': 'Germany'}],\n",
       " 'hallucinations': []}"
      ]
     },
     "execution_count": 21,
     "metadata": {},
     "output_type": "execute_result"
    }
   ],
   "source": [
    "data[55]"
   ]
  },
  {
   "cell_type": "code",
   "execution_count": 22,
   "metadata": {},
   "outputs": [],
   "source": [
    "def prepare_inputs(source, target, ent_parts=None):\n",
    "    if ent_parts is None:\n",
    "        ent_parts = nlp(target).to_json()['ents']\n",
    "    \n",
    "    entities, positions = [], []\n",
    "    inputs, targets = [], []\n",
    "\n",
    "    for e in ent_parts:\n",
    "        positions.append((e['start'], e['end']))\n",
    "        entities.append(target[e['start']: e['end']])\n",
    "        inputs.append(source)\n",
    "        targets.append(target)\n",
    "\n",
    "    return inputs, targets, entities, positions"
   ]
  },
  {
   "cell_type": "code",
   "execution_count": 23,
   "metadata": {},
   "outputs": [
    {
     "name": "stderr",
     "output_type": "stream",
     "text": [
      "100%|██████████| 107/107 [05:51<00:00,  3.28s/it]\n"
     ]
    }
   ],
   "source": [
    "prior_model = ConditionalSequenceGenerator(clean_bart)\n",
    "posterior_model = ConditionalSequenceGenerator(xsum_bart)\n",
    "\n",
    "for INDEX in tqdm(range(len(data))):\n",
    "    source = xsum_source[data[INDEX]['id']]\n",
    "    target = data[INDEX]['pred']\n",
    "    \n",
    "    inputs, targets, entities, positions = prepare_inputs(source, target, data[INDEX]['ents'])\n",
    "    prior_probs = get_cmlm_probability(prior_model, inputs, targets, positions, entities)\n",
    "    posterior_probs = get_cmlm_probability(posterior_model, inputs, targets, positions, entities)\n",
    "    \n",
    "    assert len(prior_probs) == len(posterior_probs) == len(data[INDEX]['ents']), \"{};\\n {};\\n {}\".format(prior_probs, posterior_probs, data[INDEX]['ents'])\n",
    "    for i in range(len(prior_probs)):\n",
    "        data[INDEX]['ents'][i]['prior'] = prior_probs[i]\n",
    "        data[INDEX]['ents'][i]['posterior'] = posterior_probs[i]"
   ]
  },
  {
   "cell_type": "code",
   "execution_count": 24,
   "metadata": {},
   "outputs": [],
   "source": [
    "# import json"
   ]
  },
  {
   "cell_type": "code",
   "execution_count": 25,
   "metadata": {},
   "outputs": [],
   "source": [
    "# with open('prior_posterior.json', 'w') as fout:\n",
    "#     json.dump(prior_posterior , fout)"
   ]
  },
  {
   "cell_type": "markdown",
   "metadata": {},
   "source": [
    "#### Draw Diagram"
   ]
  },
  {
   "cell_type": "code",
   "execution_count": 26,
   "metadata": {},
   "outputs": [],
   "source": [
    "# prior_posterior = json.load(open('prior_posterior.json', 'r'))\n",
    "# print(len(prior_posterior))"
   ]
  },
  {
   "cell_type": "code",
   "execution_count": 27,
   "metadata": {},
   "outputs": [],
   "source": [
    "%matplotlib inline\n",
    "\n",
    "import matplotlib.pyplot as plt"
   ]
  },
  {
   "cell_type": "code",
   "execution_count": 28,
   "metadata": {},
   "outputs": [],
   "source": [
    "prior_posterior = []\n",
    "for d in data:\n",
    "    for e in d['ents']:\n",
    "        e['id'] = d['id']\n",
    "        prior_posterior.append(e)"
   ]
  },
  {
   "cell_type": "code",
   "execution_count": 29,
   "metadata": {},
   "outputs": [
    {
     "data": {
      "image/png": "[encoded data removed]",
      "text/plain": [
       "<Figure size 1440x720 with 1 Axes>"
      ]
     },
     "metadata": {
      "needs_background": "light"
     },
     "output_type": "display_data"
    }
   ],
   "source": [
    "fig, ax = plt.subplots(figsize=(20.0, 10.0))\n",
    "colors = ['tab:blue', 'tab:orange', 'tab:green']\n",
    "\n",
    "no_hallucinated = [(p['prior'], p['posterior']) for p in prior_posterior if p['label'] == 0]\n",
    "hallucinated_true = [(p['prior'], p['posterior']) for p in prior_posterior if p['label'] == 1]\n",
    "hallucinated_false = [(p['prior'], p['posterior']) for p in prior_posterior if p['label'] == 2]\n",
    "hallucinated_intrinsic = [(p['prior'], p['posterior']) for p in prior_posterior if p['label'] == 3]\n",
    "\n",
    "ax.scatter([i[0] for i in no_hallucinated], \n",
    "           [i[1] for i in no_hallucinated], c='tab:blue', s=[i[1]*100 + 40 for i in no_hallucinated], label='Non-hallucination', alpha=0.7)\n",
    "\n",
    "ax.scatter([i[0] for i in hallucinated_true], \n",
    "           [i[1] for i in hallucinated_true], c='tab:green', s=[i[1]*100 + 40 for i in hallucinated_true], label='Hallucination True', alpha=0.65)\n",
    "\n",
    "ax.scatter([i[0] for i in hallucinated_false], \n",
    "           [i[1] for i in hallucinated_false], c='tab:orange', s=[i[1]*100 + 40 for i in hallucinated_false], label='Hallucination False', alpha=0.6)\n",
    "\n",
    "ax.scatter([i[0] for i in hallucinated_intrinsic], \n",
    "           [i[1] for i in hallucinated_intrinsic], c='tab:red', s=[i[1]*100 + 40 for i in hallucinated_intrinsic], label='Intrinsic Hallucination', alpha=0.6)\n",
    "\n",
    "ax.scatter([1.0], [1.0], c='tab:gray', s=10)\n",
    "\n",
    "ax.set_xlabel('Prior Probability')\n",
    "ax.set_ylabel('Posterior Probability')\n",
    "ax.legend()\n",
    "ax.grid(True)\n",
    "\n",
    "plt.savefig('foo.png')\n",
    "plt.show()"
   ]
  },
  {
   "cell_type": "code",
   "execution_count": 30,
   "metadata": {},
   "outputs": [
    {
     "name": "stdout",
     "output_type": "stream",
     "text": [
      "{'start': 70, 'end': 75, 'label': 0, 'type': 'ORDINAL', 'ent': 'first', 'prior': 0.9716796875, 'posterior': 0.9287109375, 'id': 7079}\n",
      "{'start': 74, 'end': 79, 'label': 1, 'type': 'PERSON', 'ent': 'David', 'prior': 0.9208984375, 'posterior': 0.95068359375, 'id': 1513}\n",
      "{'start': 66, 'end': 73, 'label': 0, 'type': 'GPE', 'ent': 'England', 'prior': 0.9482421875, 'posterior': 0.916015625, 'id': 560}\n",
      "{'start': 68, 'end': 71, 'label': 0, 'type': 'DATE', 'ent': 'May', 'prior': 0.93896484375, 'posterior': 0.943359375, 'id': 10066}\n",
      "{'start': 7, 'end': 12, 'label': 0, 'type': 'PERSON', 'ent': 'David', 'prior': 0.93798828125, 'posterior': 0.90576171875, 'id': 1367}\n",
      "{'start': 13, 'end': 20, 'label': 0, 'type': 'PERSON', 'ent': 'Mullins', 'prior': 0.9033203125, 'posterior': 0.84912109375, 'id': 1367}\n",
      "{'start': 33, 'end': 37, 'label': 0, 'type': 'PERSON', 'ent': 'Tian', 'prior': 0.970703125, 'posterior': 0.97021484375, 'id': 10524}\n",
      "{'start': 26, 'end': 35, 'label': 0, 'type': 'PERSON', 'ent': 'Tillerson', 'prior': 0.93896484375, 'posterior': 0.884765625, 'id': 4809}\n",
      "{'start': 115, 'end': 120, 'label': 0, 'type': 'PERSON', 'ent': 'Trump', 'prior': 0.92919921875, 'posterior': 0.93212890625, 'id': 4809}\n",
      "{'start': 128, 'end': 130, 'label': 0, 'type': 'GPE', 'ent': 'UK', 'prior': 0.93212890625, 'posterior': 0.9150390625, 'id': 6228}\n",
      "{'start': 62, 'end': 67, 'label': 0, 'type': 'GPE', 'ent': 'Welsh', 'prior': 0.93603515625, 'posterior': 0.9296875, 'id': 2724}\n",
      "{'start': 73, 'end': 81, 'label': 1, 'type': 'PERSON', 'ent': 'Michelle', 'prior': 0.91796875, 'posterior': 0.9697265625, 'id': 8447}\n",
      "{'start': 72, 'end': 81, 'label': 0, 'type': 'PERSON', 'ent': 'MacDonald', 'prior': 0.93359375, 'posterior': 0.94677734375, 'id': 8685}\n",
      "{'start': 62, 'end': 67, 'label': 0, 'type': 'GPE', 'ent': 'Wales', 'prior': 0.9208984375, 'posterior': 0.9365234375, 'id': 11080}\n",
      "{'start': 74, 'end': 80, 'label': 0, 'type': 'NORP', 'ent': 'Indian', 'prior': 0.9755859375, 'posterior': 0.94189453125, 'id': 6931}\n",
      "{'start': 38, 'end': 44, 'label': 0, 'type': 'PERSON', 'ent': 'Watson', 'prior': 0.9375, 'posterior': 0.95703125, 'id': 8495}\n",
      "{'start': 176, 'end': 181, 'label': 0, 'type': 'PERSON', 'ent': 'Trump', 'prior': 0.91845703125, 'posterior': 0.9365234375, 'id': 6486}\n",
      "{'start': 48, 'end': 55, 'label': 0, 'type': 'NORP', 'ent': 'British', 'prior': 0.9423828125, 'posterior': 0.935546875, 'id': 1575}\n",
      "{'start': 4, 'end': 7, 'label': 0, 'type': 'ORG', 'ent': 'BBC', 'prior': 0.9111328125, 'posterior': 0.87646484375, 'id': 8953}\n",
      "{'start': 3, 'end': 6, 'label': 0, 'type': 'ORG', 'ent': 'NHS', 'prior': 0.9150390625, 'posterior': 0.935546875, 'id': 7619}\n",
      "{'start': 92, 'end': 96, 'label': 0, 'type': 'MONEY', 'ent': '40bn', 'prior': 0.94384765625, 'posterior': 0.88720703125, 'id': 700}\n",
      "{'start': 40, 'end': 45, 'label': 0, 'type': 'PERSON', 'ent': 'David', 'prior': 0.91748046875, 'posterior': 0.94482421875, 'id': 3030}\n",
      "{'start': 32, 'end': 37, 'label': 0, 'type': 'PERSON', 'ent': 'Kenny', 'prior': 0.94921875, 'posterior': 0.939453125, 'id': 8770}\n",
      "{'start': 127, 'end': 130, 'label': 0, 'type': 'ORG', 'ent': 'BBC', 'prior': 0.94873046875, 'posterior': 0.81982421875, 'id': 5290}\n",
      "{'start': 16, 'end': 20, 'label': 0, 'type': 'PERSON', 'ent': 'Jose', 'prior': 0.91162109375, 'posterior': 0.9296875, 'id': 1110}\n",
      "{'start': 21, 'end': 29, 'label': 0, 'type': 'PERSON', 'ent': 'Mourinho', 'prior': 0.94921875, 'posterior': 0.89404296875, 'id': 1110}\n",
      "{'start': 30, 'end': 38, 'label': 0, 'type': 'PERSON', 'ent': 'Phillips', 'prior': 0.9326171875, 'posterior': 0.947265625, 'id': 9340}\n",
      "{'start': 86, 'end': 94, 'label': 0, 'type': 'ORG', 'ent': 'Aberdeen', 'prior': 0.90625, 'posterior': 0.7216796875, 'id': 10112}\n",
      "{'start': 117, 'end': 123, 'label': 1, 'type': 'DATE', 'ent': 'Friday', 'prior': 0.947265625, 'posterior': 0.93115234375, 'id': 10112}\n",
      "{'start': 25, 'end': 30, 'label': None, 'type': 'PERSON', 'ent': 'Jones', 'prior': 0.9345703125, 'posterior': 0.90576171875, 'id': 6066}\n",
      "{'start': 102, 'end': 111, 'label': 0, 'type': 'PERSON', 'ent': 'Tillerson', 'prior': 0.9716796875, 'posterior': 0.9384765625, 'id': 2333}\n",
      "{'start': 154, 'end': 161, 'label': 0, 'type': 'LOC', 'ent': 'Kashmir', 'prior': 0.9267578125, 'posterior': 0.9150390625, 'id': 10898}\n"
     ]
    }
   ],
   "source": [
    "for p in prior_posterior:\n",
    "    if p['prior'] > 0.9:\n",
    "        print(p)"
   ]
  },
  {
   "cell_type": "markdown",
   "metadata": {},
   "source": [
    "#### Classification"
   ]
  },
  {
   "cell_type": "code",
   "execution_count": 31,
   "metadata": {},
   "outputs": [
    {
     "data": {
      "text/plain": [
       "{'start': 62,\n",
       " 'end': 75,\n",
       " 'label': 2,\n",
       " 'type': 'CARDINAL',\n",
       " 'ent': 'more than 100',\n",
       " 'prior': 0.0023746490478515625,\n",
       " 'posterior': 0.2314453125,\n",
       " 'id': 8805}"
      ]
     },
     "execution_count": 31,
     "metadata": {},
     "output_type": "execute_result"
    }
   ],
   "source": [
    "prior_posterior[0]"
   ]
  },
  {
   "cell_type": "code",
   "execution_count": 32,
   "metadata": {},
   "outputs": [],
   "source": [
    "true_label = []\n",
    "ent_pred_label = []\n",
    "prob_pred_label = []\n",
    "\n",
    "for p in prior_posterior:\n",
    "    if p['label'] is not None:\n",
    "        source = xsum_source[p['id']]\n",
    "\n",
    "        if p['ent'].lower() in source.lower():\n",
    "            ent_pred_label.append(0)\n",
    "        else:\n",
    "            ent_pred_label.append(1)\n",
    "\n",
    "        if p['label'] == 0 or p['label'] == 1:\n",
    "            true_label.append(0)\n",
    "        elif p['label'] == 2 or p['label'] == 3:\n",
    "            true_label.append(1)\n",
    "        else:\n",
    "            raise Exception(\"ERROR! {}\".format(p['label']))\n",
    "\n",
    "        if p['posterior'] > 0.2:\n",
    "            prob_pred_label.append(0)\n",
    "        else:\n",
    "            prob_pred_label.append(1)"
   ]
  },
  {
   "cell_type": "code",
   "execution_count": 33,
   "metadata": {},
   "outputs": [],
   "source": [
    "from sklearn.metrics import classification_report"
   ]
  },
  {
   "cell_type": "code",
   "execution_count": 34,
   "metadata": {},
   "outputs": [
    {
     "name": "stdout",
     "output_type": "stream",
     "text": [
      "              precision    recall  f1-score   support\n",
      "\n",
      " Non-factual       0.96      0.69      0.81       314\n",
      "     Factual       0.33      0.86      0.48        56\n",
      "\n",
      "    accuracy                           0.72       370\n",
      "   macro avg       0.65      0.77      0.64       370\n",
      "weighted avg       0.87      0.72      0.76       370\n",
      "\n"
     ]
    }
   ],
   "source": [
    "print(classification_report(true_label, ent_pred_label, target_names=['Non-factual', 'Factual']))"
   ]
  },
  {
   "cell_type": "code",
   "execution_count": 35,
   "metadata": {},
   "outputs": [
    {
     "name": "stdout",
     "output_type": "stream",
     "text": [
      "              precision    recall  f1-score   support\n",
      "\n",
      " Non-factual       0.93      0.81      0.87       314\n",
      "     Factual       0.38      0.66      0.48        56\n",
      "\n",
      "    accuracy                           0.79       370\n",
      "   macro avg       0.66      0.73      0.67       370\n",
      "weighted avg       0.85      0.79      0.81       370\n",
      "\n"
     ]
    }
   ],
   "source": [
    "print(classification_report(true_label, prob_pred_label, target_names=['Non-factual', 'Factual']))"
   ]
  },
  {
   "cell_type": "markdown",
   "metadata": {},
   "source": [
    "#### AUC"
   ]
  },
  {
   "cell_type": "code",
   "execution_count": 36,
   "metadata": {},
   "outputs": [],
   "source": [
    "import numpy as np\n",
    "\n",
    "from sklearn.metrics import roc_curve, auc"
   ]
  },
  {
   "cell_type": "code",
   "execution_count": 37,
   "metadata": {},
   "outputs": [
    {
     "data": {
      "text/plain": [
       "{'start': 62,\n",
       " 'end': 75,\n",
       " 'label': 2,\n",
       " 'type': 'CARDINAL',\n",
       " 'ent': 'more than 100',\n",
       " 'prior': 0.0023746490478515625,\n",
       " 'posterior': 0.2314453125,\n",
       " 'id': 8805}"
      ]
     },
     "execution_count": 37,
     "metadata": {},
     "output_type": "execute_result"
    }
   ],
   "source": [
    "prior_posterior[0]"
   ]
  },
  {
   "cell_type": "code",
   "execution_count": 38,
   "metadata": {},
   "outputs": [],
   "source": [
    "# non-hallucination vs false hallucination"
   ]
  },
  {
   "cell_type": "code",
   "execution_count": 39,
   "metadata": {},
   "outputs": [],
   "source": [
    "true_label = []\n",
    "prior_probabilities, posterior_probabilities = [], []\n",
    "\n",
    "for p in prior_posterior:\n",
    "    if p['label'] is not None:\n",
    "\n",
    "        if p['label'] == 0 or p['label'] == 1:\n",
    "            true_label.append(1)\n",
    "        elif p['label'] == 2 or p['label'] == 3:\n",
    "            true_label.append(0)\n",
    "        else:\n",
    "            raise Exception(\"ERROR! {}\".format(p['label']))\n",
    "        \n",
    "        prior_probabilities.append(p['prior'])\n",
    "        posterior_probabilities.append(p['posterior'])"
   ]
  },
  {
   "cell_type": "code",
   "execution_count": 40,
   "metadata": {},
   "outputs": [],
   "source": [
    "true_label = np.asarray(true_label)\n",
    "prior_probabilities = np.asarray(prior_probabilities)\n",
    "posterior_probabilities = np.asarray(posterior_probabilities)"
   ]
  },
  {
   "cell_type": "code",
   "execution_count": 41,
   "metadata": {},
   "outputs": [
    {
     "data": {
      "text/plain": [
       "(370,)"
      ]
     },
     "execution_count": 41,
     "metadata": {},
     "output_type": "execute_result"
    }
   ],
   "source": [
    "true_label.shape"
   ]
  },
  {
   "cell_type": "code",
   "execution_count": 42,
   "metadata": {},
   "outputs": [
    {
     "data": {
      "image/png": "[encoded data removed]",
      "text/plain": [
       "<Figure size 432x288 with 1 Axes>"
      ]
     },
     "metadata": {
      "needs_background": "light"
     },
     "output_type": "display_data"
    }
   ],
   "source": [
    "plt.figure()\n",
    "lw = 2\n",
    "\n",
    "# prior\n",
    "fpr, tpr, _ = roc_curve(true_label, prior_probabilities)\n",
    "roc_auc = auc(fpr, tpr)\n",
    "plt.plot(fpr, tpr, color='green',\n",
    "         lw=lw, label='Prior (area = %0.2f)' % roc_auc)\n",
    "\n",
    "# posterior\n",
    "fpr, tpr, _ = roc_curve(true_label, posterior_probabilities)\n",
    "roc_auc = auc(fpr, tpr)\n",
    "plt.plot(fpr, tpr, color='darkorange',\n",
    "         lw=lw, label='Posterior (area = %0.2f)' % roc_auc)\n",
    "\n",
    "plt.plot([0, 1], [0, 1], color='navy', lw=lw, linestyle='--')\n",
    "plt.xlim([0.0, 1.0])\n",
    "plt.ylim([0.0, 1.05])\n",
    "plt.xlabel('False Positive Rate')\n",
    "plt.ylabel('True Positive Rate')\n",
    "plt.title('Receiver operating characteristic example')\n",
    "plt.legend(loc=\"lower right\")\n",
    "plt.show()"
   ]
  }
 ],
 "metadata": {
  "kernelspec": {
   "display_name": "Python 3",
   "language": "python",
   "name": "python3"
  },
  "language_info": {
   "codemirror_mode": {
    "name": "ipython",
    "version": 3
   },
   "file_extension": ".py",
   "mimetype": "text/x-python",
   "name": "python",
   "nbconvert_exporter": "python",
   "pygments_lexer": "ipython3",
   "version": "3.7.4"
  }
 },
 "nbformat": 4,
 "nbformat_minor": 4
}
