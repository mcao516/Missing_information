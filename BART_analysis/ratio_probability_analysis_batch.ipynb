{
 "cells": [
  {
   "cell_type": "code",
   "execution_count": 1,
   "metadata": {},
   "outputs": [],
   "source": [
    "import json\n",
    "import math\n",
    "import torch\n",
    "import torch.nn as nn\n",
    "\n",
    "from fairseq.models.bart import BARTModel\n",
    "from utils import read_lines\n",
    "\n",
    "from transformers import BartTokenizer"
   ]
  },
  {
   "cell_type": "code",
   "execution_count": 2,
   "metadata": {},
   "outputs": [],
   "source": [
    "PATH = json.load(open('path_config.json'))"
   ]
  },
  {
   "cell_type": "code",
   "execution_count": 3,
   "metadata": {},
   "outputs": [],
   "source": [
    "xsum_bart = BARTModel.from_pretrained(PATH['bart.large.xsum'],\n",
    "                                      checkpoint_file='model.pt',\n",
    "                                      data_name_or_path=PATH['bart.large.xsum'])"
   ]
  },
  {
   "cell_type": "code",
   "execution_count": 4,
   "metadata": {},
   "outputs": [],
   "source": [
    "bart = BARTModel.from_pretrained(PATH['bart.large'],\n",
    "                                 checkpoint_file='model.pt',\n",
    "                                 data_name_or_path=PATH['bart.large'])"
   ]
  },
  {
   "cell_type": "markdown",
   "metadata": {},
   "source": [
    "#### Read XSum"
   ]
  },
  {
   "cell_type": "code",
   "execution_count": 5,
   "metadata": {},
   "outputs": [
    {
     "name": "stdout",
     "output_type": "stream",
     "text": [
      "11301\n"
     ]
    }
   ],
   "source": [
    "document_path = PATH['xsum_fariseq'] + '/test.source'\n",
    "target_path = PATH['xsum_fariseq'] + '/test.target'\n",
    "xsum_source = read_lines(document_path)\n",
    "xsum_target = read_lines(target_path)\n",
    "print(len(xsum_source))\n",
    "assert len(xsum_source) == len(xsum_target)"
   ]
  },
  {
   "cell_type": "markdown",
   "metadata": {},
   "source": [
    "#### Generate Summary"
   ]
  },
  {
   "cell_type": "code",
   "execution_count": 6,
   "metadata": {},
   "outputs": [],
   "source": [
    "from fairseq.data.data_utils import collate_tokens"
   ]
  },
  {
   "cell_type": "code",
   "execution_count": 7,
   "metadata": {},
   "outputs": [],
   "source": [
    "class ConditionalSequenceGenerator:\n",
    "    \"\"\"Conditional sequence generator for calculating prior and posterior probability.\"\"\"\n",
    "    def __init__(self, bart):\n",
    "        self.bart = bart\n",
    "        self.tokenizer = BartTokenizer.from_pretrained(\"facebook/bart-large\")\n",
    "        \n",
    "        self.encode_func = bart.encode\n",
    "        self.decode_func = bart.decode\n",
    "        self.max_positions = bart.max_positions\n",
    "        self.encode_line = bart.task.source_dictionary.encode_line\n",
    "        \n",
    "        self._initialize()\n",
    "    \n",
    "    def _initialize(self):\n",
    "        \"\"\"Set BART model to evaluation mode.\"\"\"\n",
    "        self.bart.cuda()\n",
    "        self.bart.eval()\n",
    "        self.bart.half()\n",
    "        \n",
    "    def tokenize(self, input_str, append_bos=False, append_eos=True, left_pad=True):\n",
    "        \"\"\"BPE-encode a sentence (or multiple sentences).\n",
    "\n",
    "        Args:\n",
    "            input_str (str or List[str]): input sentence to be tokenized.\n",
    "            append_bos (bool): self-explained.\n",
    "            append_eos (bool): self-explained.\n",
    "\n",
    "        Return:\n",
    "            input_ids (torch.Tensor): [batch_size, length]\n",
    "            src_lengths (torch.Tensor): [batch_size]\n",
    "        \"\"\"\n",
    "        if type(input_str) == type(''):\n",
    "            input_str = [input_str]\n",
    "\n",
    "        input_ids = []\n",
    "        for ins in input_str:\n",
    "            tokens = self.bart.bpe.encode(ins)  # <mask>: 1279 27932 29\n",
    "            calibration = sum([append_bos, append_eos])\n",
    "            if len(tokens.split(\" \")) > min(self.max_positions) - calibration:\n",
    "                tokens = \" \".join(tokens.split(\" \")[: min(self.max_positions) - calibration])\n",
    "\n",
    "            tokens = \"<s> \" + tokens if append_bos else tokens\n",
    "            tokens = tokens + \" </s>\" if append_eos else tokens\n",
    "            ids = self.encode_line(tokens, append_eos=False).long()\n",
    "            input_ids.append(ids)\n",
    "\n",
    "        input_ids = collate_tokens(input_ids, pad_idx=1, left_pad=left_pad).cuda()\n",
    "        input_lengths = torch.sum(input_ids != 1, dim=1).cuda()\n",
    "\n",
    "        return input_ids, input_lengths\n",
    "    \n",
    "    def tokenize_with_mask(self, input_str):\n",
    "        \"\"\"Tokenize sentence with a special <mask> token in it.\n",
    "\n",
    "        Args:\n",
    "            input_str (str or List[str]): input sentence to be tokenized.\n",
    "\n",
    "        Return:\n",
    "            input_ids (torch.Tensor): [batch_size, length]\n",
    "            src_lengths (torch.Tensor): [batch_size]\n",
    "        \"\"\"\n",
    "        input_ids = self.tokenizer(input_str, return_tensors='pt', padding=True)['input_ids'].cuda()\n",
    "        input_lengths = torch.sum(input_ids != 1, dim=1).cuda()\n",
    "        return input_ids, input_lengths\n",
    "    \n",
    "    def generate(self, src_input, tgt_input=None):\n",
    "        \"\"\"Conditional generation.\n",
    "        \n",
    "        Args:\n",
    "            src_input (str or List[str]): input source sentence to be tokenized.\n",
    "            tgt_input (str or List[str]): input target sentence to be tokenized.\n",
    "        \"\"\"\n",
    "        input_ids, lengths = self.tokenize(src_input, append_bos=False) \n",
    "        \n",
    "        target_ids = None\n",
    "        if tgt_input is not None:\n",
    "            assert len(src_input) == len(tgt_input), \"source & target length should match.\"\n",
    "            target_ids, _ = self.tokenize(tgt_input, append_bos=False, left_pad=False)\n",
    "        \n",
    "        with torch.no_grad():\n",
    "            encoder_output = self.encode_sequence(input_ids, lengths)\n",
    "            decoder_output = self.decode_sequence(encoder_output, \n",
    "                                                  target_ids=target_ids,\n",
    "                                                  prefix_tokens=[2])\n",
    "        return decoder_output\n",
    "    \n",
    "    def mask_filling(self, src_input, tgt_input=None):\n",
    "        \"\"\"\n",
    "        Filling the mask in sentence(s).\n",
    "        \"\"\"\n",
    "        input_ids, lengths = self.tokenize_with_mask(src_input)\n",
    "        \n",
    "        target_ids = None\n",
    "        if tgt_input is not None:\n",
    "            assert len(src_input) == len(tgt_input), \"source & target length should match.\"\n",
    "            target_ids, _ = self.tokenize(tgt_input, left_pad=False)\n",
    "\n",
    "        with torch.no_grad():\n",
    "            encoder_output = self.encode_sequence(input_ids, lengths)\n",
    "            decoder_output = self.decode_sequence(encoder_output, \n",
    "                                                  target_ids=target_ids,\n",
    "                                                  prefix_tokens=[2, 0])\n",
    "        return decoder_output\n",
    "    \n",
    "    def encode_sequence(self, input_ids, lengths):\n",
    "        return self.bart.model.encoder(input_ids, src_lengths=lengths)\n",
    "        \n",
    "    def decode_sequence(\n",
    "        self,\n",
    "        encoder_out,\n",
    "        target_ids=None,\n",
    "        min_decode_step=3,\n",
    "        max_decode_step=100,\n",
    "        pad_id=1,\n",
    "        eos_id=2,\n",
    "        prefix_tokens=[2, 0],\n",
    "    ):\n",
    "        batch_size = encoder_out['encoder_padding_mask'][0].shape[0]\n",
    "        init_input = torch.tensor([prefix_tokens] * batch_size, dtype=torch.long).cuda()\n",
    "        token_probs, tokens = None, [[] for i in range(batch_size)]\n",
    "        end_mask = torch.tensor([False] * batch_size).cuda()\n",
    "\n",
    "        softmax = nn.Softmax(dim=1)\n",
    "        for step in range(max_decode_step):\n",
    "            decoder_outputs = self.bart.model.decoder(init_input, encoder_out, features_only=False)\n",
    "            logits = decoder_outputs[0][:, -1, :]  # logits: [batch_size, vocab]\n",
    "            attn = decoder_outputs[1]['attn'][0]  # [batch_size, prev_token_len, src_token_len]\n",
    "\n",
    "            if step + 1 < min_decode_step:\n",
    "                logits[:, eos_id] = -math.inf  # mask <EOS> token when within minimal step\n",
    "            logits[:, pad_id], logits[:, 0] = -math.inf, -math.inf  # never select <PAD> & <BOS> token\n",
    "            probs = softmax(logits)  # probs: [batch_size, vocab]\n",
    "\n",
    "            # select tokens\n",
    "            if target_ids is not None:\n",
    "                selected_token = target_ids[:, step]\n",
    "            else:\n",
    "                value, indices = torch.topk(probs, 5, dim=1)\n",
    "                selected_token = indices[:, 0]\n",
    "\n",
    "            selected_token = selected_token.masked_fill(end_mask, pad_id)\n",
    "            init_input = torch.cat([init_input, selected_token.unsqueeze(1)], dim=-1)\n",
    "            \n",
    "            probs = torch.gather(probs, 1, selected_token.unsqueeze(1)).detach()\n",
    "            probs = probs.masked_fill(end_mask.unsqueeze(1), 1.0)\n",
    "            \n",
    "            # str & probability\n",
    "            token_probs = probs if token_probs is None else torch.cat([token_probs, probs], dim=-1)\n",
    "            for t, s in zip(tokens, selected_token):\n",
    "                t.append(self.decode_func(s.unsqueeze(0)) if s.item() != pad_id else '<pad>')\n",
    "            \n",
    "            # stop generation when all finished\n",
    "            end_mask = torch.logical_or(end_mask, selected_token == eos_id) \n",
    "            if end_mask.sum().item() == batch_size:\n",
    "                break\n",
    "\n",
    "        return init_input, tokens, token_probs"
   ]
  },
  {
   "cell_type": "code",
   "execution_count": 8,
   "metadata": {},
   "outputs": [],
   "source": [
    "def get_probability(position, tokens, probs, entity):\n",
    "    \"\"\"Calculate the probability of a span.\n",
    "\n",
    "    Args:\n",
    "        position: (start, end)\n",
    "        tokens: ['The', ' Archbishop', ' of', ...]\n",
    "        probs: [0.50, 0.49, 0.88, ...]\n",
    "        entity: Rodgers\n",
    "    \"\"\"\n",
    "    assert len(tokens) == len(probs), \"Tokens and token probabilities does not match.\"\n",
    "    \n",
    "    end_pointer, end_pos = 0, []\n",
    "    for t in tokens:\n",
    "        end_pointer += len(t)\n",
    "        end_pos.append(end_pointer)\n",
    "    \n",
    "    assert position[1] in end_pos, \"- {}\\n- {}\\n- {}\\n- {}\\n- {}\\n\".format(position, tokens, probs, entity, end_pos)\n",
    "    last_index = end_pos.index(position[1])\n",
    "    indexes = [last_index]\n",
    "    total_length = len(tokens[last_index])\n",
    "    \n",
    "    while total_length < (position[1] - position[0]):\n",
    "        last_index -= 1\n",
    "        assert last_index >= 0\n",
    "        indexes.append(last_index)\n",
    "        total_length += len(tokens[last_index])\n",
    "    \n",
    "    indexes.reverse()\n",
    "    \n",
    "    generated = ''.join([tokens[i] for i in indexes])\n",
    "    assert entity in generated, 'entity: {}; span: {}'.format(entity, generated)\n",
    "    \n",
    "    prob = 1.0\n",
    "    for i in indexes:\n",
    "        prob *= probs[i]\n",
    "    return prob"
   ]
  },
  {
   "cell_type": "code",
   "execution_count": 9,
   "metadata": {},
   "outputs": [],
   "source": [
    "def get_cmlm_probability(generator, src_input, tgt_input, position, entity):\n",
    "    outputs = generator.generate(src_input, tgt_input=tgt_input)\n",
    "    init_input, tokens, token_probs = outputs\n",
    "    \n",
    "    probs = []\n",
    "    for p, tok, tokp, e in zip(position, tokens, token_probs, entity):\n",
    "        probs.append(get_probability(p, tok, tokp, e).item())\n",
    "    \n",
    "    return probs"
   ]
  },
  {
   "cell_type": "code",
   "execution_count": 10,
   "metadata": {},
   "outputs": [],
   "source": [
    "def get_prior_probability(generator, src_input, tgt_input, position, entity):\n",
    "    assert len(src_input) == len(tgt_input), \"source & target length should match.\"\n",
    "    decoder_output = generator.mask_filling(src_input, tgt_input)\n",
    "    init_input, tokens, token_probs = decoder_output\n",
    "    \n",
    "    probs = []\n",
    "    for p, tok, tokp, e in zip(position, tokens, token_probs, entity):\n",
    "        probs.append(get_probability(p, tok, tokp, e).item())\n",
    "    return probs"
   ]
  },
  {
   "cell_type": "markdown",
   "metadata": {},
   "source": [
    "#### Test One Example"
   ]
  },
  {
   "cell_type": "code",
   "execution_count": 11,
   "metadata": {},
   "outputs": [],
   "source": [
    "import spacy\n",
    "\n",
    "nlp = spacy.load('en_core_web_sm')"
   ]
  },
  {
   "cell_type": "code",
   "execution_count": 12,
   "metadata": {},
   "outputs": [],
   "source": [
    "INDEX = 9444\n",
    "\n",
    "source = xsum_source[INDEX]\n",
    "target = \"Twin-to-twin transfusion syndrome (TTTS) is being tracked by a hospital in Cardiff in a bid to save the lives of babies born with the condition.\""
   ]
  },
  {
   "cell_type": "code",
   "execution_count": 13,
   "metadata": {},
   "outputs": [
    {
     "name": "stdout",
     "output_type": "stream",
     "text": [
      "{'start': 75, 'end': 82, 'label': 'DATE'} - Cardiff\n"
     ]
    }
   ],
   "source": [
    "ent_parts = nlp(target).to_json()['ents']\n",
    "for e in ent_parts:\n",
    "    print('{} - {}'.format(e, target[e['start']: e['end']]))"
   ]
  },
  {
   "cell_type": "code",
   "execution_count": 14,
   "metadata": {},
   "outputs": [],
   "source": [
    "prior_model = ConditionalSequenceGenerator(bart)"
   ]
  },
  {
   "cell_type": "code",
   "execution_count": 15,
   "metadata": {},
   "outputs": [
    {
     "name": "stdout",
     "output_type": "stream",
     "text": [
      "(tensor([[    2, 23638,   179,    12,   560,    12, 17137,   179, 30387, 15727,\n",
      "         14115,    36, 14543,  2685,    43,    16,   145, 12962,    30,    10,\n",
      "          1098,    11, 12426,    11,    10,  2311,     7,  1871,     5,  1074,\n",
      "             9,  7272,  2421,    19,     5,  1881,     4,     2]],\n",
      "       device='cuda:0'), [['Tw', 'in', '-', 'to', '-', 'tw', 'in', ' transf', 'usion', ' syndrome', ' (', 'TT', 'TS', ')', ' is', ' being', ' tracked', ' by', ' a', ' hospital', ' in', ' Cardiff', ' in', ' a', ' bid', ' to', ' save', ' the', ' lives', ' of', ' babies', ' born', ' with', ' the', ' condition', '.', '']], tensor([[2.9278e-03, 1.9703e-03, 2.0752e-03, 6.7520e-04, 6.9238e-01, 5.3162e-02,\n",
      "         6.2695e-01, 5.0391e-01, 0.0000e+00, 1.0729e-06, 5.0306e-04, 1.6093e-06,\n",
      "         5.9605e-08, 1.5652e-04, 1.7881e-07, 0.0000e+00, 0.0000e+00, 1.7881e-07,\n",
      "         1.7285e-06, 0.0000e+00, 5.9605e-08, 0.0000e+00, 5.9605e-08, 3.5763e-07,\n",
      "         0.0000e+00, 1.4126e-05, 0.0000e+00, 2.3842e-07, 0.0000e+00, 5.9605e-07,\n",
      "         0.0000e+00, 0.0000e+00, 0.0000e+00, 5.3644e-07, 0.0000e+00, 1.4219e-03,\n",
      "         4.3392e-05]], device='cuda:0', dtype=torch.float16))\n"
     ]
    }
   ],
   "source": [
    "outputs = prior_model.generate([source], tgt_input=[target])\n",
    "print(outputs)"
   ]
  },
  {
   "cell_type": "code",
   "execution_count": 16,
   "metadata": {},
   "outputs": [
    {
     "name": "stdout",
     "output_type": "stream",
     "text": [
      "tensor(0., device='cuda:0', dtype=torch.float16)\n",
      "tensor(0., device='cuda:0', dtype=torch.float16)\n"
     ]
    }
   ],
   "source": [
    "print(get_probability((35, 39), outputs[1][0], outputs[2][0], 'TTTS'))\n",
    "print(get_probability((75, 82), outputs[1][0], outputs[2][0], 'Cardiff'))"
   ]
  },
  {
   "cell_type": "code",
   "execution_count": 17,
   "metadata": {},
   "outputs": [],
   "source": [
    "generator = ConditionalSequenceGenerator(xsum_bart)"
   ]
  },
  {
   "cell_type": "code",
   "execution_count": 18,
   "metadata": {},
   "outputs": [
    {
     "name": "stdout",
     "output_type": "stream",
     "text": [
      "(tensor([[    2, 23638,   179,    12,   560,    12, 17137,   179, 30387, 15727,\n",
      "         14115,    36, 14543,  2685,    43,    16,   145, 12962,    30,    10,\n",
      "          1098,    11, 12426,    11,    10,  2311,     7,  1871,     5,  1074,\n",
      "             9,  7272,  2421,    19,     5,  1881,     4,     2]],\n",
      "       device='cuda:0'), [['Tw', 'in', '-', 'to', '-', 'tw', 'in', ' transf', 'usion', ' syndrome', ' (', 'TT', 'TS', ')', ' is', ' being', ' tracked', ' by', ' a', ' hospital', ' in', ' Cardiff', ' in', ' a', ' bid', ' to', ' save', ' the', ' lives', ' of', ' babies', ' born', ' with', ' the', ' condition', '.', '']], tensor([[0.0227, 0.8320, 0.3792, 0.9434, 0.9243, 0.7979, 0.9238, 0.9062, 0.6479,\n",
      "         0.8750, 0.0133, 0.3152, 0.8843, 0.9048, 0.3230, 0.3005, 0.0776, 0.2164,\n",
      "         0.5469, 0.1196, 0.8271, 0.2532, 0.0860, 0.5059, 0.8955, 0.8784, 0.0728,\n",
      "         0.2229, 0.8784, 0.8901, 0.3474, 0.0228, 0.8271, 0.7759, 0.8584, 0.8950,\n",
      "         0.9028]], device='cuda:0', dtype=torch.float16))\n"
     ]
    }
   ],
   "source": [
    "outputs = generator.generate([source], tgt_input=[target])\n",
    "print(outputs)"
   ]
  },
  {
   "cell_type": "code",
   "execution_count": 19,
   "metadata": {},
   "outputs": [
    {
     "name": "stdout",
     "output_type": "stream",
     "text": [
      "tensor(0.2788, device='cuda:0', dtype=torch.float16)\n",
      "tensor(0.2532, device='cuda:0', dtype=torch.float16)\n"
     ]
    }
   ],
   "source": [
    "print(get_probability((35, 39), outputs[1][0], outputs[2][0], 'TTTS'))\n",
    "print(get_probability((75, 82), outputs[1][0], outputs[2][0], 'Cardiff'))"
   ]
  },
  {
   "cell_type": "markdown",
   "metadata": {},
   "source": [
    "#### Read Annotated Data"
   ]
  },
  {
   "cell_type": "code",
   "execution_count": 20,
   "metadata": {},
   "outputs": [],
   "source": [
    "import json\n",
    "\n",
    "from tqdm import tqdm"
   ]
  },
  {
   "cell_type": "code",
   "execution_count": 21,
   "metadata": {},
   "outputs": [
    {
     "name": "stdout",
     "output_type": "stream",
     "text": [
      "118\n"
     ]
    }
   ],
   "source": [
    "data = json.load(open('annotated.json', 'r'))\n",
    "print(len(data))"
   ]
  },
  {
   "cell_type": "code",
   "execution_count": 22,
   "metadata": {},
   "outputs": [
    {
     "data": {
      "text/plain": [
       "{'id': 10943,\n",
       " 'pred': \"A powerful cyclone has killed at least 11 people and injured more than 100 in Vanuatu, the Pacific nation's president has said.\",\n",
       " 'ents': [{'start': 30,\n",
       "   'end': 41,\n",
       "   'label': 2,\n",
       "   'type': 'CARDINAL',\n",
       "   'ent': 'at least 11'},\n",
       "  {'start': 61,\n",
       "   'end': 74,\n",
       "   'label': 2,\n",
       "   'type': 'CARDINAL',\n",
       "   'ent': 'more than 100'},\n",
       "  {'start': 78, 'end': 85, 'label': 0, 'type': 'GPE', 'ent': 'Vanuatu'},\n",
       "  {'start': 91, 'end': 98, 'label': 1, 'type': 'LOC', 'ent': 'Pacific'}],\n",
       " 'hallucinations': ['killed at least 11 people and injured more than 100',\n",
       "  \"the Pacific nation's president has said.\"]}"
      ]
     },
     "execution_count": 22,
     "metadata": {},
     "output_type": "execute_result"
    }
   ],
   "source": [
    "data[55]"
   ]
  },
  {
   "cell_type": "code",
   "execution_count": 23,
   "metadata": {},
   "outputs": [],
   "source": [
    "def prepare_inputs(source, target, ent_parts=None):\n",
    "    if ent_parts is None:\n",
    "        ent_parts = nlp(target).to_json()['ents']\n",
    "    \n",
    "    entities, positions = [], []\n",
    "    inputs, targets = [], []\n",
    "\n",
    "    for e in ent_parts:\n",
    "        positions.append((e['start'], e['end']))\n",
    "        entities.append(target[e['start']: e['end']])\n",
    "        inputs.append(source)\n",
    "        targets.append(target)\n",
    "\n",
    "    return inputs, targets, entities, positions"
   ]
  },
  {
   "cell_type": "code",
   "execution_count": 24,
   "metadata": {},
   "outputs": [],
   "source": [
    "def prepare_masked_inputs(source, target, ent_parts=None):\n",
    "    if ent_parts is None:\n",
    "        ent_parts = nlp(target).to_json()['ents']\n",
    "    \n",
    "    prior_inputs, prior_targets = [], []\n",
    "    posterior_inputs, posterior_targets = [], []\n",
    "    prior_position, posterior_position, entity = [], [], []\n",
    "\n",
    "    for e in ent_parts:\n",
    "        entity.append(target[e['start']: e['end']])\n",
    "\n",
    "        # prior model\n",
    "        prior_position.append((e['start'], e['end']))\n",
    "        prior_inputs.append(target[0: e['start']] + '<mask>' + target[e['end']:])\n",
    "        prior_targets.append(target)\n",
    "\n",
    "        # posterior model\n",
    "        posterior_position.append((e['start'] + 4, e['end'] + 4))\n",
    "\n",
    "        masked_hypothesis = target[0: e['start']] + '###' + target[e['end']:]\n",
    "        masked_hypothesis = '<s> ' + masked_hypothesis + ' <\\s> ' + source\n",
    "        posterior_inputs.append(masked_hypothesis)\n",
    "        posterior_targets.append('<s> ' + target)\n",
    "    \n",
    "    prior_args = (prior_inputs, prior_targets, prior_position, entity)\n",
    "    posterior_args = (posterior_inputs, posterior_targets, posterior_position, entity)\n",
    "    return prior_args, posterior_args"
   ]
  },
  {
   "cell_type": "code",
   "execution_count": 25,
   "metadata": {},
   "outputs": [
    {
     "name": "stderr",
     "output_type": "stream",
     "text": [
      "100%|██████████| 118/118 [02:02<00:00,  1.04s/it]\n"
     ]
    }
   ],
   "source": [
    "prior_model = ConditionalSequenceGenerator(bart)\n",
    "posterior_model = ConditionalSequenceGenerator(xsum_bart)\n",
    "\n",
    "for INDEX in tqdm(range(len(data))):\n",
    "    source = xsum_source[data[INDEX]['id']]\n",
    "    target = data[INDEX]['pred']\n",
    "    \n",
    "    inputs, targets, entities, positions = prepare_inputs(source, target, data[INDEX]['ents'])\n",
    "    pro, pos = prepare_masked_inputs(source, target, data[INDEX]['ents'])\n",
    "    \n",
    "    # prior_probs = get_cmlm_probability(prior_model, inputs, targets, positions, entities)\n",
    "    prior_probs = get_prior_probability(prior_model, pro[0], pro[1], pro[2], pro[3])\n",
    "    posterior_probs = get_cmlm_probability(posterior_model, inputs, targets, positions, entities)\n",
    "    \n",
    "    assert len(prior_probs) == len(posterior_probs) == len(data[INDEX]['ents']), \"{};\\n {};\\n {}\".format(prior_probs, posterior_probs, data[INDEX]['ents'])\n",
    "    for i in range(len(prior_probs)):\n",
    "        data[INDEX]['ents'][i]['prior'] = prior_probs[i]\n",
    "        data[INDEX]['ents'][i]['posterior'] = posterior_probs[i]"
   ]
  },
  {
   "cell_type": "code",
   "execution_count": 26,
   "metadata": {},
   "outputs": [],
   "source": [
    "# import json"
   ]
  },
  {
   "cell_type": "code",
   "execution_count": 27,
   "metadata": {},
   "outputs": [],
   "source": [
    "# with open('prior_posterior.json', 'w') as fout:\n",
    "#     json.dump(prior_posterior , fout)"
   ]
  },
  {
   "cell_type": "markdown",
   "metadata": {},
   "source": [
    "#### Draw Diagram"
   ]
  },
  {
   "cell_type": "code",
   "execution_count": 28,
   "metadata": {},
   "outputs": [],
   "source": [
    "# prior_posterior = json.load(open('prior_posterior.json', 'r'))\n",
    "# print(len(prior_posterior))"
   ]
  },
  {
   "cell_type": "code",
   "execution_count": 29,
   "metadata": {},
   "outputs": [],
   "source": [
    "%matplotlib inline\n",
    "\n",
    "import matplotlib.pyplot as plt"
   ]
  },
  {
   "cell_type": "code",
   "execution_count": 30,
   "metadata": {},
   "outputs": [],
   "source": [
    "prior_posterior = []\n",
    "for d in data:\n",
    "    for e in d['ents']:\n",
    "        e['id'] = d['id']\n",
    "        prior_posterior.append(e)"
   ]
  },
  {
   "cell_type": "code",
   "execution_count": 31,
   "metadata": {},
   "outputs": [
    {
     "data": {
      "image/png": "[encoded data removed]",
      "text/plain": [
       "<Figure size 1440x720 with 1 Axes>"
      ]
     },
     "metadata": {
      "needs_background": "light"
     },
     "output_type": "display_data"
    }
   ],
   "source": [
    "fig, ax = plt.subplots(figsize=(20.0, 10.0))\n",
    "colors = ['tab:blue', 'tab:orange', 'tab:green']\n",
    "\n",
    "no_hallucinated = [(p['prior'], p['posterior']) for p in prior_posterior if p['label'] == 0]\n",
    "hallucinated_true = [(p['prior'], p['posterior']) for p in prior_posterior if p['label'] == 1]\n",
    "hallucinated_false = [(p['prior'], p['posterior']) for p in prior_posterior if p['label'] == 2]\n",
    "hallucinated_intrinsic = [(p['prior'], p['posterior']) for p in prior_posterior if p['label'] == 3]\n",
    "\n",
    "ax.scatter([i[0] for i in no_hallucinated], \n",
    "           [i[1] for i in no_hallucinated], c='tab:blue', s=[i[1]*100 + 40 for i in no_hallucinated], label='Non-hallucination', alpha=0.7)\n",
    "\n",
    "ax.scatter([i[0] for i in hallucinated_true], \n",
    "           [i[1] for i in hallucinated_true], c='tab:green', s=[i[1]*100 + 40 for i in hallucinated_true], label='Hallucination True', alpha=0.65)\n",
    "\n",
    "ax.scatter([i[0] for i in hallucinated_false], \n",
    "           [i[1] for i in hallucinated_false], c='tab:orange', s=[i[1]*100 + 40 for i in hallucinated_false], label='Hallucination False', alpha=0.6)\n",
    "\n",
    "ax.scatter([i[0] for i in hallucinated_intrinsic], \n",
    "           [i[1] for i in hallucinated_intrinsic], c='tab:red', s=[i[1]*100 + 40 for i in hallucinated_intrinsic], label='Intrinsic Hallucination', alpha=0.6)\n",
    "\n",
    "ax.scatter([1.0], [1.0], c='tab:gray', s=10)\n",
    "\n",
    "ax.set_xlabel('Prior Probability')\n",
    "ax.set_ylabel('Posterior Probability')\n",
    "ax.legend()\n",
    "ax.grid(True)\n",
    "\n",
    "plt.savefig('foo.png')\n",
    "plt.show()"
   ]
  },
  {
   "cell_type": "code",
   "execution_count": 32,
   "metadata": {},
   "outputs": [
    {
     "name": "stdout",
     "output_type": "stream",
     "text": [
      "{'start': 27, 'end': 34, 'label': 0, 'type': 'PERSON', 'ent': 'Rodgers', 'prior': 0.99951171875, 'posterior': 0.90771484375, 'id': 7079}\n",
      "{'start': 70, 'end': 75, 'label': 0, 'type': 'ORDINAL', 'ent': 'first', 'prior': 0.99072265625, 'posterior': 0.92822265625, 'id': 7079}\n",
      "{'start': 104, 'end': 109, 'label': 0, 'type': 'ORDINAL', 'ent': 'first', 'prior': 0.91552734375, 'posterior': 0.64453125, 'id': 7079}\n",
      "{'start': 74, 'end': 79, 'label': 1, 'type': 'PERSON', 'ent': 'David', 'prior': 0.9892578125, 'posterior': 0.94970703125, 'id': 1513}\n",
      "{'start': 83, 'end': 86, 'label': 0, 'type': 'PERSON', 'ent': 'Gea', 'prior': 0.99755859375, 'posterior': 0.82958984375, 'id': 1513}\n",
      "{'start': 26, 'end': 35, 'label': 0, 'type': 'PERSON', 'ent': 'Tillerson', 'prior': 0.9990234375, 'posterior': 0.8837890625, 'id': 4809}\n",
      "{'start': 45, 'end': 51, 'label': 1, 'type': 'PERSON', 'ent': 'Barack', 'prior': 0.943359375, 'posterior': 0.64697265625, 'id': 8447}\n",
      "{'start': 52, 'end': 57, 'label': 0, 'type': 'PERSON', 'ent': 'Obama', 'prior': 0.9951171875, 'posterior': 0.82666015625, 'id': 8447}\n",
      "{'start': 73, 'end': 81, 'label': 1, 'type': 'PERSON', 'ent': 'Michelle', 'prior': 0.9951171875, 'posterior': 0.9697265625, 'id': 8447}\n",
      "{'start': 82, 'end': 87, 'label': 0, 'type': 'PERSON', 'ent': 'Obama', 'prior': 0.98095703125, 'posterior': 0.3642578125, 'id': 8447}\n",
      "{'start': 31, 'end': 35, 'label': 0, 'type': 'PERSON', 'ent': 'Modi', 'prior': 0.9111328125, 'posterior': 0.90673828125, 'id': 6931}\n",
      "{'start': 103, 'end': 121, 'label': 0, 'type': 'ORG', 'ent': 'the European Union', 'prior': 0.97607421875, 'posterior': 0.498046875, 'id': 7987}\n",
      "{'start': 123, 'end': 125, 'label': 0, 'type': 'ORG', 'ent': 'EU', 'prior': 0.9677734375, 'posterior': 0.80078125, 'id': 7987}\n",
      "{'start': 38, 'end': 44, 'label': 0, 'type': 'PERSON', 'ent': 'Watson', 'prior': 0.9970703125, 'posterior': 0.95703125, 'id': 8495}\n",
      "{'start': 110, 'end': 114, 'label': 0, 'type': 'GPE', 'ent': 'Guam', 'prior': 0.92138671875, 'posterior': 0.8232421875, 'id': 6486}\n",
      "{'start': 79, 'end': 88, 'label': 0, 'type': 'GPE', 'ent': 'West Bank', 'prior': 0.9501953125, 'posterior': 0.86865234375, 'id': 10380}\n",
      "{'start': 55, 'end': 60, 'label': 0, 'type': 'ORDINAL', 'ent': 'first', 'prior': 0.95849609375, 'posterior': 0.88525390625, 'id': 9185}\n",
      "{'start': 71, 'end': 75, 'label': 1, 'type': 'PERSON', 'ent': 'Sepp', 'prior': 0.94140625, 'posterior': 0.96484375, 'id': 3030}\n",
      "{'start': 76, 'end': 83, 'label': 0, 'type': 'PERSON', 'ent': 'Blatter', 'prior': 1.0, 'posterior': 0.9111328125, 'id': 3030}\n",
      "{'start': 32, 'end': 37, 'label': 1, 'type': 'PERSON', 'ent': 'Raila', 'prior': 0.908203125, 'posterior': 0.55078125, 'id': 5706}\n",
      "{'start': 21, 'end': 29, 'label': 0, 'type': 'PERSON', 'ent': 'Mourinho', 'prior': 0.99755859375, 'posterior': 0.89404296875, 'id': 1110}\n",
      "{'start': 28, 'end': 33, 'label': 1, 'type': 'GPE', 'ent': 'Wales', 'prior': 0.93212890625, 'posterior': 0.962890625, 'id': 4947}\n",
      "{'start': 55, 'end': 57, 'label': 0, 'type': 'GPE', 'ent': 'UK', 'prior': 0.9599609375, 'posterior': 0.88916015625, 'id': 4867}\n",
      "{'start': 48, 'end': 54, 'label': 0, 'type': 'PERSON', 'ent': 'Macron', 'prior': 0.99951171875, 'posterior': 0.91162109375, 'id': 3278}\n",
      "{'start': 155, 'end': 161, 'label': 0, 'type': 'PERSON', 'ent': 'Marine', 'prior': 0.9951171875, 'posterior': 0.86669921875, 'id': 3278}\n",
      "{'start': 162, 'end': 164, 'label': 0, 'type': 'PERSON', 'ent': 'Le', 'prior': 0.99365234375, 'posterior': 0.876953125, 'id': 3278}\n",
      "{'start': 165, 'end': 168, 'label': 0, 'type': 'PERSON', 'ent': 'Pen', 'prior': 1.0, 'posterior': 0.9248046875, 'id': 3278}\n",
      "{'start': 25, 'end': 34, 'label': 0, 'type': 'PERSON', 'ent': 'Shawcross', 'prior': 0.978515625, 'posterior': 0.8681640625, 'id': 9758}\n",
      "{'start': 26, 'end': 33, 'label': 0, 'type': 'PERSON', 'ent': 'McLeish', 'prior': 0.90576171875, 'posterior': 0.765625, 'id': 1264}\n",
      "{'start': 21, 'end': 27, 'label': 0, 'type': 'PERSON', 'ent': 'Corbyn', 'prior': 0.99853515625, 'posterior': 0.92724609375, 'id': 1436}\n",
      "{'start': 25, 'end': 30, 'label': 0, 'type': 'PERSON', 'ent': 'Klopp', 'prior': 0.99853515625, 'posterior': 0.9326171875, 'id': 3210}\n",
      "{'start': 43, 'end': 50, 'label': 0, 'type': 'PERSON', 'ent': 'Gerrard', 'prior': 1.0, 'posterior': 0.94873046875, 'id': 3210}\n",
      "{'start': 25, 'end': 30, 'label': 0, 'type': 'PERSON', 'ent': 'Jones', 'prior': 0.99365234375, 'posterior': 0.90576171875, 'id': 6066}\n",
      "{'start': 85, 'end': 91, 'label': 0, 'type': 'PERSON', 'ent': 'Sexton', 'prior': 0.99755859375, 'posterior': 0.75634765625, 'id': 6066}\n"
     ]
    }
   ],
   "source": [
    "for p in prior_posterior:\n",
    "    if p['prior'] > 0.9:\n",
    "        print(p)"
   ]
  },
  {
   "cell_type": "markdown",
   "metadata": {},
   "source": [
    "#### Classification"
   ]
  },
  {
   "cell_type": "code",
   "execution_count": 33,
   "metadata": {},
   "outputs": [
    {
     "data": {
      "text/plain": [
       "{'start': 2,\n",
       " 'end': 7,\n",
       " 'label': 0,\n",
       " 'type': 'ORG',\n",
       " 'ent': 'Wigan',\n",
       " 'prior': 1.1265277862548828e-05,\n",
       " 'posterior': 0.0927734375,\n",
       " 'id': 8805}"
      ]
     },
     "execution_count": 33,
     "metadata": {},
     "output_type": "execute_result"
    }
   ],
   "source": [
    "prior_posterior[0]"
   ]
  },
  {
   "cell_type": "code",
   "execution_count": 34,
   "metadata": {},
   "outputs": [],
   "source": [
    "true_label, factual_label, hallucination_label = [], [], []\n",
    "prior_probabilities, posterior_probabilities = [], []\n",
    "\n",
    "for p in prior_posterior:\n",
    "    if p['label'] is not None and p['label'] != 3:\n",
    "        if p['label'] == 0 or p['label'] == 1:\n",
    "            factual_label.append(1)\n",
    "        elif p['label'] == 2:\n",
    "            factual_label.append(0)\n",
    "        else:\n",
    "            raise Exception(\"ERROR! {}\".format(p['label']))\n",
    "            \n",
    "        if p['label'] == 0:\n",
    "            hallucination_label.append(0)\n",
    "        elif p['label'] == 2 or p['label'] == 1:\n",
    "            hallucination_label.append(1)\n",
    "        else:\n",
    "            raise Exception(\"ERROR! {}\".format(p['label']))\n",
    "            \n",
    "        true_label.append(p['label'])\n",
    "        prior_probabilities.append(p['prior'])\n",
    "        posterior_probabilities.append(p['posterior'])"
   ]
  },
  {
   "cell_type": "code",
   "execution_count": 35,
   "metadata": {},
   "outputs": [],
   "source": [
    "baseline_label = []\n",
    "prob_threshold_label = []\n",
    "\n",
    "for p in prior_posterior:\n",
    "    if p['label'] is not None and p['label'] != 3:\n",
    "        source = xsum_source[p['id']]\n",
    "\n",
    "        if p['ent'].lower() in source.lower():\n",
    "            baseline_label.append(1)\n",
    "        else:\n",
    "            baseline_label.append(0)\n",
    "\n",
    "        if p['posterior'] > p['prior']:\n",
    "            prob_threshold_label.append(1)\n",
    "        else:\n",
    "            prob_threshold_label.append(0)"
   ]
  },
  {
   "cell_type": "code",
   "execution_count": 36,
   "metadata": {},
   "outputs": [],
   "source": [
    "from sklearn.metrics import classification_report"
   ]
  },
  {
   "cell_type": "code",
   "execution_count": 37,
   "metadata": {},
   "outputs": [
    {
     "name": "stdout",
     "output_type": "stream",
     "text": [
      "              precision    recall  f1-score   support\n",
      "\n",
      " Non-factual       0.36      0.98      0.52        50\n",
      "     Factual       1.00      0.74      0.85       347\n",
      "\n",
      "    accuracy                           0.77       397\n",
      "   macro avg       0.68      0.86      0.69       397\n",
      "weighted avg       0.92      0.77      0.81       397\n",
      "\n"
     ]
    }
   ],
   "source": [
    "print(classification_report(factual_label, baseline_label, target_names=['Non-factual', 'Factual']))"
   ]
  },
  {
   "cell_type": "code",
   "execution_count": 38,
   "metadata": {},
   "outputs": [
    {
     "name": "stdout",
     "output_type": "stream",
     "text": [
      "              precision    recall  f1-score   support\n",
      "\n",
      " Non-factual     0.0769    0.1000    0.0870        50\n",
      "     Factual     0.8645    0.8271    0.8454       347\n",
      "\n",
      "    accuracy                         0.7355       397\n",
      "   macro avg     0.4707    0.4635    0.4662       397\n",
      "weighted avg     0.7653    0.7355    0.7498       397\n",
      "\n"
     ]
    }
   ],
   "source": [
    "print(classification_report(factual_label, prob_threshold_label, target_names=['Non-factual', 'Factual'], digits=4))"
   ]
  },
  {
   "cell_type": "code",
   "execution_count": 39,
   "metadata": {},
   "outputs": [
    {
     "name": "stdout",
     "output_type": "stream",
     "text": [
      "                  precision    recall  f1-score   support\n",
      "\n",
      "Non-hallucinated     0.2462    0.1260    0.1667       127\n",
      "    Hallucinated     0.6657    0.8185    0.7342       270\n",
      "\n",
      "        accuracy                         0.5970       397\n",
      "       macro avg     0.4559    0.4723    0.4504       397\n",
      "    weighted avg     0.5315    0.5970    0.5527       397\n",
      "\n"
     ]
    }
   ],
   "source": [
    "print(classification_report([1 if i == 0 else 0 for i in hallucination_label], prob_threshold_label, target_names=['Non-hallucinated', 'Hallucinated'], digits=4))"
   ]
  },
  {
   "cell_type": "markdown",
   "metadata": {},
   "source": [
    "### KNN"
   ]
  },
  {
   "cell_type": "code",
   "execution_count": 40,
   "metadata": {},
   "outputs": [],
   "source": [
    "import numpy as np\n",
    "\n",
    "from sklearn import neighbors"
   ]
  },
  {
   "cell_type": "code",
   "execution_count": 41,
   "metadata": {},
   "outputs": [
    {
     "data": {
      "text/plain": [
       "{'start': 2,\n",
       " 'end': 7,\n",
       " 'label': 0,\n",
       " 'type': 'ORG',\n",
       " 'ent': 'Wigan',\n",
       " 'prior': 1.1265277862548828e-05,\n",
       " 'posterior': 0.0927734375,\n",
       " 'id': 8805}"
      ]
     },
     "execution_count": 41,
     "metadata": {},
     "output_type": "execute_result"
    }
   ],
   "source": [
    "prior_posterior[0]"
   ]
  },
  {
   "cell_type": "code",
   "execution_count": 42,
   "metadata": {},
   "outputs": [],
   "source": [
    "def leave_one_out_error(prior_probs, posterior_probs, labels, n_neighbors=15):\n",
    "    assert len(prior_probs) == len(posterior_probs) == len(labels)\n",
    "    \n",
    "    preds = []\n",
    "    for i in range(len(prior_probs)):\n",
    "        train_features, train_labels = [], []\n",
    "        for j in range(len(prior_probs)):\n",
    "            if j != i:\n",
    "                train_features.append([prior_probs[j], posterior_probs[j]])\n",
    "                train_labels.append(labels[j])\n",
    "    \n",
    "        classifier = neighbors.KNeighborsClassifier(n_neighbors=n_neighbors, algorithm='auto')\n",
    "\n",
    "        x_mat = np.array(train_features)\n",
    "        y_vec = np.array(train_labels)\n",
    "        classifier.fit(x_mat, y_vec)\n",
    "        \n",
    "        test_features = np.array([[prior_probs[i], posterior_probs[i]]])\n",
    "        Z = classifier.predict(test_features)\n",
    "        preds.append(Z[0])\n",
    "    \n",
    "    return preds"
   ]
  },
  {
   "cell_type": "code",
   "execution_count": 52,
   "metadata": {},
   "outputs": [],
   "source": [
    "preds = leave_one_out_error(posterior_probabilities, prior_probabilities, hallucination_label, n_neighbors=6)"
   ]
  },
  {
   "cell_type": "code",
   "execution_count": 53,
   "metadata": {},
   "outputs": [
    {
     "name": "stdout",
     "output_type": "stream",
     "text": [
      "                  precision    recall  f1-score   support\n",
      "\n",
      "    Hallucinated     0.7284    0.9037    0.8066       270\n",
      "Non-hallucinated     0.5806    0.2835    0.3810       127\n",
      "\n",
      "        accuracy                         0.7053       397\n",
      "       macro avg     0.6545    0.5936    0.5938       397\n",
      "    weighted avg     0.6811    0.7053    0.6704       397\n",
      "\n"
     ]
    }
   ],
   "source": [
    "print(classification_report(hallucination_label, preds, target_names=['Hallucinated', 'Non-hallucinated'], digits=4))"
   ]
  },
  {
   "cell_type": "code",
   "execution_count": 54,
   "metadata": {},
   "outputs": [],
   "source": [
    "preds = leave_one_out_error(posterior_probabilities, prior_probabilities, factual_label, n_neighbors=6)"
   ]
  },
  {
   "cell_type": "code",
   "execution_count": 55,
   "metadata": {},
   "outputs": [
    {
     "name": "stdout",
     "output_type": "stream",
     "text": [
      "              precision    recall  f1-score   support\n",
      "\n",
      " Non-Factual     0.4792    0.4600    0.4694        50\n",
      "     Factual     0.9226    0.9280    0.9253       347\n",
      "\n",
      "    accuracy                         0.8690       397\n",
      "   macro avg     0.7009    0.6940    0.6973       397\n",
      "weighted avg     0.8668    0.8690    0.8679       397\n",
      "\n"
     ]
    }
   ],
   "source": [
    "print(classification_report(factual_label, preds, target_names=['Non-Factual', 'Factual'], digits=4))"
   ]
  },
  {
   "cell_type": "markdown",
   "metadata": {},
   "source": [
    "#### AUC"
   ]
  },
  {
   "cell_type": "code",
   "execution_count": 47,
   "metadata": {},
   "outputs": [],
   "source": [
    "import numpy as np\n",
    "\n",
    "from sklearn.metrics import roc_curve, auc"
   ]
  },
  {
   "cell_type": "code",
   "execution_count": 48,
   "metadata": {},
   "outputs": [
    {
     "data": {
      "text/plain": [
       "{'start': 2,\n",
       " 'end': 7,\n",
       " 'label': 0,\n",
       " 'type': 'ORG',\n",
       " 'ent': 'Wigan',\n",
       " 'prior': 1.1265277862548828e-05,\n",
       " 'posterior': 0.0927734375,\n",
       " 'id': 8805}"
      ]
     },
     "execution_count": 48,
     "metadata": {},
     "output_type": "execute_result"
    }
   ],
   "source": [
    "prior_posterior[0]"
   ]
  },
  {
   "cell_type": "code",
   "execution_count": 49,
   "metadata": {},
   "outputs": [],
   "source": [
    "# non-hallucination vs false hallucination"
   ]
  },
  {
   "cell_type": "code",
   "execution_count": 50,
   "metadata": {},
   "outputs": [],
   "source": [
    "factual_label = np.asarray(factual_label)\n",
    "prior_probabilities = np.asarray(prior_probabilities)\n",
    "posterior_probabilities = np.asarray(posterior_probabilities)"
   ]
  },
  {
   "cell_type": "code",
   "execution_count": 51,
   "metadata": {},
   "outputs": [
    {
     "data": {
      "image/png": "[encoded data removed]",
      "text/plain": [
       "<Figure size 432x288 with 1 Axes>"
      ]
     },
     "metadata": {
      "needs_background": "light"
     },
     "output_type": "display_data"
    }
   ],
   "source": [
    "plt.figure()\n",
    "lw = 2\n",
    "\n",
    "# prior\n",
    "fpr, tpr, _ = roc_curve(factual_label, prior_probabilities)\n",
    "roc_auc = auc(fpr, tpr)\n",
    "plt.plot(fpr, tpr, color='green',\n",
    "         lw=lw, label='Prior (area = %0.2f)' % roc_auc)\n",
    "\n",
    "# posterior\n",
    "fpr, tpr, _ = roc_curve(factual_label, posterior_probabilities)\n",
    "roc_auc = auc(fpr, tpr)\n",
    "plt.plot(fpr, tpr, color='darkorange',\n",
    "         lw=lw, label='Posterior (area = %0.2f)' % roc_auc)\n",
    "\n",
    "plt.plot([0, 1], [0, 1], color='navy', lw=lw, linestyle='--')\n",
    "plt.xlim([0.0, 1.0])\n",
    "plt.ylim([0.0, 1.05])\n",
    "plt.xlabel('False Positive Rate')\n",
    "plt.ylabel('True Positive Rate')\n",
    "plt.title('Receiver operating characteristic example')\n",
    "plt.legend(loc=\"lower right\")\n",
    "plt.show()"
   ]
  }
 ],
 "metadata": {
  "kernelspec": {
   "display_name": "Python 3",
   "language": "python",
   "name": "python3"
  },
  "language_info": {
   "codemirror_mode": {
    "name": "ipython",
    "version": 3
   },
   "file_extension": ".py",
   "mimetype": "text/x-python",
   "name": "python",
   "nbconvert_exporter": "python",
   "pygments_lexer": "ipython3",
   "version": "3.7.4"
  }
 },
 "nbformat": 4,
 "nbformat_minor": 4
}
