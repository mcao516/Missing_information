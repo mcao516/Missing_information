{
 "cells": [
  {
   "cell_type": "code",
   "execution_count": 1,
   "id": "decimal-pilot",
   "metadata": {},
   "outputs": [],
   "source": [
    "import json\n",
    "import numpy as np\n",
    "\n",
    "from utils import read_lines"
   ]
  },
  {
   "cell_type": "code",
   "execution_count": 2,
   "id": "revised-richards",
   "metadata": {},
   "outputs": [],
   "source": [
    "PATH = json.load(open('path_config.json'))"
   ]
  },
  {
   "cell_type": "code",
   "execution_count": 3,
   "id": "affecting-mainland",
   "metadata": {},
   "outputs": [
    {
     "name": "stdout",
     "output_type": "stream",
     "text": [
      "11301\n"
     ]
    }
   ],
   "source": [
    "document_path = PATH['xsum_fariseq'] + '/test.source'\n",
    "target_path = PATH['xsum_fariseq'] + '/test.target'\n",
    "test_source = read_lines(document_path)\n",
    "test_target = read_lines(target_path)\n",
    "print(len(test_source))\n",
    "assert len(test_source) == len(test_target)"
   ]
  },
  {
   "cell_type": "code",
   "execution_count": 4,
   "id": "artistic-preserve",
   "metadata": {},
   "outputs": [
    {
     "name": "stdout",
     "output_type": "stream",
     "text": [
      "287227\n"
     ]
    }
   ],
   "source": [
    "document_path = PATH['cnndm_fariseq'] + '/train.source'\n",
    "target_path = PATH['cnndm_fariseq'] + '/train.target'\n",
    "train_source = read_lines(document_path)\n",
    "train_target = read_lines(target_path)\n",
    "print(len(train_source))\n",
    "assert len(train_source) == len(train_target)"
   ]
  },
  {
   "cell_type": "markdown",
   "id": "environmental-grove",
   "metadata": {},
   "source": [
    "#### Inspection"
   ]
  },
  {
   "cell_type": "code",
   "execution_count": 5,
   "id": "rubber-carrier",
   "metadata": {},
   "outputs": [],
   "source": [
    "right_entities = json.load(open('right_entities.json'))\n",
    "left_entities = json.load(open('left_entities.json'))"
   ]
  },
  {
   "cell_type": "code",
   "execution_count": 6,
   "id": "advisory-newton",
   "metadata": {},
   "outputs": [
    {
     "data": {
      "text/plain": [
       "{'start': 74,\n",
       " 'end': 79,\n",
       " 'label': 1,\n",
       " 'type': 'PERSON',\n",
       " 'ent': 'David',\n",
       " 'prior': 0.00992584228515625,\n",
       " 'posterior': 0.94140625,\n",
       " 'id': 1513}"
      ]
     },
     "execution_count": 6,
     "metadata": {},
     "output_type": "execute_result"
    }
   ],
   "source": [
    "left_entities[1]"
   ]
  },
  {
   "cell_type": "code",
   "execution_count": 7,
   "id": "focused-messenger",
   "metadata": {},
   "outputs": [
    {
     "data": {
      "text/plain": [
       "'The Times Educational Supplement (TES) says measures to guard against grade inflation were not appropriate for this year\\'s English exams. Teaching unions have accused Ofqual of \"regulatory failure\" and say it is more evidence of flawed exam marking. But the regulator insists it applied its measures correctly. It comes as state and private school heads call for an independent inquiry into the problems. Last week Ofqual said it felt the way this year\\'s English GCSE exams were graded was fair, despite the  grade boundaries being moved significantly part-way through the year. Teachers have complained that pupils achieving exactly the same marks would have received different grades depending on what time of year they sat the exam. And many who were predicted a grade C, obtained a grade D in their summer exams. Ofqual found that June\\'s grade boundaries were correct, while January\\'s were \"too lenient\". A key document sent to exam boards, which is on the Ofqual website, sets out how it expects exam boards to use a process known as \"comparable outcomes\" to ensure that grade standards are maintained between GCSEs year-on-year. It sets out five conditions for when such processes should be used to alter the way papers are marked. According to the TES report, this year\\'s English GCSE and the circumstances around it failed to meet four of the conditions. The first of Ofqual\\'s five conditions was that the cohort - or pupils from that year- in a subject \"must be similar, in terms of ability, to those of previous years\". But last week\\'s report on English GCSEs noted that the \"attainment profile\" for 2012 dropped, as grammar and independent school pupils were replaced with extra, lower-achieving comprehensive pupils. The second condition was that the qualification must be \"fit for purpose\". On Monday, Education Secretary Michael Gove told Parliament that this year\\'s English GCSE was \"not fit for purpose\". The third condition was that the \"nature of the qualification\" must be the same. Ofqual\\'s report last week stated that \"these qualifications are different from previous English qualifications in a number of ways\". Finally, the regulator said in the letter that comparable outcomes must only be applied where \"previous grades were appropriate\". Ofqual\\'s report said that the English GCSE grades in January were \"too generous\". The only condition that appears to have been met is that teaching standards have remained largely consistent. The guidelines also state: \"Students should not be advantaged or disadvantaged simply because they were the first to sit a new set of examinations.\" The watchdog has interpreted its own conditions differently, and is insisting that the comparable outcomes approach that prevented grades from rising in June was correctly implemented. But Russell Hobby, general secretary of the NAHT heads\\' union, said: \"Ofqual doesn\\'t seem to have applied the concept of comparable outcomes properly. \"In this instance there is a regulatory failure. It is a big mess.\" And Brian Lightman, general secretary of the Association of School and College Leaders (ASCL) said this appeared to be \"another piece of evidence that procedures applied to this exam was not fit for purpose\". Meanwhile, Ofqual said: \"The comparable outcomes approach was used correctly for GCSE English this year and we stand by this decision. \"Comparable outcomes are not intended to produce identical results year on year. \"What\\'s important is that outcomes can be compared when taking into consideration a range of factors which may affect the results. More details on the use of this approach can be found in our report.\" But Dr Christopher Ray, chairman of the Head Masters\\' and Headmistresses\\' Conference (HMC), said the issue was evidence of a deeper problem with Ofqual. \"The verdict of Ofqual\\'s initial report and the reasoning to support it fall well short of answering the questions raised in the minds of schools and pupils.\" Shadow education secretary Stephen Twigg said: \"It is clear that pupils, parents and education professionals, across the spectrum of schools, feel that pupils have been done a disservice. \"Whilst the Education Secretary Michael Gove says he is \\'saddened\\' by the injustice that has been served to thousands of pupils, he is showing how out-of-touch he is with pupil opinion by refusing to take action. Labour supports calls for an independent inquiry to get to the bottom of this mess.\" The Commons Education Committee is set to start an inquiry into the GCSE grading problems next week.'"
      ]
     },
     "execution_count": 7,
     "metadata": {},
     "output_type": "execute_result"
    }
   ],
   "source": [
    "test_source[922]"
   ]
  },
  {
   "cell_type": "markdown",
   "id": "technological-intersection",
   "metadata": {},
   "source": [
    "#### TF-IDF"
   ]
  },
  {
   "cell_type": "code",
   "execution_count": 8,
   "id": "considered-customer",
   "metadata": {},
   "outputs": [],
   "source": [
    "from sklearn.feature_extraction.text import TfidfVectorizer"
   ]
  },
  {
   "cell_type": "code",
   "execution_count": 9,
   "id": "pressing-pencil",
   "metadata": {},
   "outputs": [],
   "source": [
    "left_source = []\n",
    "for ent in left_entities:\n",
    "    left_source.append(test_source[ent['id']])"
   ]
  },
  {
   "cell_type": "code",
   "execution_count": 10,
   "id": "former-baghdad",
   "metadata": {},
   "outputs": [],
   "source": [
    "right_source = []\n",
    "for ent in right_entities:\n",
    "    right_source.append(test_source[ent['id']])"
   ]
  },
  {
   "cell_type": "code",
   "execution_count": 11,
   "id": "million-boost",
   "metadata": {},
   "outputs": [
    {
     "name": "stdout",
     "output_type": "stream",
     "text": [
      "18\n"
     ]
    }
   ],
   "source": [
    "print(len(left_source))"
   ]
  },
  {
   "cell_type": "code",
   "execution_count": 12,
   "id": "difficult-casting",
   "metadata": {},
   "outputs": [
    {
     "name": "stdout",
     "output_type": "stream",
     "text": [
      "18\n"
     ]
    }
   ],
   "source": [
    "print(len(right_source))"
   ]
  },
  {
   "cell_type": "code",
   "execution_count": 13,
   "id": "positive-accessory",
   "metadata": {},
   "outputs": [
    {
     "name": "stdout",
     "output_type": "stream",
     "text": [
      "287263\n"
     ]
    }
   ],
   "source": [
    "concat_corpus = []\n",
    "concat_corpus.extend(left_source)\n",
    "concat_corpus.extend(right_source)\n",
    "concat_corpus.extend(train_source)\n",
    "print(len(concat_corpus))"
   ]
  },
  {
   "cell_type": "code",
   "execution_count": 14,
   "id": "centered-consensus",
   "metadata": {},
   "outputs": [],
   "source": [
    "train_source_tfidf = TfidfVectorizer().fit_transform(concat_corpus)"
   ]
  },
  {
   "cell_type": "code",
   "execution_count": 15,
   "id": "promotional-library",
   "metadata": {},
   "outputs": [
    {
     "data": {
      "text/plain": [
       "(287263, 480785)"
      ]
     },
     "execution_count": 15,
     "metadata": {},
     "output_type": "execute_result"
    }
   ],
   "source": [
    "train_source_tfidf.shape"
   ]
  },
  {
   "cell_type": "markdown",
   "id": "handed-mainstream",
   "metadata": {},
   "source": [
    "#### Calculate Similarity"
   ]
  },
  {
   "cell_type": "code",
   "execution_count": 16,
   "id": "enabling-brake",
   "metadata": {},
   "outputs": [],
   "source": [
    "left_vector = train_source_tfidf[0: len(left_source), :]\n",
    "right_vector = train_source_tfidf[len(left_source): len(left_source) + len(right_source), :]\n",
    "source_vector = train_source_tfidf[len(left_source) + len(right_source):, :]"
   ]
  },
  {
   "cell_type": "code",
   "execution_count": 17,
   "id": "brilliant-rover",
   "metadata": {},
   "outputs": [
    {
     "name": "stdout",
     "output_type": "stream",
     "text": [
      "(18, 480785)\n",
      "(18, 480785)\n",
      "(287227, 480785)\n"
     ]
    }
   ],
   "source": [
    "print(left_vector.shape)\n",
    "print(right_vector.shape)\n",
    "print(source_vector.shape)"
   ]
  },
  {
   "cell_type": "code",
   "execution_count": 18,
   "id": "republican-bruce",
   "metadata": {},
   "outputs": [],
   "source": [
    "def get_max_similarity(source_vector, target_vector):\n",
    "    similarity = source_vector * target_vector.T\n",
    "    print(similarity.shape)\n",
    "    max_similarity = np.max(similarity, axis=0)\n",
    "    return max_similarity"
   ]
  },
  {
   "cell_type": "code",
   "execution_count": 19,
   "id": "daily-zambia",
   "metadata": {},
   "outputs": [
    {
     "name": "stdout",
     "output_type": "stream",
     "text": [
      "(287227, 18)\n",
      "(287227, 18)\n"
     ]
    }
   ],
   "source": [
    "left_max_similarity = get_max_similarity(source_vector, left_vector)\n",
    "right_max_similarity = get_max_similarity(source_vector, right_vector)"
   ]
  },
  {
   "cell_type": "code",
   "execution_count": 20,
   "id": "disturbed-gathering",
   "metadata": {},
   "outputs": [
    {
     "data": {
      "text/plain": [
       "0.42916393642777273"
      ]
     },
     "execution_count": 20,
     "metadata": {},
     "output_type": "execute_result"
    }
   ],
   "source": [
    "np.average(left_max_similarity.toarray()[0])"
   ]
  },
  {
   "cell_type": "code",
   "execution_count": 21,
   "id": "animal-cruise",
   "metadata": {},
   "outputs": [
    {
     "data": {
      "text/plain": [
       "0.3965929901832175"
      ]
     },
     "execution_count": 21,
     "metadata": {},
     "output_type": "execute_result"
    }
   ],
   "source": [
    "np.average(right_max_similarity.toarray()[0])"
   ]
  },
  {
   "cell_type": "code",
   "execution_count": 22,
   "id": "smooth-hardwood",
   "metadata": {},
   "outputs": [
    {
     "name": "stdout",
     "output_type": "stream",
     "text": [
      "threshold: 0.1\n",
      "- left: [31 17 26 14 12 29 17 22 29  7 29 29 24 12 28 12 19 17]\n",
      "- left: 374\n",
      "- right: [20 24  9 30 30 16 16 12 22 13 23 17 17 11 11 17 26 17]\n",
      "- right: 331\n",
      "\n",
      "threshold: 0.2\n",
      "- left: [2 5 3 5 3 7 3 3 5 2 6 9 8 7 3 3 4 2]\n",
      "- left: 80\n",
      "- right: [4 2 2 4 4 4 4 2 3 3 8 5 5 3 3 5 4 2]\n",
      "- right: 67\n",
      "\n",
      "threshold: 0.3\n",
      "- left: [0 0 1 1 2 0 1 2 1 2 1 1 2 4 1 2 2 1]\n",
      "- left: 24\n",
      "- right: [1 1 2 1 1 2 2 1 2 1 1 2 2 2 2 3 0 1]\n",
      "- right: 27\n",
      "\n",
      "threshold: 0.4\n",
      "- left: [0 0 0 1 1 0 1 1 0 1 0 0 0 0 0 2 1 1]\n",
      "- left: 9\n",
      "- right: [1 1 1 0 0 1 1 1 1 1 1 1 1 0 0 0 0 1]\n",
      "- right: 12\n",
      "\n",
      "threshold: 0.5\n",
      "- left: [0 0 0 1 1 0 0 1 0 1 0 0 0 0 0 1 0 0]\n",
      "- left: 5\n",
      "- right: [0 0 1 0 0 0 0 1 1 0 0 0 0 0 0 0 0 0]\n",
      "- right: 3\n",
      "\n"
     ]
    }
   ],
   "source": [
    "for threshold in [0.1, 0.2, 0.3, 0.4, 0.5]:\n",
    "    print('threshold: {}'.format(threshold))\n",
    "    left_related = left_vector.toarray() > threshold\n",
    "    right_related = right_vector.toarray() > threshold\n",
    "    print('- left: {}'.format(np.sum(left_related, axis=1)))\n",
    "    print('- left: {}'.format(np.sum(left_related)))\n",
    "    print('- right: {}'.format(np.sum(right_related, axis=1)))\n",
    "    print('- right: {}'.format(np.sum(right_related)))\n",
    "    print()"
   ]
  },
  {
   "cell_type": "markdown",
   "id": "knowing-snowboard",
   "metadata": {},
   "source": [
    "#### Entity Count"
   ]
  },
  {
   "cell_type": "code",
   "execution_count": 23,
   "id": "foreign-enterprise",
   "metadata": {},
   "outputs": [],
   "source": [
    "import torch"
   ]
  },
  {
   "cell_type": "code",
   "execution_count": 24,
   "id": "engaged-halifax",
   "metadata": {},
   "outputs": [],
   "source": [
    "left_similarity = source_vector * left_vector.T\n",
    "right_similarity = source_vector * right_vector.T"
   ]
  },
  {
   "cell_type": "code",
   "execution_count": 25,
   "id": "greek-scale",
   "metadata": {},
   "outputs": [],
   "source": [
    "def count_entity(similarity_matrix, entities, k=3):\n",
    "    \"\"\"similarity_matrix: (203575, 18)\"\"\"\n",
    "    similarity_matrix = torch.tensor(similarity_matrix.toarray())\n",
    "    topk = torch.topk(similarity_matrix, k, dim=0)[1]  # [k, entity_number]: [10, 18]\n",
    "    \n",
    "    related_documents, related_summaries = [], []\n",
    "    for i in range(topk.shape[1]):\n",
    "        related_documents.append([])\n",
    "        related_summaries.append([])\n",
    "        for k in range(topk.shape[0]):\n",
    "            related_documents[i].append(train_source[topk[k][i]])\n",
    "            related_summaries[i].append(train_target[topk[k][i]])\n",
    "    \n",
    "    doc_counts, sum_counts = [], []\n",
    "    for i in range(topk.shape[1]):\n",
    "        source = ' '.join(related_documents[i])\n",
    "        target = ' '.join(related_summaries[i])\n",
    "        doc_counts.append(source.count(entities[i]['ent']))\n",
    "        sum_counts.append(target.count(entities[i]['ent']))\n",
    "    return doc_counts, sum_counts"
   ]
  },
  {
   "cell_type": "code",
   "execution_count": 26,
   "id": "cultural-venice",
   "metadata": {},
   "outputs": [],
   "source": [
    "left_doc_counts, left_sum_counts = count_entity(left_similarity, left_entities, k=10)"
   ]
  },
  {
   "cell_type": "code",
   "execution_count": 27,
   "id": "cellular-exclusive",
   "metadata": {},
   "outputs": [
    {
     "data": {
      "text/plain": [
       "[0, 27, 0, 5, 17, 2, 0, 8, 4, 16, 1, 0, 5, 0, 7, 0, 1, 12]"
      ]
     },
     "execution_count": 27,
     "metadata": {},
     "output_type": "execute_result"
    }
   ],
   "source": [
    "left_doc_counts"
   ]
  },
  {
   "cell_type": "code",
   "execution_count": 33,
   "id": "virtual-colors",
   "metadata": {},
   "outputs": [
    {
     "data": {
      "text/plain": [
       "[0, 10, 0, 0, 3, 0, 0, 3, 0, 5, 0, 0, 1, 0, 1, 0, 0, 3]"
      ]
     },
     "execution_count": 33,
     "metadata": {},
     "output_type": "execute_result"
    }
   ],
   "source": [
    "left_sum_counts"
   ]
  },
  {
   "cell_type": "code",
   "execution_count": 28,
   "id": "front-bottle",
   "metadata": {},
   "outputs": [
    {
     "data": {
      "text/plain": [
       "5.833333333333333"
      ]
     },
     "execution_count": 28,
     "metadata": {},
     "output_type": "execute_result"
    }
   ],
   "source": [
    "sum(left_doc_counts) / len(left_doc_counts)"
   ]
  },
  {
   "cell_type": "code",
   "execution_count": 29,
   "id": "wireless-inspector",
   "metadata": {},
   "outputs": [
    {
     "data": {
      "text/plain": [
       "1.4444444444444444"
      ]
     },
     "execution_count": 29,
     "metadata": {},
     "output_type": "execute_result"
    }
   ],
   "source": [
    "sum(left_sum_counts) / len(left_sum_counts)"
   ]
  },
  {
   "cell_type": "code",
   "execution_count": 30,
   "id": "packed-discipline",
   "metadata": {},
   "outputs": [],
   "source": [
    "right_doc_counts, right_sum_counts = count_entity(right_similarity, right_entities, k=10)"
   ]
  },
  {
   "cell_type": "code",
   "execution_count": 31,
   "id": "raising-tolerance",
   "metadata": {},
   "outputs": [
    {
     "data": {
      "text/plain": [
       "8.555555555555555"
      ]
     },
     "execution_count": 31,
     "metadata": {},
     "output_type": "execute_result"
    }
   ],
   "source": [
    "sum(right_doc_counts) / len(right_doc_counts)"
   ]
  },
  {
   "cell_type": "code",
   "execution_count": 32,
   "id": "measured-jenny",
   "metadata": {},
   "outputs": [
    {
     "data": {
      "text/plain": [
       "1.8333333333333333"
      ]
     },
     "execution_count": 32,
     "metadata": {},
     "output_type": "execute_result"
    }
   ],
   "source": [
    "sum(right_sum_counts) / len(right_sum_counts)"
   ]
  },
  {
   "cell_type": "code",
   "execution_count": 34,
   "id": "polished-profit",
   "metadata": {},
   "outputs": [
    {
     "data": {
      "text/plain": [
       "{'start': 74,\n",
       " 'end': 79,\n",
       " 'label': 1,\n",
       " 'type': 'PERSON',\n",
       " 'ent': 'David',\n",
       " 'prior': 0.00992584228515625,\n",
       " 'posterior': 0.94140625,\n",
       " 'id': 1513}"
      ]
     },
     "execution_count": 34,
     "metadata": {},
     "output_type": "execute_result"
    }
   ],
   "source": [
    "left_entities[1]"
   ]
  },
  {
   "cell_type": "code",
   "execution_count": null,
   "id": "quality-daisy",
   "metadata": {},
   "outputs": [],
   "source": []
  }
 ],
 "metadata": {
  "kernelspec": {
   "display_name": "Python 3",
   "language": "python",
   "name": "python3"
  },
  "language_info": {
   "codemirror_mode": {
    "name": "ipython",
    "version": 3
   },
   "file_extension": ".py",
   "mimetype": "text/x-python",
   "name": "python",
   "nbconvert_exporter": "python",
   "pygments_lexer": "ipython3",
   "version": "3.7.4"
  }
 },
 "nbformat": 4,
 "nbformat_minor": 5
}
