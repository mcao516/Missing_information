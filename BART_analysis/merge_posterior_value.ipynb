{
 "cells": [
  {
   "cell_type": "code",
   "execution_count": 1,
   "metadata": {},
   "outputs": [],
   "source": [
    "import pickle"
   ]
  },
  {
   "cell_type": "markdown",
   "metadata": {},
   "source": [
    "#### read pickles"
   ]
  },
  {
   "cell_type": "code",
   "execution_count": 2,
   "metadata": {},
   "outputs": [],
   "source": [
    "posterior_70000_90000 = pickle.load(open('posterior_70000_90000.pkl','rb'))"
   ]
  },
  {
   "cell_type": "code",
   "execution_count": 3,
   "metadata": {},
   "outputs": [],
   "source": [
    "posterior_90000_110000 = pickle.load(open('posterior_90000_110000.pkl','rb'))"
   ]
  },
  {
   "cell_type": "code",
   "execution_count": 4,
   "metadata": {},
   "outputs": [],
   "source": [
    "posterior_110000_130000 = pickle.load(open('posterior_110000_130000.pkl','rb'))"
   ]
  },
  {
   "cell_type": "code",
   "execution_count": 5,
   "metadata": {},
   "outputs": [],
   "source": [
    "posterior_130000_150000 = pickle.load(open('posterior_130000_150000.pkl','rb'))"
   ]
  },
  {
   "cell_type": "code",
   "execution_count": 6,
   "metadata": {},
   "outputs": [],
   "source": [
    "posterior_150000_170000 = pickle.load(open('posterior_150000_170000.pkl','rb'))"
   ]
  },
  {
   "cell_type": "code",
   "execution_count": 7,
   "metadata": {},
   "outputs": [],
   "source": [
    "posterior_170000_203575 = pickle.load(open('posterior_170000_203575.pkl','rb'))"
   ]
  },
  {
   "cell_type": "markdown",
   "metadata": {},
   "source": [
    "#### read .txt"
   ]
  },
  {
   "cell_type": "code",
   "execution_count": 8,
   "metadata": {},
   "outputs": [],
   "source": [
    "from tqdm import tqdm"
   ]
  },
  {
   "cell_type": "code",
   "execution_count": 9,
   "metadata": {},
   "outputs": [
    {
     "name": "stderr",
     "output_type": "stream",
     "text": [
      "98773it [00:00, 365621.58it/s]\n"
     ]
    }
   ],
   "source": [
    "posterior_98773 = []\n",
    "\n",
    "with open('posteriors.txt', 'r') as f:\n",
    "    for line in tqdm(f):\n",
    "        line = line.strip()\n",
    "        if 'None' in line:\n",
    "            posterior_98773.append(None)\n",
    "        else:\n",
    "            list_float = [float(i) for i in line[line.find('[') + 1: line.find(']')].split(', ')]\n",
    "            posterior_98773.append(list_float)"
   ]
  },
  {
   "cell_type": "markdown",
   "metadata": {},
   "source": [
    "#### merge"
   ]
  },
  {
   "cell_type": "code",
   "execution_count": 10,
   "metadata": {},
   "outputs": [],
   "source": [
    "posterior_70000_203575 = []\n",
    "\n",
    "posterior_70000_203575.extend(posterior_70000_90000)\n",
    "posterior_70000_203575.extend(posterior_90000_110000)\n",
    "posterior_70000_203575.extend(posterior_110000_130000)\n",
    "posterior_70000_203575.extend(posterior_130000_150000)\n",
    "posterior_70000_203575.extend(posterior_150000_170000)\n",
    "posterior_70000_203575.extend(posterior_170000_203575)"
   ]
  },
  {
   "cell_type": "code",
   "execution_count": 11,
   "metadata": {},
   "outputs": [
    {
     "data": {
      "text/plain": [
       "133575"
      ]
     },
     "execution_count": 11,
     "metadata": {},
     "output_type": "execute_result"
    }
   ],
   "source": [
    "len(posterior_70000_203575)"
   ]
  },
  {
   "cell_type": "code",
   "execution_count": 12,
   "metadata": {},
   "outputs": [
    {
     "name": "stdout",
     "output_type": "stream",
     "text": [
      "70000\n"
     ]
    }
   ],
   "source": [
    "all_posterior = posterior_98773[:70000]\n",
    "print(len(all_posterior))"
   ]
  },
  {
   "cell_type": "code",
   "execution_count": 13,
   "metadata": {},
   "outputs": [],
   "source": [
    "all_posterior.extend(posterior_70000_203575)"
   ]
  },
  {
   "cell_type": "code",
   "execution_count": 14,
   "metadata": {},
   "outputs": [
    {
     "data": {
      "text/plain": [
       "203575"
      ]
     },
     "execution_count": 14,
     "metadata": {},
     "output_type": "execute_result"
    }
   ],
   "source": [
    "len(all_posterior)"
   ]
  },
  {
   "cell_type": "code",
   "execution_count": 15,
   "metadata": {},
   "outputs": [
    {
     "data": {
      "text/plain": [
       "[0.89697265625,\n",
       " 0.94189453125,\n",
       " 0.0006298514207205841,\n",
       " 0.8556780815124512,\n",
       " 0.002288818359375]"
      ]
     },
     "execution_count": 15,
     "metadata": {},
     "output_type": "execute_result"
    }
   ],
   "source": [
    "all_posterior[-1]"
   ]
  },
  {
   "cell_type": "code",
   "execution_count": 16,
   "metadata": {},
   "outputs": [
    {
     "name": "stdout",
     "output_type": "stream",
     "text": [
      "[0.6473947795493586, 0.9013671875]\n",
      "[0.91015625]\n",
      "[0.72509765625, 0.87890625, 0.8158771805465221]\n",
      "[0.8419966697692871, 0.6644535064697266, 0.5305624008178711]\n",
      "[0.92529296875, 0.00521214128294023, 1.3289880348337293e-06]\n"
     ]
    }
   ],
   "source": [
    "print(all_posterior[69998])\n",
    "print(all_posterior[69999])\n",
    "print(all_posterior[70000])\n",
    "print(all_posterior[70001])\n",
    "print(all_posterior[70002])"
   ]
  },
  {
   "cell_type": "code",
   "execution_count": 17,
   "metadata": {},
   "outputs": [],
   "source": [
    "# 69998: [0.6473947795493586, 0.9013671875]\n",
    "# 69999: [0.91015625]\n",
    "# 70000: [0.7236328125, 0.87841796875, 0.8150450773537159]\n",
    "# 70001: [0.8438043594360352, 0.6644535064697266, 0.5310158729553223]\n",
    "# 70002: [0.92529296875, 0.005186129774026327, 1.3241932543322718e-06]"
   ]
  },
  {
   "cell_type": "code",
   "execution_count": 18,
   "metadata": {},
   "outputs": [],
   "source": [
    "with open(\"{}.pkl\".format('posteriors'), \"wb\") as fp:\n",
    "    pickle.dump(all_posterior, fp)"
   ]
  }
 ],
 "metadata": {
  "kernelspec": {
   "display_name": "Python 3",
   "language": "python",
   "name": "python3"
  },
  "language_info": {
   "codemirror_mode": {
    "name": "ipython",
    "version": 3
   },
   "file_extension": ".py",
   "mimetype": "text/x-python",
   "name": "python",
   "nbconvert_exporter": "python",
   "pygments_lexer": "ipython3",
   "version": "3.7.9"
  }
 },
 "nbformat": 4,
 "nbformat_minor": 4
}
